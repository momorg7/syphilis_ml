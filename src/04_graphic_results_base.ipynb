{
  "cells": [
    {
      "cell_type": "markdown",
      "metadata": {
        "id": "K_qCJqCp3SrY"
      },
      "source": [
        "#Imports"
      ]
    },
    {
      "cell_type": "code",
      "execution_count": null,
      "metadata": {
        "colab": {
          "base_uri": "https://localhost:8080/"
        },
        "id": "DScl7auM4SSQ",
        "outputId": "17df9a28-5c6d-4b13-eb26-44138c6d58d1"
      },
      "outputs": [
        {
          "name": "stdout",
          "output_type": "stream",
          "text": [
            "Collecting kaleido\n",
            "  Downloading kaleido-0.2.1-py2.py3-none-manylinux1_x86_64.whl (79.9 MB)\n",
            "\u001b[2K     \u001b[90m━━━━━━━━━━━━━━━━━━━━━━━━━━━━━━━━━━━━━━━━\u001b[0m \u001b[32m79.9/79.9 MB\u001b[0m \u001b[31m10.2 MB/s\u001b[0m eta \u001b[36m0:00:00\u001b[0m\n",
            "\u001b[?25hInstalling collected packages: kaleido\n",
            "\u001b[31mERROR: pip's dependency resolver does not currently take into account all the packages that are installed. This behaviour is the source of the following dependency conflicts.\n",
            "lida 0.0.10 requires fastapi, which is not installed.\n",
            "lida 0.0.10 requires python-multipart, which is not installed.\n",
            "lida 0.0.10 requires uvicorn, which is not installed.\u001b[0m\u001b[31m\n",
            "\u001b[0mSuccessfully installed kaleido-0.2.1\n"
          ]
        }
      ],
      "source": [
        "!pip install kaleido"
      ]
    },
    {
      "cell_type": "code",
      "execution_count": null,
      "metadata": {
        "id": "3MoTC1YG3PtK"
      },
      "outputs": [],
      "source": [
        "import pandas as pd\n",
        "import numpy as np\n",
        "import matplotlib.pyplot as plt\n",
        "import plotly.express as px\n",
        "import plotly.graph_objects as go\n",
        "\n",
        "from plotly.subplots import make_subplots\n",
        "\n",
        "from sklearn.neighbors import KNeighborsClassifier # models\n",
        "from sklearn.svm import SVC\n",
        "from sklearn.ensemble import RandomForestClassifier # tree models\n",
        "from sklearn.tree import DecisionTreeClassifier\n",
        "from sklearn.ensemble import GradientBoostingClassifier, AdaBoostClassifier\n",
        "from xgboost import XGBClassifier"
      ]
    },
    {
      "cell_type": "code",
      "execution_count": null,
      "metadata": {
        "colab": {
          "base_uri": "https://localhost:8080/"
        },
        "id": "2f_C8Aiy3XPB",
        "outputId": "927234a8-61e3-4ebe-f575-88b489526eb0"
      },
      "outputs": [
        {
          "name": "stdout",
          "output_type": "stream",
          "text": [
            "Mounted at /content/gdrive/\n"
          ]
        }
      ],
      "source": [
        "from google.colab import drive\n",
        "\n",
        "drive.mount('/content/gdrive/', force_remount=True)\n",
        "path = 'PATH_TO_DATASET_IN_DRIVE'"
      ]
    },
    {
      "cell_type": "markdown",
      "metadata": {
        "id": "EfRg6XL74ZQQ"
      },
      "source": [
        "#Functions"
      ]
    },
    {
      "cell_type": "code",
      "execution_count": null,
      "metadata": {
        "id": "F0IV5apA6VyD"
      },
      "outputs": [],
      "source": [
        "def verify_unnamed_in_base(base):\n",
        "  if base.columns[0] == 'Unnamed: 0': # verifying if the first collumn is bugged\n",
        "    base.drop(labels=['Unnamed: 0'], axis=1, inplace=True)\n",
        "  return base"
      ]
    },
    {
      "cell_type": "code",
      "execution_count": null,
      "metadata": {
        "id": "CPJcWU1G5dhi"
      },
      "outputs": [],
      "source": [
        "def return_bases_rus_sbc(type_undersampling, base_type, model_type, model_type_classe):\n",
        "  if base_type == 'base_total':\n",
        "    try:\n",
        "        best_base = pd.read_csv(path+'bases-pre-proc/base_moda_'+type_undersampling+'_NORMALIZADO.csv', sep=',')\n",
        "    except:\n",
        "      best_base = pd.read_csv(path+'bases-pre-proc/base_moda_'+type_undersampling+'.csv', sep=',')\n",
        "\n",
        "    if type_undersampling == 'random_under':\n",
        "      try:\n",
        "        best_results = pd.read_csv(path+'resultados/'+base_type+'/'+model_type+'/'+model_type+'_base_moda_'+type_undersampling+'_'+type_undersampling+'_NORMALIZADO.csv', sep=',')\n",
        "        best_grid = pd.read_csv(path+'resultados/'+base_type+'/'+model_type+'/best_grid/'+model_type+'_base_moda_'+type_undersampling+'_NORMALIZADO_MODELO.csv', sep=',')\n",
        "      except:\n",
        "        best_results = pd.read_csv(path+'resultados/'+base_type+'/'+model_type+'/'+model_type+'_base_moda_'+type_undersampling+'_NORMALIZADO_'+type_undersampling+'_NORMALIZADO.csv', sep=',')\n",
        "        best_grid = pd.read_csv(path+'resultados/'+base_type+'/'+model_type+'/best_grid/'+model_type+'_base_moda_'+type_undersampling+'_NORMALIZADO_MODELO.csv', sep=',')\n",
        "    elif type_undersampling == 'sbc':\n",
        "      try:\n",
        "        best_results = pd.read_csv(path+'resultados/'+base_type+'/'+model_type+'/'+model_type+'_base_moda_'+type_undersampling+'_'+type_undersampling+'.csv', sep=',')\n",
        "        best_grid = pd.read_csv(path+'resultados/'+base_type+'/'+model_type+'/best_grid/'+model_type+'_base_moda_'+type_undersampling+'_MODELO.csv', sep=',')\n",
        "      except:\n",
        "        best_results = pd.read_csv(path+'resultados/'+base_type+'/'+model_type+'/'+model_type+'_base_moda_'+type_undersampling+'_'+type_undersampling+'_NORMALIZADO.csv', sep=',')\n",
        "        best_grid = pd.read_csv(path+'resultados/'+base_type+'/'+model_type+'/best_grid/'+model_type+'_base_moda_'+type_undersampling+'_NORMALIZADO_MODELO.csv', sep=',')\n",
        "\n",
        "    best_base = verify_unnamed_in_base(best_base)\n",
        "    best_results = verify_unnamed_in_base(best_results)\n",
        "    best_grid = verify_unnamed_in_base(best_grid)\n",
        "  elif base_type == 'base_reduzida':\n",
        "    try:\n",
        "      best_base = pd.read_csv(path+'bases-pre-proc/base_moda_'+type_undersampling+'_RECORTE_FEITO_NORMALIZADO.csv', sep=',')\n",
        "    except:\n",
        "      best_base = pd.read_csv(path+'bases-pre-proc/base_moda_'+type_undersampling+'_RECORTE_FEITO.csv', sep=',')\n",
        "\n",
        "    if type_undersampling == 'random_under':\n",
        "      try:\n",
        "        best_results = pd.read_csv(path+'resultados/'+base_type+'/'+model_type+'/'+model_type+'_base_moda_'+type_undersampling+'_'+type_undersampling+'_RECORTE_FEITO_NORMALIZADO.csv', sep=',')\n",
        "        best_grid = pd.read_csv(path+'resultados/'+base_type+'/'+model_type+'/best_grid/'+model_type+'_base_moda_'+type_undersampling+'_RECORTE_FEITO_NORMALIZADO_MODELO.csv', sep=',')\n",
        "      except:\n",
        "        best_results = pd.read_csv(path+'resultados/'+base_type+'/'+model_type+'/'+model_type+'_base_moda_'+type_undersampling+'_RECORTE_FEITO_NORMALIZADO_'+type_undersampling+'_NORMALIZADO.csv', sep=',')\n",
        "        best_grid = pd.read_csv(path+'resultados/'+base_type+'/'+model_type+'/best_grid/'+model_type+'_base_moda_'+type_undersampling+'_RECORTE_FEITO_NORMALIZADO_MODELO.csv', sep=',')\n",
        "    elif type_undersampling == 'sbc':\n",
        "      try:\n",
        "        best_results = pd.read_csv(path+'resultados/'+base_type+'/'+model_type+'/'+model_type+'_base_moda_'+type_undersampling+'_RECORTE_FEITO_NORMALIZADO_'+type_undersampling+'_NORMALIZADO.csv', sep=',')\n",
        "        best_grid = pd.read_csv(path+'resultados/'+base_type+'/'+model_type+'/best_grid/'+model_type+'_base_moda_'+type_undersampling+'_RECORTE_FEITO_NORMALIZADO_MODELO.csv', sep=',')\n",
        "      except:\n",
        "        best_results = pd.read_csv(path+'resultados/'+base_type+'/'+model_type+'/'+model_type+'_base_moda_'+type_undersampling+'_'+type_undersampling+'_RECORTE_FEITO_NORMALIZADO_'+type_undersampling+'_NORMALIZADO.csv', sep=',')\n",
        "        best_grid = pd.read_csv(path+'resultados/'+base_type+'/'+model_type+'/best_grid/'+model_type+'_base_moda_'+type_undersampling+'_'+type_undersampling+'_RECORTE_FEITO_NORMALIZADO_MODELO.csv', sep=',')\n",
        "\n",
        "    #xgboost_base_moda_sbc_sbc_RECORTE_FEITO_NORMALIZADO_sbc_NORMALIZADO\n",
        "    best_base = verify_unnamed_in_base(best_base)\n",
        "    best_results = verify_unnamed_in_base(best_results)\n",
        "    best_grid = verify_unnamed_in_base(best_grid)\n",
        "\n",
        "  return best_base, best_results, best_grid"
      ]
    },
    {
      "cell_type": "code",
      "execution_count": null,
      "metadata": {
        "id": "M65STCbY6Ryk"
      },
      "outputs": [],
      "source": [
        "def get_best_auc_roc_near_miss(type_near_miss, base_type, model_type, type_undersampling):\n",
        "  neighbors = [3, 5, 7, 9, 11]\n",
        "  if base_type == 'base_total':\n",
        "    if (type_near_miss == '1') or (type_near_miss == '2'):\n",
        "      try: # first loop to get results and compare with others\n",
        "        best_results = pd.read_csv(path+'resultados/'+base_type+'/'+model_type+'/'+model_type+'_base_moda_'+type_undersampling+'_'+type_near_miss+'_k1_'+type_undersampling+'_NORMALIZADO.csv', sep=',')\n",
        "      except:\n",
        "        best_results = pd.read_csv(path+'resultados/'+base_type+'/'+model_type+'/'+model_type+'_base_moda_'+type_undersampling+'_'+type_near_miss+'_k1_NORMALIZADO_'+type_undersampling+'_NORMALIZADO.csv', sep=',')\n",
        "\n",
        "      auc_roc_max = best_results['AUC ROC'][0]\n",
        "      k_of_auc_roc_max = 1\n",
        "      base_with_bigger_auc_roc = best_results.copy()\n",
        "      best_base = pd.read_csv(path+'bases-pre-proc/base_moda_'+type_undersampling+'_'+type_near_miss+'_k1_NORMALIZADO.csv', sep=',')\n",
        "      best_grid = pd.read_csv(path+'resultados/'+base_type+'/'+model_type+'/best_grid/'+model_type+'_base_moda_'+type_undersampling+'_'+type_near_miss+'_k1_NORMALIZADO_MODELO.csv', sep=',')\n",
        "\n",
        "      for n in neighbors:\n",
        "        try:\n",
        "          best_results = pd.read_csv(path+'resultados/'+base_type+'/'+model_type+'/'+model_type+'_base_moda_'+type_undersampling+'_'+type_near_miss+'_k'+str(n)+'_'+type_undersampling+'_NORMALIZADO.csv', sep=',')\n",
        "        except:\n",
        "          best_results = pd.read_csv(path+'resultados/'+base_type+'/'+model_type+'/'+model_type+'_base_moda_'+type_undersampling+'_'+type_near_miss+'_k'+str(n)+'_NORMALIZADO_'+type_undersampling+'_NORMALIZADO.csv', sep=',')\n",
        "\n",
        "        if ((best_results['AUC ROC'][0]) > auc_roc_max):\n",
        "          auc_roc_max = best_results['AUC ROC'][0]\n",
        "          k_of_auc_roc_max = n # pegando o k\n",
        "          base_with_bigger_auc_roc = best_results.copy() # pegando a base\n",
        "          best_base = pd.read_csv(path+'bases-pre-proc/base_moda_'+type_undersampling+'_'+type_near_miss+'_k'+str(n)+'_NORMALIZADO.csv', sep=',')\n",
        "          best_grid = pd.read_csv(path+'resultados/'+base_type+'/'+model_type+'/best_grid/'+model_type+'_base_moda_'+type_undersampling+'_'+type_near_miss+'_k'+str(n)+'_NORMALIZADO_MODELO.csv', sep=',')\n",
        "\n",
        "        #print(best_results['AUC ROC'][0])\n",
        "    elif type_near_miss == '3':\n",
        "      try: # aqui executo o primeiro loop para pegar os resultados para comparar com os outros\n",
        "        best_results = pd.read_csv(path+'resultados/'+base_type+'/'+model_type+'/'+model_type+'_base_moda_'+type_undersampling+'_'+type_near_miss+'_k13_'+type_undersampling+'_NORMALIZADO.csv', sep=',')\n",
        "      except:\n",
        "        best_results = pd.read_csv(path+'resultados/'+base_type+'/'+model_type+'/'+model_type+'_base_moda_'+type_undersampling+'_'+type_near_miss+'_k13_NORMALIZADO_'+type_undersampling+'_NORMALIZADO.csv', sep=',')\n",
        "\n",
        "      auc_roc_max = best_results['AUC ROC'][0]\n",
        "      k_1_of_auc_roc_max = 1\n",
        "      k_2_of_auc_roc_max = 3\n",
        "      base_with_bigger_auc_roc = best_results.copy()\n",
        "      best_base = pd.read_csv(path+'bases-pre-proc/base_moda_'+type_undersampling+'_'+type_near_miss+'_k13_NORMALIZADO.csv', sep=',')\n",
        "      best_grid = pd.read_csv(path+'resultados/'+base_type+'/'+model_type+'/best_grid/'+model_type+'_base_moda_'+type_undersampling+'_'+type_near_miss+'_k13_NORMALIZADO_MODELO.csv', sep=',')\n",
        "\n",
        "      k_of_auc_roc_max = {\n",
        "          'k1': k_1_of_auc_roc_max,\n",
        "          'k2': k_2_of_auc_roc_max\n",
        "      }\n",
        "\n",
        "      neighbors_2 = [1, 3, 5, 7, 9, 11]\n",
        "\n",
        "      for n in neighbors_2:\n",
        "        for n2 in neighbors_2:\n",
        "          if n2 > n:\n",
        "            try:\n",
        "              best_results = pd.read_csv(path+'resultados/'+base_type+'/'+model_type+'/'+model_type+'_base_moda_'+type_undersampling+'_'+type_near_miss+'_k'+str(n)+str(n2)+'_'+type_undersampling+'_NORMALIZADO.csv', sep=',')\n",
        "            except:\n",
        "              best_results = pd.read_csv(path+'resultados/'+base_type+'/'+model_type+'/'+model_type+'_base_moda_'+type_undersampling+'_'+type_near_miss+'_k'+str(n)+str(n2)+'_NORMALIZADO_'+type_undersampling+'_NORMALIZADO.csv', sep=',')\n",
        "\n",
        "            if ((best_results['AUC ROC'][0]) > auc_roc_max):\n",
        "              auc_roc_max = best_results['AUC ROC'][0]\n",
        "              k_of_auc_roc_max = {\n",
        "                  'k1': n,\n",
        "                  'k2': n2\n",
        "              }\n",
        "              base_with_bigger_auc_roc = best_results.copy() # pegando a base\n",
        "              best_base = pd.read_csv(path+'bases-pre-proc/base_moda_'+type_undersampling+'_'+type_near_miss+'_k'+str(n)+str(n2)+'_NORMALIZADO.csv', sep=',')\n",
        "              best_grid = pd.read_csv(path+'resultados/'+base_type+'/'+model_type+'/best_grid/'+model_type+'_base_moda_'+type_undersampling+'_'+type_near_miss+'_k'+str(n)+str(n2)+'_NORMALIZADO_MODELO.csv', sep=',')\n",
        "  elif base_type == 'base_reduzida':\n",
        "    if (type_near_miss == '1') or (type_near_miss == '2'):\n",
        "      best_results = pd.read_csv(path+'resultados/'+base_type+'/'+model_type+'/'+model_type+'_base_moda_'+type_undersampling+'_'+type_near_miss+'_k1_RECORTE_FEITO_NORMALIZADO_'+type_undersampling+'_NORMALIZADO.csv', sep=',')\n",
        "\n",
        "      auc_roc_max = best_results['AUC ROC'][0]\n",
        "      k_of_auc_roc_max = 1\n",
        "      base_with_bigger_auc_roc = best_results.copy()\n",
        "      best_base = pd.read_csv(path+'bases-pre-proc/base_moda_'+type_undersampling+'_'+type_near_miss+'_k1_RECORTE_FEITO_NORMALIZADO.csv', sep=',')\n",
        "      best_grid = pd.read_csv(path+'resultados/'+base_type+'/'+model_type+'/best_grid/'+model_type+'_base_moda_'+type_undersampling+'_'+type_near_miss+'_k1_RECORTE_FEITO_NORMALIZADO_MODELO.csv', sep=',')\n",
        "\n",
        "      for n in neighbors:\n",
        "        try:\n",
        "          best_results = pd.read_csv(path+'resultados/'+base_type+'/'+model_type+'/'+model_type+'_base_moda_'+type_undersampling+'_'+type_near_miss+'_k'+str(n)+'_RECORTE_FEITO_'+type_undersampling+'_NORMALIZADO.csv', sep=',')\n",
        "        except:\n",
        "          best_results = pd.read_csv(path+'resultados/'+base_type+'/'+model_type+'/'+model_type+'_base_moda_'+type_undersampling+'_'+type_near_miss+'_k'+str(n)+'_RECORTE_FEITO_NORMALIZADO_'+type_undersampling+'_NORMALIZADO.csv', sep=',')\n",
        "\n",
        "        if ((best_results['AUC ROC'][0]) > auc_roc_max):\n",
        "          auc_roc_max = best_results['AUC ROC'][0]\n",
        "          k_of_auc_roc_max = n # pegando o k\n",
        "          base_with_bigger_auc_roc = best_results.copy() # pegando a base\n",
        "          best_base = pd.read_csv(path+'bases-pre-proc/base_moda_'+type_undersampling+'_'+type_near_miss+'_k'+str(n)+'_RECORTE_FEITO_NORMALIZADO.csv', sep=',')\n",
        "          best_grid = pd.read_csv(path+'resultados/'+base_type+'/'+model_type+'/best_grid/'+model_type+'_base_moda_'+type_undersampling+'_'+type_near_miss+'_k'+str(n)+'_RECORTE_FEITO_NORMALIZADO_MODELO.csv', sep=',')\n",
        "\n",
        "        #print(best_results['AUC ROC'][0])\n",
        "    elif type_near_miss == '3':\n",
        "      try: # aqui executo o primeiro loop para pegar os resultados para comparar com os outros\n",
        "        best_results = pd.read_csv(path+'resultados/'+base_type+'/'+model_type+'/'+model_type+'_base_moda_'+type_undersampling+'_'+type_near_miss+'_k13_RECORTE_FEITO'+type_undersampling+'_NORMALIZADO.csv', sep=',')\n",
        "      except:\n",
        "        best_results = pd.read_csv(path+'resultados/'+base_type+'/'+model_type+'/'+model_type+'_base_moda_'+type_undersampling+'_'+type_near_miss+'_k13_RECORTE_FEITO_NORMALIZADO_'+type_undersampling+'_NORMALIZADO.csv', sep=',')\n",
        "\n",
        "      auc_roc_max = best_results['AUC ROC'][0]\n",
        "      k_1_of_auc_roc_max = 1\n",
        "      k_2_of_auc_roc_max = 3\n",
        "      base_with_bigger_auc_roc = best_results.copy()\n",
        "      best_base = pd.read_csv(path+'bases-pre-proc/base_moda_'+type_undersampling+'_'+type_near_miss+'_k13_RECORTE_FEITO_NORMALIZADO.csv', sep=',')\n",
        "      best_grid = pd.read_csv(path+'resultados/'+base_type+'/'+model_type+'/best_grid/'+model_type+'_base_moda_'+type_undersampling+'_'+type_near_miss+'_k13_RECORTE_FEITO_NORMALIZADO_MODELO.csv', sep=',')\n",
        "\n",
        "      k_of_auc_roc_max = {\n",
        "          'k1': k_1_of_auc_roc_max,\n",
        "          'k2': k_2_of_auc_roc_max\n",
        "      }\n",
        "\n",
        "      neighbors_2 = [1, 3, 5, 7, 9, 11]\n",
        "\n",
        "      for n in neighbors_2:\n",
        "        for n2 in neighbors_2:\n",
        "          if n2 > n:\n",
        "            try:\n",
        "              best_results = pd.read_csv(path+'resultados/'+base_type+'/'+model_type+'/'+model_type+'_base_moda_'+type_undersampling+'_'+type_near_miss+'_k'+str(n)+str(n2)+'_RECORTE_FEITO_'+type_undersampling+'_NORMALIZADO.csv', sep=',')\n",
        "            except:\n",
        "              best_results = pd.read_csv(path+'resultados/'+base_type+'/'+model_type+'/'+model_type+'_base_moda_'+type_undersampling+'_'+type_near_miss+'_k'+str(n)+str(n2)+'_RECORTE_FEITO_NORMALIZADO_'+type_undersampling+'_NORMALIZADO.csv', sep=',')\n",
        "\n",
        "            if ((best_results['AUC ROC'][0]) > auc_roc_max):\n",
        "              auc_roc_max = best_results['AUC ROC'][0]\n",
        "              k_of_auc_roc_max = {\n",
        "                  'k1': n,\n",
        "                  'k2': n2\n",
        "              }\n",
        "              base_with_bigger_auc_roc = best_results.copy() # pegando a base\n",
        "              best_base = pd.read_csv(path+'bases-pre-proc/base_moda_'+type_undersampling+'_'+type_near_miss+'_k'+str(n)+str(n2)+'_RECORTE_FEITO_NORMALIZADO.csv', sep=',')\n",
        "              best_grid = pd.read_csv(path+'resultados/'+base_type+'/'+model_type+'/best_grid/'+model_type+'_base_moda_'+type_undersampling+'_'+type_near_miss+'_k'+str(n)+str(n2)+'_RECORTE_FEITO_NORMALIZADO_MODELO.csv', sep=',')\n",
        "\n",
        "\n",
        "  #print(best_base.iloc[1])\n",
        "  best_base = verify_unnamed_in_base(best_base)\n",
        "  base_with_bigger_auc_roc = verify_unnamed_in_base(base_with_bigger_auc_roc)\n",
        "  best_grid = verify_unnamed_in_base(best_grid)\n",
        "\n",
        "  #print(f'AUC ROC maxima: {auc_roc_max}\\nK: {k_of_auc_roc_max}\\nNearMiss:{type_near_miss}') # resultado final\n",
        "  return best_base, base_with_bigger_auc_roc, best_grid, k_of_auc_roc_max"
      ]
    },
    {
      "cell_type": "code",
      "execution_count": null,
      "metadata": {
        "id": "HidbG5lG8tnA"
      },
      "outputs": [],
      "source": [
        "def return_best_results_undersampling(base_t, model_name, model_class):\n",
        "  best_base, best_results_random_under, best_grid = return_bases_rus_sbc('random_under', base_t, model_name, model_class)\n",
        "  best_base, best_results_sbc, best_grid = return_bases_rus_sbc('sbc', base_t, model_name, model_class)\n",
        "  best_base, best_results_nm1, best_grid, k_of_auc_roc_max = get_best_auc_roc_near_miss('1', base_t, model_name, 'near_miss')\n",
        "  best_base, best_results_nm2, best_grid, k_of_auc_roc_max = get_best_auc_roc_near_miss('2', base_t, model_name, 'near_miss')\n",
        "  best_base, best_results_nm3, best_grid, k_of_auc_roc_max = get_best_auc_roc_near_miss('3', base_t, model_name, 'near_miss')\n",
        "\n",
        "  return best_results_random_under, best_results_sbc, best_results_nm1, best_results_nm2, best_results_nm3"
      ]
    },
    {
      "cell_type": "code",
      "execution_count": null,
      "metadata": {
        "id": "bkpTfEy5TWTT"
      },
      "outputs": [],
      "source": [
        "def filter_model_name(model_name):\n",
        "  if model_name == 'decision_tree':\n",
        "    return 'Decision Tree'\n",
        "  elif model_name == 'random_forest':\n",
        "    return 'Random Forest'\n",
        "  elif model_name == 'adaboost':\n",
        "    return 'AdaBoost'\n",
        "  elif model_name == 'gbm':\n",
        "    return 'GBM'\n",
        "  elif model_name == 'xgboost':\n",
        "    return 'XGBoost'\n",
        "  elif model_name == 'svm':\n",
        "    return 'SVM'\n",
        "  elif model_name == 'knn':\n",
        "    return 'KNN'"
      ]
    },
    {
      "cell_type": "code",
      "execution_count": null,
      "metadata": {
        "id": "9HZIdTGf-0kx"
      },
      "outputs": [],
      "source": [
        "def create_figure(best_results_random_under, best_results_sbc, best_results_nm1, best_results_nm2, best_results_nm3, base_t, model_name):\n",
        "  titulo = f'{filter_model_name(model_name)}'\n",
        "\n",
        "  figure = go.Figure(\n",
        "      #layout_title_text=f'{base_t} {model_name}'\n",
        "      layout_title_text=titulo\n",
        "  )\n",
        "  categories = ['Acurácia', 'Precisão', 'Sensibilidade', 'Especificidade', 'F1-score', 'AUC ROC', 'Acurácia']\n",
        "\n",
        "  figure.add_trace(go.Scatterpolar(\n",
        "      r=best_results_random_under,\n",
        "      theta=categories,\n",
        "      name='Random Undersampling'\n",
        "  ))\n",
        "\n",
        "  figure.add_trace(go.Scatterpolar(\n",
        "      r=best_results_sbc,\n",
        "      theta=categories,\n",
        "      name='SBC'\n",
        "  ))\n",
        "\n",
        "  figure.add_trace(go.Scatterpolar(\n",
        "      r=best_results_nm1,\n",
        "      theta=categories,\n",
        "      name='NearMiss-1'\n",
        "  ))\n",
        "\n",
        "  figure.add_trace(go.Scatterpolar(\n",
        "      r=best_results_nm2,\n",
        "      theta=categories,\n",
        "      name='NearMiss-2'\n",
        "  ))\n",
        "\n",
        "  figure.add_trace(go.Scatterpolar(\n",
        "      r=best_results_nm3,\n",
        "      theta=categories,\n",
        "      name='NearMiss-3'\n",
        "  ))\n",
        "\n",
        "  figure.update_layout(\n",
        "      polar=dict(\n",
        "          radialaxis=dict(\n",
        "              visible=True,\n",
        "              range=[0.0, 1.0]\n",
        "          )\n",
        "      ), showlegend=True\n",
        "  )\n",
        "\n",
        "  #figure.write_image(file=path+f'teste-restantes/images/grafico_radar/{titulo}.png')\n",
        "  #figure.show()\n",
        "  return figure, titulo"
      ]
    },
    {
      "cell_type": "code",
      "execution_count": null,
      "metadata": {
        "id": "ZK4OwIU13mXu"
      },
      "outputs": [],
      "source": [
        "def generate_graphics_results_undersampling():\n",
        "  #base_type = ['base_total', 'base_reduzida']\n",
        "  #base_type = ['base_reduzida']\n",
        "  base_type = ['base_total']\n",
        "  #cols_models = {'xgboost': XGBClassifier}\n",
        "  cols_models = {'decision_tree': DecisionTreeClassifier, 'random_forest': RandomForestClassifier,\n",
        "                  'adaboost': AdaBoostClassifier, 'gbm': GradientBoostingClassifier,\n",
        "                  'knn': KNeighborsClassifier, 'svm': SVC, 'xgboost': XGBClassifier} # generalize\n",
        "\n",
        "  for base_t in base_type:\n",
        "    for model_name in cols_models.keys():\n",
        "      best_results_random_under, best_results_sbc, best_results_nm1, best_results_nm2, best_results_nm3 = return_best_results_undersampling(base_t, model_name, cols_models[model_name])\n",
        "\n",
        "      best_results_random_under['accuracy_2'] = best_results_random_under['acuracia'].iloc[0] # so it can appear right\n",
        "      best_results_sbc['accuracy_2'] = best_results_sbc['acuracia'].iloc[0]\n",
        "      best_results_nm1['accuracy_2'] = best_results_nm1['acuracia'].iloc[0]\n",
        "      best_results_nm2['accuracy_2'] = best_results_nm2['acuracia'].iloc[0]\n",
        "      best_results_nm3['accuracy_2'] = best_results_nm3['acuracia'].iloc[0]\n",
        "\n",
        "      figure, titulo = create_figure(best_results_random_under.iloc[0], best_results_sbc.iloc[0], best_results_nm1.iloc[0],\n",
        "                    best_results_nm2.iloc[0], best_results_nm3.iloc[0], base_t, model_name)\n",
        "      #figure.write_image(file=path+f'teste-restantes/images/grafico_radar/{titulo}.png')"
      ]
    },
    {
      "cell_type": "code",
      "execution_count": null,
      "metadata": {
        "colab": {
          "base_uri": "https://localhost:8080/",
          "height": 542
        },
        "id": "YEHTc3T32iAI",
        "outputId": "72de4c89-2d05-4556-d59a-219d037395ed"
      },
      "outputs": [
        {
          "data": {
            "text/html": [
              "<html>\n",
              "<head><meta charset=\"utf-8\" /></head>\n",
              "<body>\n",
              "    <div>            <script src=\"https://cdnjs.cloudflare.com/ajax/libs/mathjax/2.7.5/MathJax.js?config=TeX-AMS-MML_SVG\"></script><script type=\"text/javascript\">if (window.MathJax && window.MathJax.Hub && window.MathJax.Hub.Config) {window.MathJax.Hub.Config({SVG: {font: \"STIX-Web\"}});}</script>                <script type=\"text/javascript\">window.PlotlyConfig = {MathJaxConfig: 'local'};</script>\n",
              "        <script charset=\"utf-8\" src=\"https://cdn.plot.ly/plotly-2.24.1.min.js\"></script>                <div id=\"cc960856-aad4-4bcd-9e8b-d8ca5d5ba843\" class=\"plotly-graph-div\" style=\"height:525px; width:100%;\"></div>            <script type=\"text/javascript\">                                    window.PLOTLYENV=window.PLOTLYENV || {};                                    if (document.getElementById(\"cc960856-aad4-4bcd-9e8b-d8ca5d5ba843\")) {                    Plotly.newPlot(                        \"cc960856-aad4-4bcd-9e8b-d8ca5d5ba843\",                        [{\"legendgroup\":\"Random Undersampling\",\"marker\":{\"color\":\"blue\"},\"name\":\"Random Undersampling\",\"r\":[53.09446254071661,53.07443365695793,53.420195439739416,52.76872964169381,53.246753246753244,53.09446254071661,53.09446254071661],\"theta\":[\"Acur\\u00e1cia\",\"Precis\\u00e3o\",\"Sensibilidade\",\"Especificidade\",\"F1-score\",\"AUC ROC\",\"Acur\\u00e1cia\"],\"type\":\"scatterpolar\",\"subplot\":\"polar\"},{\"legendgroup\":\"SBC\",\"marker\":{\"color\":\"red\"},\"name\":\"SBC\",\"r\":[64.65798045602605,61.25000000000001,79.80456026058633,49.5114006514658,69.3069306930693,64.65798045602607,64.65798045602605],\"theta\":[\"Acur\\u00e1cia\",\"Precis\\u00e3o\",\"Sensibilidade\",\"Especificidade\",\"F1-score\",\"AUC ROC\",\"Acur\\u00e1cia\"],\"type\":\"scatterpolar\",\"subplot\":\"polar\"},{\"legendgroup\":\"NearMiss-1\",\"marker\":{\"color\":\"green\"},\"name\":\"NearMiss-1\",\"r\":[90.87947882736157,100.0,81.75895765472313,100.0,89.96415770609319,90.87947882736157,90.87947882736157],\"theta\":[\"Acur\\u00e1cia\",\"Precis\\u00e3o\",\"Sensibilidade\",\"Especificidade\",\"F1-score\",\"AUC ROC\",\"Acur\\u00e1cia\"],\"type\":\"scatterpolar\",\"subplot\":\"polar\"},{\"legendgroup\":\"NearMiss-2\",\"marker\":{\"color\":\"purple\"},\"name\":\"NearMiss-2\",\"r\":[97.7198697068404,99.32659932659932,96.09120521172639,99.3485342019544,97.68211920529801,97.7198697068404,97.7198697068404],\"theta\":[\"Acur\\u00e1cia\",\"Precis\\u00e3o\",\"Sensibilidade\",\"Especificidade\",\"F1-score\",\"AUC ROC\",\"Acur\\u00e1cia\"],\"type\":\"scatterpolar\",\"subplot\":\"polar\"},{\"legendgroup\":\"NearMiss-3\",\"marker\":{\"color\":\"orange\"},\"name\":\"NearMiss-3\",\"r\":[90.71661237785015,94.64285714285714,86.31921824104235,95.11400651465797,90.28960817717204,90.71661237785015,90.71661237785015],\"theta\":[\"Acur\\u00e1cia\",\"Precis\\u00e3o\",\"Sensibilidade\",\"Especificidade\",\"F1-score\",\"AUC ROC\",\"Acur\\u00e1cia\"],\"type\":\"scatterpolar\",\"subplot\":\"polar\"},{\"legendgroup\":\"Random Undersampling\",\"marker\":{\"color\":\"blue\"},\"name\":\"Random Undersampling\",\"r\":[55.21172638436482,55.00000000000001,57.32899022801303,53.09446254071661,56.14035087719299,55.21172638436482,55.21172638436482],\"showlegend\":false,\"theta\":[\"Acur\\u00e1cia\",\"Precis\\u00e3o\",\"Sensibilidade\",\"Especificidade\",\"F1-score\",\"AUC ROC\",\"Acur\\u00e1cia\"],\"type\":\"scatterpolar\",\"subplot\":\"polar2\"},{\"legendgroup\":\"SBC\",\"marker\":{\"color\":\"red\"},\"name\":\"SBC\",\"r\":[63.51791530944625,62.69113149847095,66.77524429967427,60.26058631921825,64.66876971608832,63.51791530944626,63.51791530944625],\"showlegend\":false,\"theta\":[\"Acur\\u00e1cia\",\"Precis\\u00e3o\",\"Sensibilidade\",\"Especificidade\",\"F1-score\",\"AUC ROC\",\"Acur\\u00e1cia\"],\"type\":\"scatterpolar\",\"subplot\":\"polar2\"},{\"legendgroup\":\"NearMiss-1\",\"marker\":{\"color\":\"green\"},\"name\":\"NearMiss-1\",\"r\":[91.36807817589576,100.0,82.73615635179154,100.0,90.55258467023174,91.36807817589576,91.36807817589576],\"showlegend\":false,\"theta\":[\"Acur\\u00e1cia\",\"Precis\\u00e3o\",\"Sensibilidade\",\"Especificidade\",\"F1-score\",\"AUC ROC\",\"Acur\\u00e1cia\"],\"type\":\"scatterpolar\",\"subplot\":\"polar2\"},{\"legendgroup\":\"NearMiss-2\",\"marker\":{\"color\":\"purple\"},\"name\":\"NearMiss-2\",\"r\":[97.8827361563518,99.32885906040269,96.41693811074919,99.3485342019544,97.8512396694215,97.8827361563518,97.8827361563518],\"showlegend\":false,\"theta\":[\"Acur\\u00e1cia\",\"Precis\\u00e3o\",\"Sensibilidade\",\"Especificidade\",\"F1-score\",\"AUC ROC\",\"Acur\\u00e1cia\"],\"type\":\"scatterpolar\",\"subplot\":\"polar2\"},{\"legendgroup\":\"NearMiss-3\",\"marker\":{\"color\":\"orange\"},\"name\":\"NearMiss-3\",\"r\":[91.04234527687296,92.85714285714286,88.92508143322475,93.15960912052115,90.84858569051582,91.04234527687296,91.04234527687296],\"showlegend\":false,\"theta\":[\"Acur\\u00e1cia\",\"Precis\\u00e3o\",\"Sensibilidade\",\"Especificidade\",\"F1-score\",\"AUC ROC\",\"Acur\\u00e1cia\"],\"type\":\"scatterpolar\",\"subplot\":\"polar2\"},{\"legendgroup\":\"Random Undersampling\",\"marker\":{\"color\":\"blue\"},\"name\":\"Random Undersampling\",\"r\":[54.56026058631922,54.516129032258064,55.048859934853425,54.071661237785015,54.78119935170178,54.56026058631922,54.56026058631922],\"showlegend\":false,\"theta\":[\"Acur\\u00e1cia\",\"Precis\\u00e3o\",\"Sensibilidade\",\"Especificidade\",\"F1-score\",\"AUC ROC\",\"Acur\\u00e1cia\"],\"type\":\"scatterpolar\",\"subplot\":\"polar3\"},{\"legendgroup\":\"SBC\",\"marker\":{\"color\":\"red\"},\"name\":\"SBC\",\"r\":[63.19218241042345,62.616822429906534,65.47231270358306,60.91205211726385,64.01273885350318,63.19218241042345,63.19218241042345],\"showlegend\":false,\"theta\":[\"Acur\\u00e1cia\",\"Precis\\u00e3o\",\"Sensibilidade\",\"Especificidade\",\"F1-score\",\"AUC ROC\",\"Acur\\u00e1cia\"],\"type\":\"scatterpolar\",\"subplot\":\"polar3\"},{\"legendgroup\":\"NearMiss-1\",\"marker\":{\"color\":\"green\"},\"name\":\"NearMiss-1\",\"r\":[87.62214983713355,94.59459459459461,79.80456026058633,95.43973941368078,86.57243816254417,87.62214983713355,87.62214983713355],\"showlegend\":false,\"theta\":[\"Acur\\u00e1cia\",\"Precis\\u00e3o\",\"Sensibilidade\",\"Especificidade\",\"F1-score\",\"AUC ROC\",\"Acur\\u00e1cia\"],\"type\":\"scatterpolar\",\"subplot\":\"polar3\"},{\"legendgroup\":\"NearMiss-2\",\"marker\":{\"color\":\"purple\"},\"name\":\"NearMiss-2\",\"r\":[96.41693811074919,99.30795847750863,93.48534201954396,99.3485342019544,96.30872483221478,96.41693811074919,96.41693811074919],\"showlegend\":false,\"theta\":[\"Acur\\u00e1cia\",\"Precis\\u00e3o\",\"Sensibilidade\",\"Especificidade\",\"F1-score\",\"AUC ROC\",\"Acur\\u00e1cia\"],\"type\":\"scatterpolar\",\"subplot\":\"polar3\"},{\"legendgroup\":\"NearMiss-3\",\"marker\":{\"color\":\"orange\"},\"name\":\"NearMiss-3\",\"r\":[89.90228013029315,92.09621993127148,87.29641693811075,92.50814332247556,89.63210702341136,89.90228013029315,89.90228013029315],\"showlegend\":false,\"theta\":[\"Acur\\u00e1cia\",\"Precis\\u00e3o\",\"Sensibilidade\",\"Especificidade\",\"F1-score\",\"AUC ROC\",\"Acur\\u00e1cia\"],\"type\":\"scatterpolar\",\"subplot\":\"polar3\"},{\"legendgroup\":\"Random Undersampling\",\"marker\":{\"color\":\"blue\"},\"name\":\"Random Undersampling\",\"r\":[54.56026058631922,54.45859872611465,55.700325732899024,53.420195439739416,55.072463768115945,54.56026058631922,54.56026058631922],\"showlegend\":false,\"theta\":[\"Acur\\u00e1cia\",\"Precis\\u00e3o\",\"Sensibilidade\",\"Especificidade\",\"F1-score\",\"AUC ROC\",\"Acur\\u00e1cia\"],\"type\":\"scatterpolar\",\"subplot\":\"polar4\"},{\"legendgroup\":\"SBC\",\"marker\":{\"color\":\"red\"},\"name\":\"SBC\",\"r\":[64.00651465798045,63.69426751592356,65.14657980456026,62.866449511400646,64.4122383252818,64.00651465798045,64.00651465798045],\"showlegend\":false,\"theta\":[\"Acur\\u00e1cia\",\"Precis\\u00e3o\",\"Sensibilidade\",\"Especificidade\",\"F1-score\",\"AUC ROC\",\"Acur\\u00e1cia\"],\"type\":\"scatterpolar\",\"subplot\":\"polar4\"},{\"legendgroup\":\"NearMiss-1\",\"marker\":{\"color\":\"green\"},\"name\":\"NearMiss-1\",\"r\":[91.20521172638436,100.0,82.41042345276874,100.0,90.35714285714288,91.20521172638436,91.20521172638436],\"showlegend\":false,\"theta\":[\"Acur\\u00e1cia\",\"Precis\\u00e3o\",\"Sensibilidade\",\"Especificidade\",\"F1-score\",\"AUC ROC\",\"Acur\\u00e1cia\"],\"type\":\"scatterpolar\",\"subplot\":\"polar4\"},{\"legendgroup\":\"NearMiss-2\",\"marker\":{\"color\":\"purple\"},\"name\":\"NearMiss-2\",\"r\":[98.20846905537461,100.0,96.41693811074919,100.0,98.17578772802652,98.20846905537461,98.20846905537461],\"showlegend\":false,\"theta\":[\"Acur\\u00e1cia\",\"Precis\\u00e3o\",\"Sensibilidade\",\"Especificidade\",\"F1-score\",\"AUC ROC\",\"Acur\\u00e1cia\"],\"type\":\"scatterpolar\",\"subplot\":\"polar4\"},{\"legendgroup\":\"NearMiss-3\",\"marker\":{\"color\":\"orange\"},\"name\":\"NearMiss-3\",\"r\":[91.20521172638436,96.6789667896679,85.34201954397395,97.06840390879479,90.65743944636678,91.20521172638436,91.20521172638436],\"showlegend\":false,\"theta\":[\"Acur\\u00e1cia\",\"Precis\\u00e3o\",\"Sensibilidade\",\"Especificidade\",\"F1-score\",\"AUC ROC\",\"Acur\\u00e1cia\"],\"type\":\"scatterpolar\",\"subplot\":\"polar4\"},{\"legendgroup\":\"Random Undersampling\",\"marker\":{\"color\":\"blue\"},\"name\":\"Random Undersampling\",\"r\":[51.79153094462541,51.890034364261176,49.18566775244299,54.39739413680782,50.50167224080266,51.79153094462541,51.79153094462541],\"showlegend\":false,\"theta\":[\"Acur\\u00e1cia\",\"Precis\\u00e3o\",\"Sensibilidade\",\"Especificidade\",\"F1-score\",\"AUC ROC\",\"Acur\\u00e1cia\"],\"type\":\"scatterpolar\",\"subplot\":\"polar5\"},{\"legendgroup\":\"SBC\",\"marker\":{\"color\":\"red\"},\"name\":\"SBC\",\"r\":[63.19218241042345,63.91752577319587,60.586319218241044,65.79804560260585,62.207357859531776,63.192182410423456,63.19218241042345],\"showlegend\":false,\"theta\":[\"Acur\\u00e1cia\",\"Precis\\u00e3o\",\"Sensibilidade\",\"Especificidade\",\"F1-score\",\"AUC ROC\",\"Acur\\u00e1cia\"],\"type\":\"scatterpolar\",\"subplot\":\"polar5\"},{\"legendgroup\":\"NearMiss-1\",\"marker\":{\"color\":\"green\"},\"name\":\"NearMiss-1\",\"r\":[90.06514657980456,100.0,80.13029315960912,100.0,88.96925858951175,90.06514657980456,90.06514657980456],\"showlegend\":false,\"theta\":[\"Acur\\u00e1cia\",\"Precis\\u00e3o\",\"Sensibilidade\",\"Especificidade\",\"F1-score\",\"AUC ROC\",\"Acur\\u00e1cia\"],\"type\":\"scatterpolar\",\"subplot\":\"polar5\"},{\"legendgroup\":\"NearMiss-2\",\"marker\":{\"color\":\"purple\"},\"name\":\"NearMiss-2\",\"r\":[98.5342019543974,99.66666666666669,97.3941368078176,99.6742671009772,98.5172981878089,98.5342019543974,98.5342019543974],\"showlegend\":false,\"theta\":[\"Acur\\u00e1cia\",\"Precis\\u00e3o\",\"Sensibilidade\",\"Especificidade\",\"F1-score\",\"AUC ROC\",\"Acur\\u00e1cia\"],\"type\":\"scatterpolar\",\"subplot\":\"polar5\"},{\"legendgroup\":\"NearMiss-3\",\"marker\":{\"color\":\"orange\"},\"name\":\"NearMiss-3\",\"r\":[90.87947882736157,92.25589225589226,89.25081433224756,92.50814332247556,90.72847682119203,90.87947882736157,90.87947882736157],\"showlegend\":false,\"theta\":[\"Acur\\u00e1cia\",\"Precis\\u00e3o\",\"Sensibilidade\",\"Especificidade\",\"F1-score\",\"AUC ROC\",\"Acur\\u00e1cia\"],\"type\":\"scatterpolar\",\"subplot\":\"polar5\"},{\"legendgroup\":\"Random Undersampling\",\"marker\":{\"color\":\"blue\"},\"name\":\"Random Undersampling\",\"r\":[54.23452768729642,53.75722543352601,60.586319218241044,47.88273615635179,56.96784073506892,54.23452768729642,54.23452768729642],\"showlegend\":false,\"theta\":[\"Acur\\u00e1cia\",\"Precis\\u00e3o\",\"Sensibilidade\",\"Especificidade\",\"F1-score\",\"AUC ROC\",\"Acur\\u00e1cia\"],\"type\":\"scatterpolar\",\"subplot\":\"polar6\"},{\"legendgroup\":\"SBC\",\"marker\":{\"color\":\"red\"},\"name\":\"SBC\",\"r\":[64.33224755700326,59.28270042194092,91.53094462540716,37.13355048859935,71.95902688860436,64.33224755700326,64.33224755700326],\"showlegend\":false,\"theta\":[\"Acur\\u00e1cia\",\"Precis\\u00e3o\",\"Sensibilidade\",\"Especificidade\",\"F1-score\",\"AUC ROC\",\"Acur\\u00e1cia\"],\"type\":\"scatterpolar\",\"subplot\":\"polar6\"},{\"legendgroup\":\"NearMiss-1\",\"marker\":{\"color\":\"green\"},\"name\":\"NearMiss-1\",\"r\":[89.90228013029315,100.0,79.80456026058633,100.0,88.76811594202898,89.90228013029315,89.90228013029315],\"showlegend\":false,\"theta\":[\"Acur\\u00e1cia\",\"Precis\\u00e3o\",\"Sensibilidade\",\"Especificidade\",\"F1-score\",\"AUC ROC\",\"Acur\\u00e1cia\"],\"type\":\"scatterpolar\",\"subplot\":\"polar6\"},{\"legendgroup\":\"NearMiss-2\",\"marker\":{\"color\":\"purple\"},\"name\":\"NearMiss-2\",\"r\":[96.9055374592834,99.6551724137931,94.13680781758956,99.6742671009772,96.81742043551088,96.9055374592834,96.9055374592834],\"showlegend\":false,\"theta\":[\"Acur\\u00e1cia\",\"Precis\\u00e3o\",\"Sensibilidade\",\"Especificidade\",\"F1-score\",\"AUC ROC\",\"Acur\\u00e1cia\"],\"type\":\"scatterpolar\",\"subplot\":\"polar6\"},{\"legendgroup\":\"NearMiss-3\",\"marker\":{\"color\":\"orange\"},\"name\":\"NearMiss-3\",\"r\":[89.41368078175896,96.18320610687024,82.08469055374593,96.742671009772,88.57644991212655,89.41368078175896,89.41368078175896],\"showlegend\":false,\"theta\":[\"Acur\\u00e1cia\",\"Precis\\u00e3o\",\"Sensibilidade\",\"Especificidade\",\"F1-score\",\"AUC ROC\",\"Acur\\u00e1cia\"],\"type\":\"scatterpolar\",\"subplot\":\"polar6\"},{\"legendgroup\":\"Random Undersampling\",\"marker\":{\"color\":\"blue\"},\"name\":\"Random Undersampling\",\"r\":[54.23452768729642,53.779069767441854,60.26058631921825,48.20846905537459,56.83563748079876,54.23452768729642,54.23452768729642],\"showlegend\":false,\"theta\":[\"Acur\\u00e1cia\",\"Precis\\u00e3o\",\"Sensibilidade\",\"Especificidade\",\"F1-score\",\"AUC ROC\",\"Acur\\u00e1cia\"],\"type\":\"scatterpolar\",\"subplot\":\"polar7\"},{\"legendgroup\":\"SBC\",\"marker\":{\"color\":\"red\"},\"name\":\"SBC\",\"r\":[64.49511400651465,64.03785488958991,66.12377850162866,62.866449511400646,65.06410256410257,64.49511400651465,64.49511400651465],\"showlegend\":false,\"theta\":[\"Acur\\u00e1cia\",\"Precis\\u00e3o\",\"Sensibilidade\",\"Especificidade\",\"F1-score\",\"AUC ROC\",\"Acur\\u00e1cia\"],\"type\":\"scatterpolar\",\"subplot\":\"polar7\"},{\"legendgroup\":\"NearMiss-1\",\"marker\":{\"color\":\"green\"},\"name\":\"NearMiss-1\",\"r\":[88.92508143322475,100.0,77.85016286644951,100.0,87.54578754578756,88.92508143322475,88.92508143322475],\"showlegend\":false,\"theta\":[\"Acur\\u00e1cia\",\"Precis\\u00e3o\",\"Sensibilidade\",\"Especificidade\",\"F1-score\",\"AUC ROC\",\"Acur\\u00e1cia\"],\"type\":\"scatterpolar\",\"subplot\":\"polar7\"},{\"legendgroup\":\"NearMiss-2\",\"marker\":{\"color\":\"purple\"},\"name\":\"NearMiss-2\",\"r\":[97.7198697068404,99.66101694915255,95.76547231270358,99.6742671009772,97.67441860465115,97.7198697068404,97.7198697068404],\"showlegend\":false,\"theta\":[\"Acur\\u00e1cia\",\"Precis\\u00e3o\",\"Sensibilidade\",\"Especificidade\",\"F1-score\",\"AUC ROC\",\"Acur\\u00e1cia\"],\"type\":\"scatterpolar\",\"subplot\":\"polar7\"},{\"legendgroup\":\"NearMiss-3\",\"marker\":{\"color\":\"orange\"},\"name\":\"NearMiss-3\",\"r\":[90.71661237785015,96.29629629629628,84.69055374592834,96.742671009772,90.1213171577123,90.71661237785015,90.71661237785015],\"showlegend\":false,\"theta\":[\"Acur\\u00e1cia\",\"Precis\\u00e3o\",\"Sensibilidade\",\"Especificidade\",\"F1-score\",\"AUC ROC\",\"Acur\\u00e1cia\"],\"type\":\"scatterpolar\",\"subplot\":\"polar7\"}],                        {\"template\":{\"data\":{\"histogram2dcontour\":[{\"type\":\"histogram2dcontour\",\"colorbar\":{\"outlinewidth\":0,\"ticks\":\"\"},\"colorscale\":[[0.0,\"#0d0887\"],[0.1111111111111111,\"#46039f\"],[0.2222222222222222,\"#7201a8\"],[0.3333333333333333,\"#9c179e\"],[0.4444444444444444,\"#bd3786\"],[0.5555555555555556,\"#d8576b\"],[0.6666666666666666,\"#ed7953\"],[0.7777777777777778,\"#fb9f3a\"],[0.8888888888888888,\"#fdca26\"],[1.0,\"#f0f921\"]]}],\"choropleth\":[{\"type\":\"choropleth\",\"colorbar\":{\"outlinewidth\":0,\"ticks\":\"\"}}],\"histogram2d\":[{\"type\":\"histogram2d\",\"colorbar\":{\"outlinewidth\":0,\"ticks\":\"\"},\"colorscale\":[[0.0,\"#0d0887\"],[0.1111111111111111,\"#46039f\"],[0.2222222222222222,\"#7201a8\"],[0.3333333333333333,\"#9c179e\"],[0.4444444444444444,\"#bd3786\"],[0.5555555555555556,\"#d8576b\"],[0.6666666666666666,\"#ed7953\"],[0.7777777777777778,\"#fb9f3a\"],[0.8888888888888888,\"#fdca26\"],[1.0,\"#f0f921\"]]}],\"heatmap\":[{\"type\":\"heatmap\",\"colorbar\":{\"outlinewidth\":0,\"ticks\":\"\"},\"colorscale\":[[0.0,\"#0d0887\"],[0.1111111111111111,\"#46039f\"],[0.2222222222222222,\"#7201a8\"],[0.3333333333333333,\"#9c179e\"],[0.4444444444444444,\"#bd3786\"],[0.5555555555555556,\"#d8576b\"],[0.6666666666666666,\"#ed7953\"],[0.7777777777777778,\"#fb9f3a\"],[0.8888888888888888,\"#fdca26\"],[1.0,\"#f0f921\"]]}],\"heatmapgl\":[{\"type\":\"heatmapgl\",\"colorbar\":{\"outlinewidth\":0,\"ticks\":\"\"},\"colorscale\":[[0.0,\"#0d0887\"],[0.1111111111111111,\"#46039f\"],[0.2222222222222222,\"#7201a8\"],[0.3333333333333333,\"#9c179e\"],[0.4444444444444444,\"#bd3786\"],[0.5555555555555556,\"#d8576b\"],[0.6666666666666666,\"#ed7953\"],[0.7777777777777778,\"#fb9f3a\"],[0.8888888888888888,\"#fdca26\"],[1.0,\"#f0f921\"]]}],\"contourcarpet\":[{\"type\":\"contourcarpet\",\"colorbar\":{\"outlinewidth\":0,\"ticks\":\"\"}}],\"contour\":[{\"type\":\"contour\",\"colorbar\":{\"outlinewidth\":0,\"ticks\":\"\"},\"colorscale\":[[0.0,\"#0d0887\"],[0.1111111111111111,\"#46039f\"],[0.2222222222222222,\"#7201a8\"],[0.3333333333333333,\"#9c179e\"],[0.4444444444444444,\"#bd3786\"],[0.5555555555555556,\"#d8576b\"],[0.6666666666666666,\"#ed7953\"],[0.7777777777777778,\"#fb9f3a\"],[0.8888888888888888,\"#fdca26\"],[1.0,\"#f0f921\"]]}],\"surface\":[{\"type\":\"surface\",\"colorbar\":{\"outlinewidth\":0,\"ticks\":\"\"},\"colorscale\":[[0.0,\"#0d0887\"],[0.1111111111111111,\"#46039f\"],[0.2222222222222222,\"#7201a8\"],[0.3333333333333333,\"#9c179e\"],[0.4444444444444444,\"#bd3786\"],[0.5555555555555556,\"#d8576b\"],[0.6666666666666666,\"#ed7953\"],[0.7777777777777778,\"#fb9f3a\"],[0.8888888888888888,\"#fdca26\"],[1.0,\"#f0f921\"]]}],\"mesh3d\":[{\"type\":\"mesh3d\",\"colorbar\":{\"outlinewidth\":0,\"ticks\":\"\"}}],\"scatter\":[{\"fillpattern\":{\"fillmode\":\"overlay\",\"size\":10,\"solidity\":0.2},\"type\":\"scatter\"}],\"parcoords\":[{\"type\":\"parcoords\",\"line\":{\"colorbar\":{\"outlinewidth\":0,\"ticks\":\"\"}}}],\"scatterpolargl\":[{\"type\":\"scatterpolargl\",\"marker\":{\"colorbar\":{\"outlinewidth\":0,\"ticks\":\"\"}}}],\"bar\":[{\"error_x\":{\"color\":\"#2a3f5f\"},\"error_y\":{\"color\":\"#2a3f5f\"},\"marker\":{\"line\":{\"color\":\"#E5ECF6\",\"width\":0.5},\"pattern\":{\"fillmode\":\"overlay\",\"size\":10,\"solidity\":0.2}},\"type\":\"bar\"}],\"scattergeo\":[{\"type\":\"scattergeo\",\"marker\":{\"colorbar\":{\"outlinewidth\":0,\"ticks\":\"\"}}}],\"scatterpolar\":[{\"type\":\"scatterpolar\",\"marker\":{\"colorbar\":{\"outlinewidth\":0,\"ticks\":\"\"}}}],\"histogram\":[{\"marker\":{\"pattern\":{\"fillmode\":\"overlay\",\"size\":10,\"solidity\":0.2}},\"type\":\"histogram\"}],\"scattergl\":[{\"type\":\"scattergl\",\"marker\":{\"colorbar\":{\"outlinewidth\":0,\"ticks\":\"\"}}}],\"scatter3d\":[{\"type\":\"scatter3d\",\"line\":{\"colorbar\":{\"outlinewidth\":0,\"ticks\":\"\"}},\"marker\":{\"colorbar\":{\"outlinewidth\":0,\"ticks\":\"\"}}}],\"scattermapbox\":[{\"type\":\"scattermapbox\",\"marker\":{\"colorbar\":{\"outlinewidth\":0,\"ticks\":\"\"}}}],\"scatterternary\":[{\"type\":\"scatterternary\",\"marker\":{\"colorbar\":{\"outlinewidth\":0,\"ticks\":\"\"}}}],\"scattercarpet\":[{\"type\":\"scattercarpet\",\"marker\":{\"colorbar\":{\"outlinewidth\":0,\"ticks\":\"\"}}}],\"carpet\":[{\"aaxis\":{\"endlinecolor\":\"#2a3f5f\",\"gridcolor\":\"white\",\"linecolor\":\"white\",\"minorgridcolor\":\"white\",\"startlinecolor\":\"#2a3f5f\"},\"baxis\":{\"endlinecolor\":\"#2a3f5f\",\"gridcolor\":\"white\",\"linecolor\":\"white\",\"minorgridcolor\":\"white\",\"startlinecolor\":\"#2a3f5f\"},\"type\":\"carpet\"}],\"table\":[{\"cells\":{\"fill\":{\"color\":\"#EBF0F8\"},\"line\":{\"color\":\"white\"}},\"header\":{\"fill\":{\"color\":\"#C8D4E3\"},\"line\":{\"color\":\"white\"}},\"type\":\"table\"}],\"barpolar\":[{\"marker\":{\"line\":{\"color\":\"#E5ECF6\",\"width\":0.5},\"pattern\":{\"fillmode\":\"overlay\",\"size\":10,\"solidity\":0.2}},\"type\":\"barpolar\"}],\"pie\":[{\"automargin\":true,\"type\":\"pie\"}]},\"layout\":{\"autotypenumbers\":\"strict\",\"colorway\":[\"#636efa\",\"#EF553B\",\"#00cc96\",\"#ab63fa\",\"#FFA15A\",\"#19d3f3\",\"#FF6692\",\"#B6E880\",\"#FF97FF\",\"#FECB52\"],\"font\":{\"color\":\"#2a3f5f\"},\"hovermode\":\"closest\",\"hoverlabel\":{\"align\":\"left\"},\"paper_bgcolor\":\"white\",\"plot_bgcolor\":\"#E5ECF6\",\"polar\":{\"bgcolor\":\"#E5ECF6\",\"angularaxis\":{\"gridcolor\":\"white\",\"linecolor\":\"white\",\"ticks\":\"\"},\"radialaxis\":{\"gridcolor\":\"white\",\"linecolor\":\"white\",\"ticks\":\"\"}},\"ternary\":{\"bgcolor\":\"#E5ECF6\",\"aaxis\":{\"gridcolor\":\"white\",\"linecolor\":\"white\",\"ticks\":\"\"},\"baxis\":{\"gridcolor\":\"white\",\"linecolor\":\"white\",\"ticks\":\"\"},\"caxis\":{\"gridcolor\":\"white\",\"linecolor\":\"white\",\"ticks\":\"\"}},\"coloraxis\":{\"colorbar\":{\"outlinewidth\":0,\"ticks\":\"\"}},\"colorscale\":{\"sequential\":[[0.0,\"#0d0887\"],[0.1111111111111111,\"#46039f\"],[0.2222222222222222,\"#7201a8\"],[0.3333333333333333,\"#9c179e\"],[0.4444444444444444,\"#bd3786\"],[0.5555555555555556,\"#d8576b\"],[0.6666666666666666,\"#ed7953\"],[0.7777777777777778,\"#fb9f3a\"],[0.8888888888888888,\"#fdca26\"],[1.0,\"#f0f921\"]],\"sequentialminus\":[[0.0,\"#0d0887\"],[0.1111111111111111,\"#46039f\"],[0.2222222222222222,\"#7201a8\"],[0.3333333333333333,\"#9c179e\"],[0.4444444444444444,\"#bd3786\"],[0.5555555555555556,\"#d8576b\"],[0.6666666666666666,\"#ed7953\"],[0.7777777777777778,\"#fb9f3a\"],[0.8888888888888888,\"#fdca26\"],[1.0,\"#f0f921\"]],\"diverging\":[[0,\"#8e0152\"],[0.1,\"#c51b7d\"],[0.2,\"#de77ae\"],[0.3,\"#f1b6da\"],[0.4,\"#fde0ef\"],[0.5,\"#f7f7f7\"],[0.6,\"#e6f5d0\"],[0.7,\"#b8e186\"],[0.8,\"#7fbc41\"],[0.9,\"#4d9221\"],[1,\"#276419\"]]},\"xaxis\":{\"gridcolor\":\"white\",\"linecolor\":\"white\",\"ticks\":\"\",\"title\":{\"standoff\":15},\"zerolinecolor\":\"white\",\"automargin\":true,\"zerolinewidth\":2},\"yaxis\":{\"gridcolor\":\"white\",\"linecolor\":\"white\",\"ticks\":\"\",\"title\":{\"standoff\":15},\"zerolinecolor\":\"white\",\"automargin\":true,\"zerolinewidth\":2},\"scene\":{\"xaxis\":{\"backgroundcolor\":\"#E5ECF6\",\"gridcolor\":\"white\",\"linecolor\":\"white\",\"showbackground\":true,\"ticks\":\"\",\"zerolinecolor\":\"white\",\"gridwidth\":2},\"yaxis\":{\"backgroundcolor\":\"#E5ECF6\",\"gridcolor\":\"white\",\"linecolor\":\"white\",\"showbackground\":true,\"ticks\":\"\",\"zerolinecolor\":\"white\",\"gridwidth\":2},\"zaxis\":{\"backgroundcolor\":\"#E5ECF6\",\"gridcolor\":\"white\",\"linecolor\":\"white\",\"showbackground\":true,\"ticks\":\"\",\"zerolinecolor\":\"white\",\"gridwidth\":2}},\"shapedefaults\":{\"line\":{\"color\":\"#2a3f5f\"}},\"annotationdefaults\":{\"arrowcolor\":\"#2a3f5f\",\"arrowhead\":0,\"arrowwidth\":1},\"geo\":{\"bgcolor\":\"white\",\"landcolor\":\"#E5ECF6\",\"subunitcolor\":\"white\",\"showland\":true,\"showlakes\":true,\"lakecolor\":\"white\"},\"title\":{\"x\":0.05},\"mapbox\":{\"style\":\"light\"}}},\"polar\":{\"domain\":{\"x\":[0.0,0.1825],\"y\":[0.54,1.0]},\"radialaxis\":{\"visible\":true,\"range\":[0,100],\"linewidth\":0.1}},\"polar2\":{\"domain\":{\"x\":[0.27249999999999996,0.45499999999999996],\"y\":[0.54,1.0]}},\"polar3\":{\"domain\":{\"x\":[0.5449999999999999,0.7274999999999999],\"y\":[0.54,1.0]}},\"polar4\":{\"domain\":{\"x\":[0.8175,1.0],\"y\":[0.54,1.0]}},\"polar5\":{\"domain\":{\"x\":[0.0,0.1825],\"y\":[0.0,0.46]}},\"polar6\":{\"domain\":{\"x\":[0.27249999999999996,0.45499999999999996],\"y\":[0.0,0.46]}},\"polar7\":{\"domain\":{\"x\":[0.5449999999999999,0.7274999999999999],\"y\":[0.0,0.46]}},\"polar8\":{\"domain\":{\"x\":[0.8175,1.0],\"y\":[0.0,0.46]}},\"annotations\":[{\"font\":{\"size\":14},\"showarrow\":false,\"text\":\"\\u003cb\\u003eDecision Tree\\u003c\\u002fb\\u003e\",\"x\":0.09125,\"xanchor\":\"center\",\"xref\":\"paper\",\"y\":1.0,\"yanchor\":\"bottom\",\"yref\":\"paper\"},{\"font\":{\"size\":14},\"showarrow\":false,\"text\":\"\\u003cb\\u003eRandom Forest\\u003c\\u002fb\\u003e\",\"x\":0.36374999999999996,\"xanchor\":\"center\",\"xref\":\"paper\",\"y\":1.0,\"yanchor\":\"bottom\",\"yref\":\"paper\"},{\"font\":{\"size\":14},\"showarrow\":false,\"text\":\"\\u003cb\\u003eAdaBoost\\u003c\\u002fb\\u003e\",\"x\":0.63625,\"xanchor\":\"center\",\"xref\":\"paper\",\"y\":1.0,\"yanchor\":\"bottom\",\"yref\":\"paper\"},{\"font\":{\"size\":14},\"showarrow\":false,\"text\":\"\\u003cb\\u003eGBM\\u003c\\u002fb\\u003e\",\"x\":0.90875,\"xanchor\":\"center\",\"xref\":\"paper\",\"y\":1.0,\"yanchor\":\"bottom\",\"yref\":\"paper\"},{\"font\":{\"size\":14},\"showarrow\":false,\"text\":\"\\u003cb\\u003eKNN\\u003c\\u002fb\\u003e\",\"x\":0.09125,\"xanchor\":\"center\",\"xref\":\"paper\",\"y\":0.46,\"yanchor\":\"bottom\",\"yref\":\"paper\"},{\"font\":{\"size\":14},\"showarrow\":false,\"text\":\"\\u003cb\\u003eSVM\\u003c\\u002fb\\u003e\",\"x\":0.36374999999999996,\"xanchor\":\"center\",\"xref\":\"paper\",\"y\":0.46,\"yanchor\":\"bottom\",\"yref\":\"paper\"},{\"font\":{\"size\":14},\"showarrow\":false,\"text\":\"\\u003cb\\u003eXGBoost\\u003c\\u002fb\\u003e\",\"x\":0.63625,\"xanchor\":\"center\",\"xref\":\"paper\",\"y\":0.46,\"yanchor\":\"bottom\",\"yref\":\"paper\"}],\"legend\":{\"x\":0.8,\"y\":0.0},\"font\":{\"size\":12,\"color\":\"black\",\"family\":\"Helvetica\"}},                        {\"responsive\": true}                    ).then(function(){\n",
              "                            \n",
              "var gd = document.getElementById('cc960856-aad4-4bcd-9e8b-d8ca5d5ba843');\n",
              "var x = new MutationObserver(function (mutations, observer) {{\n",
              "        var display = window.getComputedStyle(gd).display;\n",
              "        if (!display || display === 'none') {{\n",
              "            console.log([gd, 'removed!']);\n",
              "            Plotly.purge(gd);\n",
              "            observer.disconnect();\n",
              "        }}\n",
              "}});\n",
              "\n",
              "// Listen for the removal of the full notebook cells\n",
              "var notebookContainer = gd.closest('#notebook-container');\n",
              "if (notebookContainer) {{\n",
              "    x.observe(notebookContainer, {childList: true});\n",
              "}}\n",
              "\n",
              "// Listen for the clearing of the current output cell\n",
              "var outputEl = gd.closest('.output');\n",
              "if (outputEl) {{\n",
              "    x.observe(outputEl, {childList: true});\n",
              "}}\n",
              "\n",
              "                        })                };                            </script>        </div>\n",
              "</body>\n",
              "</html>"
            ]
          },
          "metadata": {},
          "output_type": "display_data"
        }
      ],
      "source": [
        "def generate_graphics_results_undersampling_all_in_one():\n",
        "  base_type = ['base_total']\n",
        "  #cols_models = {'xgboost': XGBClassifier, 'decision_tree': DecisionTreeClassifier,}\n",
        "  cols_models = {'decision_tree': DecisionTreeClassifier, 'random_forest': RandomForestClassifier, 'adaboost': AdaBoostClassifier,\n",
        "                  'gbm': GradientBoostingClassifier, 'knn': KNeighborsClassifier, 'svm': SVC, 'xgboost': XGBClassifier} # generalize\n",
        "\n",
        "  easier_names = []\n",
        "  for prov_name in cols_models.keys():\n",
        "    easier_names.append(filter_model_name(prov_name))\n",
        "\n",
        "  easier_names_bold = []\n",
        "  for names_f in easier_names:\n",
        "    easier_names_bold.append('<b>'+names_f+'</b>') # turning into bold\n",
        "\n",
        "  number_cols_ms = 4\n",
        "  number_lines_ms = 2 # coloquei o bold em baixo\n",
        "  fig = make_subplots(rows=number_lines_ms, cols=number_cols_ms, specs=[ [{'type': 'polar'}]*number_cols_ms,\n",
        "   [{'type': 'polar'}]*number_cols_ms ], subplot_titles=easier_names_bold, horizontal_spacing=0.09, vertical_spacing=0.08) # criando a figura\n",
        "  #categories = ['Acurácia', 'Precisão', 'Sensibilidade', 'Especificidade', 'F1-score', 'AUC ROC', 'Acurácia'] # portugues\n",
        "  categories = ['Accuracy', 'Precision', 'Sensitivity', 'Specificity', 'F1-score', 'AUC ROC', 'Accuracy'] # engrish\n",
        "  count_row=1\n",
        "  count_col=1\n",
        "  show_subtitle = None\n",
        "\n",
        "  for base_t in base_type:\n",
        "    for model_name in cols_models.keys():\n",
        "      if count_col > 4:\n",
        "        count_row = 2\n",
        "        count_col = 1\n",
        "\n",
        "      best_results_random_under, best_results_sbc, best_results_nm1, best_results_nm2, best_results_nm3 = return_best_results_undersampling(base_t, model_name, cols_models[model_name])\n",
        "      best_results_random_under=best_results_random_under*100\n",
        "      best_results_sbc=best_results_sbc*100\n",
        "      best_results_nm1=best_results_nm1*100\n",
        "      best_results_nm2=best_results_nm2*100\n",
        "      best_results_nm3=best_results_nm3*100\n",
        "\n",
        "      best_results_random_under['accuracy_2'] = best_results_random_under['acuracia'].iloc[0] # para poder aparecer direito no grafico\n",
        "      best_results_sbc['accuracy_2'] = best_results_sbc['acuracia'].iloc[0]\n",
        "      best_results_nm1['accuracy_2'] = best_results_nm1['acuracia'].iloc[0]\n",
        "      best_results_nm2['accuracy_2'] = best_results_nm2['acuracia'].iloc[0]\n",
        "      best_results_nm3['accuracy_2'] = best_results_nm3['acuracia'].iloc[0]\n",
        "\n",
        "      if count_col>1:\n",
        "        show_subtitle=False\n",
        "\n",
        "      fig.add_trace(go.Scatterpolar(r=best_results_random_under.iloc[0], theta=categories, name='Random Undersampling', marker=dict(color='blue'),\n",
        "                                    showlegend=show_subtitle, legendgroup='Random Undersampling'), row=count_row, col=count_col)\n",
        "      fig.add_trace(go.Scatterpolar(r=best_results_sbc.iloc[0], theta=categories, name='SBC', showlegend=show_subtitle, marker=dict(color='red'),\n",
        "                                    legendgroup='SBC'), row=count_row, col=count_col)\n",
        "      fig.add_trace(go.Scatterpolar(r=best_results_nm1.iloc[0], theta=categories, name='NearMiss-1', showlegend=show_subtitle, marker=dict(color='green'),\n",
        "                                    legendgroup='NearMiss-1'), row=count_row, col=count_col)\n",
        "      fig.add_trace(go.Scatterpolar(r=best_results_nm2.iloc[0], theta=categories, name='NearMiss-2', showlegend=show_subtitle, marker=dict(color='purple'),\n",
        "                                    legendgroup='NearMiss-2'), row=count_row, col=count_col)\n",
        "      fig.add_trace(go.Scatterpolar(r=best_results_nm3.iloc[0], theta=categories, name='NearMiss-3', showlegend=show_subtitle, marker=dict(color='orange'),\n",
        "                                    legendgroup='NearMiss-3'), row=count_row, col=count_col)\n",
        "\n",
        "      '''fig.update_layout(polar=dict(radialaxis=dict(visible=True, range=[0.0, 1.0], linewidth=0.1)), legend=dict(x=0.8, y=0.0),\n",
        "                        font=dict(size=10.5))'''\n",
        "      fig.update_layout(polar=dict(radialaxis=dict(visible=True, range=[0, 100], linewidth=0.1)), legend=dict(x=0.8, y=0.0),\n",
        "                        #font=dict(size=10.5))\n",
        "                        font=dict(size=12, color='black', family='Helvetica'))\n",
        "      #, showlegend=True)\n",
        "      #fig.update_polars(radialaxis_categoryorder=\"array\", radialaxis_categoryarray=[\"0%\", \"20%\", \"40%\", \"60%\", \"80%\", \"100%\"])\n",
        "\n",
        "      fig.update_annotations(font_size=14)\n",
        "      count_col = count_col+1\n",
        "  fig.show()\n",
        "  #fig.write_image(file=path+f'teste-restantes/images/grafico_radar/teste_todos.png')\n",
        "\n",
        "generate_graphics_results_undersampling_all_in_one() # ver ecra inteiro, download plot as png"
      ]
    },
    {
      "cell_type": "code",
      "execution_count": null,
      "metadata": {
        "id": "wpDLbJQJZ1Cy"
      },
      "outputs": [],
      "source": [
        "def create_figure_all(vetor_com_figuras):\n",
        "  fig = make_subplots(rows=1, cols=1, specs=[ [{'type': 'polar'}] ])\n",
        "\n",
        "  '''fig = fig.add_trace(vetor_com_figuras[0].data[0], row=1, col=1)\n",
        "  fig = fig.add_trace(vetor_com_figuras[0].data[1], row=1, col=1)\n",
        "  fig = fig.add_trace(vetor_com_figuras[0].data[2], row=1, col=1)'''\n",
        "\n",
        "  for data_len in range(0, len(vetor_com_figuras[0].data)): \n",
        "    fig = fig.add_trace(vetor_com_figuras[0].data[data_len], row=1, col=1)\n",
        "\n",
        "  fig.show()"
      ]
    },
    {
      "cell_type": "code",
      "execution_count": null,
      "metadata": {
        "id": "SchwKOBP5GUo"
      },
      "outputs": [],
      "source": [
        "generate_graphics_results_undersampling()"
      ]
    },
    {
      "cell_type": "code",
      "execution_count": null,
      "metadata": {
        "id": "UFF_uIta5I-l"
      },
      "outputs": [],
      "source": []
    }
  ],
  "metadata": {
    "colab": {
      "provenance": []
    },
    "kernelspec": {
      "display_name": "Python 3",
      "name": "python3"
    },
    "language_info": {
      "name": "python"
    }
  },
  "nbformat": 4,
  "nbformat_minor": 0
}
