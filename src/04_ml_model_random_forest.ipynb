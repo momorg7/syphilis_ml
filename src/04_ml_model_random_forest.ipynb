{
  "cells": [
    {
      "cell_type": "markdown",
      "metadata": {
        "id": "xTLDRZ0Ngjia"
      },
      "source": [
        "#Imports\n",
        "\n",
        "1.   Needed packages\n",
        "2.   Google Drive connection\n",
        "3.   Definition of the model and Grid Search hyperparams\n",
        "\n"
      ]
    },
    {
      "cell_type": "code",
      "execution_count": null,
      "metadata": {
        "colab": {
          "base_uri": "https://localhost:8080/"
        },
        "id": "z5k8hjw9gzE3",
        "outputId": "ecd02576-6d04-4fdf-d8e8-f99bd847a145"
      },
      "outputs": [
        {
          "name": "stdout",
          "output_type": "stream",
          "text": [
            "Looking in indexes: https://pypi.org/simple, https://us-python.pkg.dev/colab-wheels/public/simple/\n",
            "Collecting kaleido\n",
            "  Downloading kaleido-0.2.1-py2.py3-none-manylinux1_x86_64.whl (79.9 MB)\n",
            "\u001b[2K     \u001b[90m━━━━━━━━━━━━━━━━━━━━━━━━━━━━━━━━━━━━━━━━\u001b[0m \u001b[32m79.9/79.9 MB\u001b[0m \u001b[31m7.2 MB/s\u001b[0m eta \u001b[36m0:00:00\u001b[0m\n",
            "\u001b[?25hInstalling collected packages: kaleido\n",
            "Successfully installed kaleido-0.2.1\n"
          ]
        }
      ],
      "source": [
        "!pip install -U kaleido # instalations"
      ]
    },
    {
      "cell_type": "code",
      "execution_count": null,
      "metadata": {
        "id": "4oIE7NAHf7gm"
      },
      "outputs": [],
      "source": [
        "import pandas as pd # librarys\n",
        "import numpy as np\n",
        "import matplotlib.pyplot as plt\n",
        "import plotly.express as px\n",
        "from sklearn import metrics\n",
        "from sklearn.model_selection import train_test_split, GridSearchCV\n",
        "from sklearn.metrics import classification_report, ConfusionMatrixDisplay, confusion_matrix\n",
        "from collections import Counter"
      ]
    },
    {
      "cell_type": "code",
      "execution_count": null,
      "metadata": {
        "colab": {
          "base_uri": "https://localhost:8080/"
        },
        "id": "Cx0KoK_KkPWX",
        "outputId": "e19823fe-989c-401b-a582-3be8ed1bf320"
      },
      "outputs": [
        {
          "name": "stdout",
          "output_type": "stream",
          "text": [
            "Mounted at /content/gdrive\n"
          ]
        }
      ],
      "source": [
        "from google.colab import drive # drive connection\n",
        "\n",
        "drive.mount('/content/gdrive', force_remount=True)\n",
        "path = 'PATH_TO_DATASET_IN_DRIVE'"
      ]
    },
    {
      "cell_type": "code",
      "execution_count": null,
      "metadata": {
        "id": "pIofU634g0Al"
      },
      "outputs": [],
      "source": [
        "from sklearn.ensemble import RandomForestClassifier # model\n",
        "model_used_name = 'random_forest'\n",
        "\n",
        "param_grid = [\n",
        "    {\n",
        "        'n_estimators':[50, 100, 500, 1000],\n",
        "        'criterion': ['gini', 'entropy'],\n",
        "        'bootstrap': [True, False],\n",
        "        'min_samples_split': [2, 5, 7, 9],\n",
        "        'max_features': ['sqrt', 'log2', None],\n",
        "        'min_samples_leaf':[1, 3, 5, 7, 9],\n",
        "        'warm_start': [True, False],\n",
        "        'random_state': [42]\n",
        "    }\n",
        "]"
      ]
    },
    {
      "cell_type": "markdown",
      "metadata": {
        "id": "iAsvQT_2jyAN"
      },
      "source": [
        "#Functions definition"
      ]
    },
    {
      "cell_type": "code",
      "execution_count": null,
      "metadata": {
        "id": "A2fSTo8MgzcF"
      },
      "outputs": [],
      "source": [
        "def read_base(name_path, folder_name, name_name): # read the folder\n",
        "  base = pd.read_csv(name_path+folder_name+name_name+'.csv', sep=',')\n",
        "  return base"
      ]
    },
    {
      "cell_type": "code",
      "execution_count": null,
      "metadata": {
        "id": "GoXJ-HaiX9Mp"
      },
      "outputs": [],
      "source": [
        "def define_metrics(true_n, false_p, false_n, true_p, y_test, y_prediction):\n",
        "  acc = (true_p+true_n)/(true_p+true_n+false_p+false_n)\n",
        "  prec = (true_p)/(true_p+false_p)\n",
        "  rec = (true_p)/(true_p+false_n)\n",
        "  spec = (true_n)/(true_n+false_p)\n",
        "  f1 = ((2*(prec*rec))/(prec+rec))\n",
        "  auc_roc = metrics.roc_auc_score(y_test, y_prediction)\n",
        "\n",
        "  return acc, prec, rec, spec, f1, auc_roc"
      ]
    },
    {
      "cell_type": "code",
      "execution_count": null,
      "metadata": {
        "id": "dm-ub64tnMln"
      },
      "outputs": [],
      "source": [
        "def apply_grid_model(pre_processed_base, ml_model, params_grid):\n",
        "  X = pre_processed_base.drop(labels=['mc_cri_vdrl'], axis=1, inplace=False) # selecting x\n",
        "  y = pre_processed_base['mc_cri_vdrl']\n",
        "\n",
        "  X_train, X_test, y_train, y_test = train_test_split(X, y, test_size=0.3, random_state=42, stratify=y) # train and test division\n",
        "  print('Training class:', Counter(y_train))\n",
        "  print('Test class:', Counter(y_test))\n",
        "\n",
        "  #ml_model = ml_model()\n",
        "  model_grid = GridSearchCV(estimator=ml_model(), param_grid=params_grid, cv=5, scoring='roc_auc', n_jobs=-1)\n",
        "  model_grid.fit(X_train, y_train)\n",
        "\n",
        "  print(f'Best score: {model_grid.best_score_}')\n",
        "  print(f'Best params: {model_grid.best_params_}')\n",
        "\n",
        "  modelo = model_grid.best_estimator_\n",
        "  y_pred = modelo.predict(X_test)\n",
        "\n",
        "  met_hip = metrics.confusion_matrix(y_test, y_pred)\n",
        "  tn, fp, fn, tp = met_hip.ravel()\n",
        "  acc, prec, rec, spec, f1, auc_roc = define_metrics(tn, fp, fn, tp, y_test, y_pred)\n",
        "  print(f'\\nAcuraccy: {acc} | Precision: {prec} | Sensitivity: {rec}')\n",
        "  print(f'Specificity: {spec} | F1-score: {f1} | AUC ROC: {auc_roc}\\n')\n",
        "\n",
        "  print(classification_report(y_test, y_pred))\n",
        "\n",
        "  cm = confusion_matrix(y_test, y_pred, labels=modelo.classes_)\n",
        "  disp = ConfusionMatrixDisplay(confusion_matrix=cm, display_labels=modelo.classes_)\n",
        "  disp.plot(cmap='Blues')\n",
        "  plt.show()\n",
        "\n",
        "  hiperparams_best_model = pd.DataFrame(model_grid.best_params_, index=[0])\n",
        "  hiperparams_best_model.to_csv(path+pasta_1+pasta_2+modelo_pasta+'best_grid/'+nome_modelo+nome+'_MODELO.csv')\n",
        "  print(hiperparams_best_model)\n",
        "\n",
        "  evaluation_metrics = pd.DataFrame(dict({\n",
        "      'accuracy': [acc], 'Precision': [prec], 'Sensitivity': [rec], 'Specificity': [spec], 'f1-score': [f1], 'AUC ROC': [auc_roc]\n",
        "  }))\n",
        "  evaluation_metrics.to_csv(path+pasta_1+pasta_2+modelo_pasta+nome_modelo+nome+tipo_teste+'.csv')\n",
        "\n",
        "  print(evaluation_metrics.head())\n",
        "\n",
        "  metrics_graph = pd.DataFrame(dict(\n",
        "      r=[acc, prec, rec, spec, f1, auc_roc],\n",
        "      theta=['Acuraccy', 'Precision', 'Sensitivity', 'Specificity',\n",
        "          'F1-score', 'AUC ROC']\n",
        "  ))\n",
        "\n",
        "  fig_graphic_metrics = px.line_polar(metrics_graph, r='r', theta='theta', line_close=True, range_r=[0.0, 1.0])\n",
        "  fig_graphic_metrics.show()\n",
        "\n",
        "  fig_graphic_metrics.write_image(file=path+pasta_1+pasta_2+modelo_pasta+nome_modelo+nome+tipo_teste+'.png')"
      ]
    },
    {
      "cell_type": "markdown",
      "metadata": {
        "id": "ORFsDBxPj3cI"
      },
      "source": [
        "#Loading\n",
        "\n",
        "1.   Folders\n",
        "2.   Database\n",
        "\n"
      ]
    },
    {
      "cell_type": "code",
      "execution_count": null,
      "metadata": {
        "id": "IvV2B5PFhfbH"
      },
      "outputs": [],
      "source": [
        "pasta = 'bases-pre-proc/'\n",
        "tec_imp = 'moda_'\n",
        "\n",
        "#tec_bal = 'random_under' # Balancing tecnique\n",
        "#tec_bal = 'near_miss_1_k'\n",
        "#tec_bal = 'near_miss_2_k'\n",
        "#tec_bal = 'near_miss_3_k'\n",
        "tec_bal = 'sbc'\n",
        "\n",
        "#valor_k = '9' # NEARMISS HYPERPARAMS\n",
        "#valor_k2 = '11'\n",
        "\n",
        "#nome = 'base_'+tec_imp+tec_bal # NOME DA BASE TOTAL\n",
        "#nome = 'base_'+tec_imp+tec_bal+'_NORMALIZADO'\n",
        "#nome = 'base_'+tec_imp+tec_bal+valor_k+'_NORMALIZADO'\n",
        "#nome = 'base_'+tec_imp+tec_bal+valor_k+valor_k2+'_NORMALIZADO' # NEARMISS3\n",
        "#pasta_2 = 'base_total/' # <-----------------------------------------------\n",
        "\n",
        "nome = 'base_'+tec_imp+tec_bal+'_RECORTE_FEITO_NORMALIZADO' # NOME DA BASE REDUZIDA\n",
        "#nome = 'base_'+tec_imp+tec_bal+valor_k+'_RECORTE_FEITO_NORMALIZADO'\n",
        "#nome = 'base_'+tec_imp+tec_bal+valor_k+valor_k2+'_RECORTE_FEITO_NORMALIZADO' # NEARMISS3\n",
        "pasta_2 = 'base_reduzida/' # <-----------------------------------------------\n",
        "\n",
        "#nome = 'base_pre_proc_desb_imp_moda_NORMALIZADO' # para a base desbalanceada\n",
        "#nome = 'base_pre_proc_desb_imp_moda_RECORTE_FEITO_NORMALIZADO'\n",
        "\n",
        "modelo_pasta = model_used_name+'/' # <-----------------------------------------------\n",
        "nome_modelo = model_used_name+'_' # <-----------------------------------------------\n",
        "\n",
        "pasta_1 = 'resultados/'\n",
        "\n",
        "#tipo_teste = '_random_under_NORMALIZADO'\n",
        "tipo_teste = '_sbc_NORMALIZADO'\n",
        "#tipo_teste = '_near_miss_NORMALIZADO'\n",
        "#tipo_teste = '_desb_NORMALIZADO'"
      ]
    },
    {
      "cell_type": "code",
      "execution_count": null,
      "metadata": {
        "colab": {
          "base_uri": "https://localhost:8080/",
          "height": 322
        },
        "id": "NpPcu9L7kM0o",
        "outputId": "26df6eae-2946-47b8-ae76-e138472d7a7e"
      },
      "outputs": [
        {
          "name": "stdout",
          "output_type": "stream",
          "text": [
            "0.0    863\n",
            "1.0    862\n",
            "Name: mc_cri_vdrl, dtype: int64\n"
          ]
        },
        {
          "data": {
            "text/html": [
              "\n",
              "  <div id=\"df-63c1ea7a-5cd7-4d95-b6fb-0cafe4ec4879\">\n",
              "    <div class=\"colab-df-container\">\n",
              "      <div>\n",
              "<style scoped>\n",
              "    .dataframe tbody tr th:only-of-type {\n",
              "        vertical-align: middle;\n",
              "    }\n",
              "\n",
              "    .dataframe tbody tr th {\n",
              "        vertical-align: top;\n",
              "    }\n",
              "\n",
              "    .dataframe thead th {\n",
              "        text-align: right;\n",
              "    }\n",
              "</style>\n",
              "<table border=\"1\" class=\"dataframe\">\n",
              "  <thead>\n",
              "    <tr style=\"text-align: right;\">\n",
              "      <th></th>\n",
              "      <th>mc_cri_vdrl</th>\n",
              "      <th>mc_get_risco_gestacional</th>\n",
              "      <th>mc_mul_est_civil</th>\n",
              "      <th>mc_mul_nivel_inseguranca</th>\n",
              "      <th>mc_mul_qtd_aborto</th>\n",
              "      <th>mc_mul_qtd_filhos_vivos</th>\n",
              "      <th>mc_mul_qtd_gest</th>\n",
              "      <th>mc_mul_rec_inf_plan_fam</th>\n",
              "      <th>mc_mul_tipo_const_casa</th>\n",
              "      <th>mc_dae_escolaridade</th>\n",
              "      <th>mc_dae_rfa</th>\n",
              "      <th>idade</th>\n",
              "    </tr>\n",
              "  </thead>\n",
              "  <tbody>\n",
              "    <tr>\n",
              "      <th>0</th>\n",
              "      <td>1.0</td>\n",
              "      <td>0.5</td>\n",
              "      <td>1.0</td>\n",
              "      <td>0.0</td>\n",
              "      <td>0.0</td>\n",
              "      <td>0.0</td>\n",
              "      <td>0.0</td>\n",
              "      <td>1.0</td>\n",
              "      <td>0.8</td>\n",
              "      <td>0.500</td>\n",
              "      <td>0.25</td>\n",
              "      <td>1.0</td>\n",
              "    </tr>\n",
              "    <tr>\n",
              "      <th>1</th>\n",
              "      <td>1.0</td>\n",
              "      <td>0.0</td>\n",
              "      <td>1.0</td>\n",
              "      <td>0.0</td>\n",
              "      <td>0.0</td>\n",
              "      <td>0.0</td>\n",
              "      <td>0.0</td>\n",
              "      <td>0.0</td>\n",
              "      <td>0.8</td>\n",
              "      <td>0.250</td>\n",
              "      <td>1.00</td>\n",
              "      <td>1.0</td>\n",
              "    </tr>\n",
              "    <tr>\n",
              "      <th>2</th>\n",
              "      <td>1.0</td>\n",
              "      <td>0.0</td>\n",
              "      <td>0.0</td>\n",
              "      <td>0.0</td>\n",
              "      <td>0.0</td>\n",
              "      <td>0.0</td>\n",
              "      <td>0.0</td>\n",
              "      <td>0.0</td>\n",
              "      <td>0.8</td>\n",
              "      <td>0.625</td>\n",
              "      <td>0.50</td>\n",
              "      <td>1.0</td>\n",
              "    </tr>\n",
              "    <tr>\n",
              "      <th>3</th>\n",
              "      <td>1.0</td>\n",
              "      <td>0.0</td>\n",
              "      <td>1.0</td>\n",
              "      <td>0.0</td>\n",
              "      <td>0.0</td>\n",
              "      <td>0.0</td>\n",
              "      <td>0.0</td>\n",
              "      <td>1.0</td>\n",
              "      <td>0.8</td>\n",
              "      <td>0.500</td>\n",
              "      <td>0.50</td>\n",
              "      <td>1.0</td>\n",
              "    </tr>\n",
              "    <tr>\n",
              "      <th>4</th>\n",
              "      <td>1.0</td>\n",
              "      <td>0.5</td>\n",
              "      <td>0.0</td>\n",
              "      <td>0.0</td>\n",
              "      <td>0.0</td>\n",
              "      <td>0.0</td>\n",
              "      <td>0.0</td>\n",
              "      <td>1.0</td>\n",
              "      <td>0.8</td>\n",
              "      <td>0.500</td>\n",
              "      <td>0.50</td>\n",
              "      <td>1.0</td>\n",
              "    </tr>\n",
              "  </tbody>\n",
              "</table>\n",
              "</div>\n",
              "      <button class=\"colab-df-convert\" onclick=\"convertToInteractive('df-63c1ea7a-5cd7-4d95-b6fb-0cafe4ec4879')\"\n",
              "              title=\"Convert this dataframe to an interactive table.\"\n",
              "              style=\"display:none;\">\n",
              "        \n",
              "  <svg xmlns=\"http://www.w3.org/2000/svg\" height=\"24px\"viewBox=\"0 0 24 24\"\n",
              "       width=\"24px\">\n",
              "    <path d=\"M0 0h24v24H0V0z\" fill=\"none\"/>\n",
              "    <path d=\"M18.56 5.44l.94 2.06.94-2.06 2.06-.94-2.06-.94-.94-2.06-.94 2.06-2.06.94zm-11 1L8.5 8.5l.94-2.06 2.06-.94-2.06-.94L8.5 2.5l-.94 2.06-2.06.94zm10 10l.94 2.06.94-2.06 2.06-.94-2.06-.94-.94-2.06-.94 2.06-2.06.94z\"/><path d=\"M17.41 7.96l-1.37-1.37c-.4-.4-.92-.59-1.43-.59-.52 0-1.04.2-1.43.59L10.3 9.45l-7.72 7.72c-.78.78-.78 2.05 0 2.83L4 21.41c.39.39.9.59 1.41.59.51 0 1.02-.2 1.41-.59l7.78-7.78 2.81-2.81c.8-.78.8-2.07 0-2.86zM5.41 20L4 18.59l7.72-7.72 1.47 1.35L5.41 20z\"/>\n",
              "  </svg>\n",
              "      </button>\n",
              "      \n",
              "  <style>\n",
              "    .colab-df-container {\n",
              "      display:flex;\n",
              "      flex-wrap:wrap;\n",
              "      gap: 12px;\n",
              "    }\n",
              "\n",
              "    .colab-df-convert {\n",
              "      background-color: #E8F0FE;\n",
              "      border: none;\n",
              "      border-radius: 50%;\n",
              "      cursor: pointer;\n",
              "      display: none;\n",
              "      fill: #1967D2;\n",
              "      height: 32px;\n",
              "      padding: 0 0 0 0;\n",
              "      width: 32px;\n",
              "    }\n",
              "\n",
              "    .colab-df-convert:hover {\n",
              "      background-color: #E2EBFA;\n",
              "      box-shadow: 0px 1px 2px rgba(60, 64, 67, 0.3), 0px 1px 3px 1px rgba(60, 64, 67, 0.15);\n",
              "      fill: #174EA6;\n",
              "    }\n",
              "\n",
              "    [theme=dark] .colab-df-convert {\n",
              "      background-color: #3B4455;\n",
              "      fill: #D2E3FC;\n",
              "    }\n",
              "\n",
              "    [theme=dark] .colab-df-convert:hover {\n",
              "      background-color: #434B5C;\n",
              "      box-shadow: 0px 1px 3px 1px rgba(0, 0, 0, 0.15);\n",
              "      filter: drop-shadow(0px 1px 2px rgba(0, 0, 0, 0.3));\n",
              "      fill: #FFFFFF;\n",
              "    }\n",
              "  </style>\n",
              "\n",
              "      <script>\n",
              "        const buttonEl =\n",
              "          document.querySelector('#df-63c1ea7a-5cd7-4d95-b6fb-0cafe4ec4879 button.colab-df-convert');\n",
              "        buttonEl.style.display =\n",
              "          google.colab.kernel.accessAllowed ? 'block' : 'none';\n",
              "\n",
              "        async function convertToInteractive(key) {\n",
              "          const element = document.querySelector('#df-63c1ea7a-5cd7-4d95-b6fb-0cafe4ec4879');\n",
              "          const dataTable =\n",
              "            await google.colab.kernel.invokeFunction('convertToInteractive',\n",
              "                                                     [key], {});\n",
              "          if (!dataTable) return;\n",
              "\n",
              "          const docLinkHtml = 'Like what you see? Visit the ' +\n",
              "            '<a target=\"_blank\" href=https://colab.research.google.com/notebooks/data_table.ipynb>data table notebook</a>'\n",
              "            + ' to learn more about interactive tables.';\n",
              "          element.innerHTML = '';\n",
              "          dataTable['output_type'] = 'display_data';\n",
              "          await google.colab.output.renderOutput(dataTable, element);\n",
              "          const docLink = document.createElement('div');\n",
              "          docLink.innerHTML = docLinkHtml;\n",
              "          element.appendChild(docLink);\n",
              "        }\n",
              "      </script>\n",
              "    </div>\n",
              "  </div>\n",
              "  "
            ],
            "text/plain": [
              "   mc_cri_vdrl  mc_get_risco_gestacional  mc_mul_est_civil  \\\n",
              "0          1.0                       0.5               1.0   \n",
              "1          1.0                       0.0               1.0   \n",
              "2          1.0                       0.0               0.0   \n",
              "3          1.0                       0.0               1.0   \n",
              "4          1.0                       0.5               0.0   \n",
              "\n",
              "   mc_mul_nivel_inseguranca  mc_mul_qtd_aborto  mc_mul_qtd_filhos_vivos  \\\n",
              "0                       0.0                0.0                      0.0   \n",
              "1                       0.0                0.0                      0.0   \n",
              "2                       0.0                0.0                      0.0   \n",
              "3                       0.0                0.0                      0.0   \n",
              "4                       0.0                0.0                      0.0   \n",
              "\n",
              "   mc_mul_qtd_gest  mc_mul_rec_inf_plan_fam  mc_mul_tipo_const_casa  \\\n",
              "0              0.0                      1.0                     0.8   \n",
              "1              0.0                      0.0                     0.8   \n",
              "2              0.0                      0.0                     0.8   \n",
              "3              0.0                      1.0                     0.8   \n",
              "4              0.0                      1.0                     0.8   \n",
              "\n",
              "   mc_dae_escolaridade  mc_dae_rfa  idade  \n",
              "0                0.500        0.25    1.0  \n",
              "1                0.250        1.00    1.0  \n",
              "2                0.625        0.50    1.0  \n",
              "3                0.500        0.50    1.0  \n",
              "4                0.500        0.50    1.0  "
            ]
          },
          "execution_count": 9,
          "metadata": {},
          "output_type": "execute_result"
        }
      ],
      "source": [
        "base = read_base(path, pasta, nome) # loading dataset\n",
        "print(base['mc_cri_vdrl'].value_counts())\n",
        "base.head()"
      ]
    },
    {
      "cell_type": "markdown",
      "metadata": {
        "id": "1_zEwZoIS7HC"
      },
      "source": [
        "#Model application"
      ]
    },
    {
      "cell_type": "code",
      "execution_count": null,
      "metadata": {
        "colab": {
          "base_uri": "https://localhost:8080/",
          "height": 1000
        },
        "id": "KxwVAop3qV64",
        "outputId": "1d12cb70-5cf5-4013-87f7-93a30e3a0ff5"
      },
      "outputs": [
        {
          "name": "stdout",
          "output_type": "stream",
          "text": [
            "Classes no treino: Counter({0.0: 604, 1.0: 603})\n",
            "Classes no teste: Counter({0.0: 259, 1.0: 259})\n",
            "Best score: 0.5842166974022721\n",
            "Best params: {'bootstrap': True, 'criterion': 'entropy', 'max_features': 'sqrt', 'min_samples_leaf': 9, 'min_samples_split': 2, 'n_estimators': 100, 'random_state': 42, 'warm_start': True}\n",
            "\n",
            "Acurácia: 0.5694980694980695 | Precisão: 0.5676691729323309 | Sensibilidade: 0.583011583011583\n",
            "Especificidade: 0.555984555984556 | F1-score: 0.5752380952380952 | AUC ROC: 0.5694980694980695\n",
            "\n",
            "              precision    recall  f1-score   support\n",
            "\n",
            "         0.0       0.57      0.56      0.56       259\n",
            "         1.0       0.57      0.58      0.58       259\n",
            "\n",
            "    accuracy                           0.57       518\n",
            "   macro avg       0.57      0.57      0.57       518\n",
            "weighted avg       0.57      0.57      0.57       518\n",
            "\n"
          ]
        },
        {
          "data": {
            "image/png": "[encoded data removed]",
            "text/plain": [
              "<Figure size 640x480 with 2 Axes>"
            ]
          },
          "metadata": {},
          "output_type": "display_data"
        },
        {
          "name": "stdout",
          "output_type": "stream",
          "text": [
            "   bootstrap criterion max_features  min_samples_leaf  min_samples_split  \\\n",
            "0       True   entropy         sqrt                 9                  2   \n",
            "\n",
            "   n_estimators  random_state  warm_start  \n",
            "0           100            42        True  \n",
            "   acuracia  precisao  sensibilidade  especificidade  f1-score   AUC ROC\n",
            "0  0.569498  0.567669       0.583012        0.555985  0.575238  0.569498\n"
          ]
        },
        {
          "name": "stderr",
          "output_type": "stream",
          "text": [
            "/usr/local/lib/python3.10/dist-packages/plotly/express/_core.py:271: FutureWarning: The frame.append method is deprecated and will be removed from pandas in a future version. Use pandas.concat instead.\n",
            "  trace_data = trace_data.append(trace_data.iloc[0])\n"
          ]
        },
        {
          "data": {
            "text/html": [
              "<html>\n",
              "<head><meta charset=\"utf-8\" /></head>\n",
              "<body>\n",
              "    <div>            <script src=\"https://cdnjs.cloudflare.com/ajax/libs/mathjax/2.7.5/MathJax.js?config=TeX-AMS-MML_SVG\"></script><script type=\"text/javascript\">if (window.MathJax && window.MathJax.Hub && window.MathJax.Hub.Config) {window.MathJax.Hub.Config({SVG: {font: \"STIX-Web\"}});}</script>                <script type=\"text/javascript\">window.PlotlyConfig = {MathJaxConfig: 'local'};</script>\n",
              "        <script src=\"https://cdn.plot.ly/plotly-2.18.2.min.js\"></script>                <div id=\"08a1aec8-4f57-4cc5-8e22-fdb9208854a3\" class=\"plotly-graph-div\" style=\"height:525px; width:100%;\"></div>            <script type=\"text/javascript\">                                    window.PLOTLYENV=window.PLOTLYENV || {};                                    if (document.getElementById(\"08a1aec8-4f57-4cc5-8e22-fdb9208854a3\")) {                    Plotly.newPlot(                        \"08a1aec8-4f57-4cc5-8e22-fdb9208854a3\",                        [{\"hovertemplate\":\"r=%{r}<br>theta=%{theta}<extra></extra>\",\"legendgroup\":\"\",\"line\":{\"color\":\"#636efa\",\"dash\":\"solid\"},\"marker\":{\"symbol\":\"circle\"},\"mode\":\"lines\",\"name\":\"\",\"r\":[0.5694980694980695,0.5676691729323309,0.583011583011583,0.555984555984556,0.5752380952380952,0.5694980694980695,0.5694980694980695],\"showlegend\":false,\"subplot\":\"polar\",\"theta\":[\"Acur\\u00e1cia\",\"Precis\\u00e3o\",\"Sensibilidade\",\"Especificidade\",\"F1-score\",\"AUC ROC\",\"Acur\\u00e1cia\"],\"type\":\"scatterpolar\"}],                        {\"template\":{\"data\":{\"histogram2dcontour\":[{\"type\":\"histogram2dcontour\",\"colorbar\":{\"outlinewidth\":0,\"ticks\":\"\"},\"colorscale\":[[0.0,\"#0d0887\"],[0.1111111111111111,\"#46039f\"],[0.2222222222222222,\"#7201a8\"],[0.3333333333333333,\"#9c179e\"],[0.4444444444444444,\"#bd3786\"],[0.5555555555555556,\"#d8576b\"],[0.6666666666666666,\"#ed7953\"],[0.7777777777777778,\"#fb9f3a\"],[0.8888888888888888,\"#fdca26\"],[1.0,\"#f0f921\"]]}],\"choropleth\":[{\"type\":\"choropleth\",\"colorbar\":{\"outlinewidth\":0,\"ticks\":\"\"}}],\"histogram2d\":[{\"type\":\"histogram2d\",\"colorbar\":{\"outlinewidth\":0,\"ticks\":\"\"},\"colorscale\":[[0.0,\"#0d0887\"],[0.1111111111111111,\"#46039f\"],[0.2222222222222222,\"#7201a8\"],[0.3333333333333333,\"#9c179e\"],[0.4444444444444444,\"#bd3786\"],[0.5555555555555556,\"#d8576b\"],[0.6666666666666666,\"#ed7953\"],[0.7777777777777778,\"#fb9f3a\"],[0.8888888888888888,\"#fdca26\"],[1.0,\"#f0f921\"]]}],\"heatmap\":[{\"type\":\"heatmap\",\"colorbar\":{\"outlinewidth\":0,\"ticks\":\"\"},\"colorscale\":[[0.0,\"#0d0887\"],[0.1111111111111111,\"#46039f\"],[0.2222222222222222,\"#7201a8\"],[0.3333333333333333,\"#9c179e\"],[0.4444444444444444,\"#bd3786\"],[0.5555555555555556,\"#d8576b\"],[0.6666666666666666,\"#ed7953\"],[0.7777777777777778,\"#fb9f3a\"],[0.8888888888888888,\"#fdca26\"],[1.0,\"#f0f921\"]]}],\"heatmapgl\":[{\"type\":\"heatmapgl\",\"colorbar\":{\"outlinewidth\":0,\"ticks\":\"\"},\"colorscale\":[[0.0,\"#0d0887\"],[0.1111111111111111,\"#46039f\"],[0.2222222222222222,\"#7201a8\"],[0.3333333333333333,\"#9c179e\"],[0.4444444444444444,\"#bd3786\"],[0.5555555555555556,\"#d8576b\"],[0.6666666666666666,\"#ed7953\"],[0.7777777777777778,\"#fb9f3a\"],[0.8888888888888888,\"#fdca26\"],[1.0,\"#f0f921\"]]}],\"contourcarpet\":[{\"type\":\"contourcarpet\",\"colorbar\":{\"outlinewidth\":0,\"ticks\":\"\"}}],\"contour\":[{\"type\":\"contour\",\"colorbar\":{\"outlinewidth\":0,\"ticks\":\"\"},\"colorscale\":[[0.0,\"#0d0887\"],[0.1111111111111111,\"#46039f\"],[0.2222222222222222,\"#7201a8\"],[0.3333333333333333,\"#9c179e\"],[0.4444444444444444,\"#bd3786\"],[0.5555555555555556,\"#d8576b\"],[0.6666666666666666,\"#ed7953\"],[0.7777777777777778,\"#fb9f3a\"],[0.8888888888888888,\"#fdca26\"],[1.0,\"#f0f921\"]]}],\"surface\":[{\"type\":\"surface\",\"colorbar\":{\"outlinewidth\":0,\"ticks\":\"\"},\"colorscale\":[[0.0,\"#0d0887\"],[0.1111111111111111,\"#46039f\"],[0.2222222222222222,\"#7201a8\"],[0.3333333333333333,\"#9c179e\"],[0.4444444444444444,\"#bd3786\"],[0.5555555555555556,\"#d8576b\"],[0.6666666666666666,\"#ed7953\"],[0.7777777777777778,\"#fb9f3a\"],[0.8888888888888888,\"#fdca26\"],[1.0,\"#f0f921\"]]}],\"mesh3d\":[{\"type\":\"mesh3d\",\"colorbar\":{\"outlinewidth\":0,\"ticks\":\"\"}}],\"scatter\":[{\"fillpattern\":{\"fillmode\":\"overlay\",\"size\":10,\"solidity\":0.2},\"type\":\"scatter\"}],\"parcoords\":[{\"type\":\"parcoords\",\"line\":{\"colorbar\":{\"outlinewidth\":0,\"ticks\":\"\"}}}],\"scatterpolargl\":[{\"type\":\"scatterpolargl\",\"marker\":{\"colorbar\":{\"outlinewidth\":0,\"ticks\":\"\"}}}],\"bar\":[{\"error_x\":{\"color\":\"#2a3f5f\"},\"error_y\":{\"color\":\"#2a3f5f\"},\"marker\":{\"line\":{\"color\":\"#E5ECF6\",\"width\":0.5},\"pattern\":{\"fillmode\":\"overlay\",\"size\":10,\"solidity\":0.2}},\"type\":\"bar\"}],\"scattergeo\":[{\"type\":\"scattergeo\",\"marker\":{\"colorbar\":{\"outlinewidth\":0,\"ticks\":\"\"}}}],\"scatterpolar\":[{\"type\":\"scatterpolar\",\"marker\":{\"colorbar\":{\"outlinewidth\":0,\"ticks\":\"\"}}}],\"histogram\":[{\"marker\":{\"pattern\":{\"fillmode\":\"overlay\",\"size\":10,\"solidity\":0.2}},\"type\":\"histogram\"}],\"scattergl\":[{\"type\":\"scattergl\",\"marker\":{\"colorbar\":{\"outlinewidth\":0,\"ticks\":\"\"}}}],\"scatter3d\":[{\"type\":\"scatter3d\",\"line\":{\"colorbar\":{\"outlinewidth\":0,\"ticks\":\"\"}},\"marker\":{\"colorbar\":{\"outlinewidth\":0,\"ticks\":\"\"}}}],\"scattermapbox\":[{\"type\":\"scattermapbox\",\"marker\":{\"colorbar\":{\"outlinewidth\":0,\"ticks\":\"\"}}}],\"scatterternary\":[{\"type\":\"scatterternary\",\"marker\":{\"colorbar\":{\"outlinewidth\":0,\"ticks\":\"\"}}}],\"scattercarpet\":[{\"type\":\"scattercarpet\",\"marker\":{\"colorbar\":{\"outlinewidth\":0,\"ticks\":\"\"}}}],\"carpet\":[{\"aaxis\":{\"endlinecolor\":\"#2a3f5f\",\"gridcolor\":\"white\",\"linecolor\":\"white\",\"minorgridcolor\":\"white\",\"startlinecolor\":\"#2a3f5f\"},\"baxis\":{\"endlinecolor\":\"#2a3f5f\",\"gridcolor\":\"white\",\"linecolor\":\"white\",\"minorgridcolor\":\"white\",\"startlinecolor\":\"#2a3f5f\"},\"type\":\"carpet\"}],\"table\":[{\"cells\":{\"fill\":{\"color\":\"#EBF0F8\"},\"line\":{\"color\":\"white\"}},\"header\":{\"fill\":{\"color\":\"#C8D4E3\"},\"line\":{\"color\":\"white\"}},\"type\":\"table\"}],\"barpolar\":[{\"marker\":{\"line\":{\"color\":\"#E5ECF6\",\"width\":0.5},\"pattern\":{\"fillmode\":\"overlay\",\"size\":10,\"solidity\":0.2}},\"type\":\"barpolar\"}],\"pie\":[{\"automargin\":true,\"type\":\"pie\"}]},\"layout\":{\"autotypenumbers\":\"strict\",\"colorway\":[\"#636efa\",\"#EF553B\",\"#00cc96\",\"#ab63fa\",\"#FFA15A\",\"#19d3f3\",\"#FF6692\",\"#B6E880\",\"#FF97FF\",\"#FECB52\"],\"font\":{\"color\":\"#2a3f5f\"},\"hovermode\":\"closest\",\"hoverlabel\":{\"align\":\"left\"},\"paper_bgcolor\":\"white\",\"plot_bgcolor\":\"#E5ECF6\",\"polar\":{\"bgcolor\":\"#E5ECF6\",\"angularaxis\":{\"gridcolor\":\"white\",\"linecolor\":\"white\",\"ticks\":\"\"},\"radialaxis\":{\"gridcolor\":\"white\",\"linecolor\":\"white\",\"ticks\":\"\"}},\"ternary\":{\"bgcolor\":\"#E5ECF6\",\"aaxis\":{\"gridcolor\":\"white\",\"linecolor\":\"white\",\"ticks\":\"\"},\"baxis\":{\"gridcolor\":\"white\",\"linecolor\":\"white\",\"ticks\":\"\"},\"caxis\":{\"gridcolor\":\"white\",\"linecolor\":\"white\",\"ticks\":\"\"}},\"coloraxis\":{\"colorbar\":{\"outlinewidth\":0,\"ticks\":\"\"}},\"colorscale\":{\"sequential\":[[0.0,\"#0d0887\"],[0.1111111111111111,\"#46039f\"],[0.2222222222222222,\"#7201a8\"],[0.3333333333333333,\"#9c179e\"],[0.4444444444444444,\"#bd3786\"],[0.5555555555555556,\"#d8576b\"],[0.6666666666666666,\"#ed7953\"],[0.7777777777777778,\"#fb9f3a\"],[0.8888888888888888,\"#fdca26\"],[1.0,\"#f0f921\"]],\"sequentialminus\":[[0.0,\"#0d0887\"],[0.1111111111111111,\"#46039f\"],[0.2222222222222222,\"#7201a8\"],[0.3333333333333333,\"#9c179e\"],[0.4444444444444444,\"#bd3786\"],[0.5555555555555556,\"#d8576b\"],[0.6666666666666666,\"#ed7953\"],[0.7777777777777778,\"#fb9f3a\"],[0.8888888888888888,\"#fdca26\"],[1.0,\"#f0f921\"]],\"diverging\":[[0,\"#8e0152\"],[0.1,\"#c51b7d\"],[0.2,\"#de77ae\"],[0.3,\"#f1b6da\"],[0.4,\"#fde0ef\"],[0.5,\"#f7f7f7\"],[0.6,\"#e6f5d0\"],[0.7,\"#b8e186\"],[0.8,\"#7fbc41\"],[0.9,\"#4d9221\"],[1,\"#276419\"]]},\"xaxis\":{\"gridcolor\":\"white\",\"linecolor\":\"white\",\"ticks\":\"\",\"title\":{\"standoff\":15},\"zerolinecolor\":\"white\",\"automargin\":true,\"zerolinewidth\":2},\"yaxis\":{\"gridcolor\":\"white\",\"linecolor\":\"white\",\"ticks\":\"\",\"title\":{\"standoff\":15},\"zerolinecolor\":\"white\",\"automargin\":true,\"zerolinewidth\":2},\"scene\":{\"xaxis\":{\"backgroundcolor\":\"#E5ECF6\",\"gridcolor\":\"white\",\"linecolor\":\"white\",\"showbackground\":true,\"ticks\":\"\",\"zerolinecolor\":\"white\",\"gridwidth\":2},\"yaxis\":{\"backgroundcolor\":\"#E5ECF6\",\"gridcolor\":\"white\",\"linecolor\":\"white\",\"showbackground\":true,\"ticks\":\"\",\"zerolinecolor\":\"white\",\"gridwidth\":2},\"zaxis\":{\"backgroundcolor\":\"#E5ECF6\",\"gridcolor\":\"white\",\"linecolor\":\"white\",\"showbackground\":true,\"ticks\":\"\",\"zerolinecolor\":\"white\",\"gridwidth\":2}},\"shapedefaults\":{\"line\":{\"color\":\"#2a3f5f\"}},\"annotationdefaults\":{\"arrowcolor\":\"#2a3f5f\",\"arrowhead\":0,\"arrowwidth\":1},\"geo\":{\"bgcolor\":\"white\",\"landcolor\":\"#E5ECF6\",\"subunitcolor\":\"white\",\"showland\":true,\"showlakes\":true,\"lakecolor\":\"white\"},\"title\":{\"x\":0.05},\"mapbox\":{\"style\":\"light\"}}},\"polar\":{\"domain\":{\"x\":[0.0,1.0],\"y\":[0.0,1.0]},\"angularaxis\":{\"direction\":\"clockwise\",\"rotation\":90},\"radialaxis\":{\"range\":[0.0,1.0]}},\"legend\":{\"tracegroupgap\":0},\"margin\":{\"t\":60}},                        {\"responsive\": true}                    ).then(function(){\n",
              "                            \n",
              "var gd = document.getElementById('08a1aec8-4f57-4cc5-8e22-fdb9208854a3');\n",
              "var x = new MutationObserver(function (mutations, observer) {{\n",
              "        var display = window.getComputedStyle(gd).display;\n",
              "        if (!display || display === 'none') {{\n",
              "            console.log([gd, 'removed!']);\n",
              "            Plotly.purge(gd);\n",
              "            observer.disconnect();\n",
              "        }}\n",
              "}});\n",
              "\n",
              "// Listen for the removal of the full notebook cells\n",
              "var notebookContainer = gd.closest('#notebook-container');\n",
              "if (notebookContainer) {{\n",
              "    x.observe(notebookContainer, {childList: true});\n",
              "}}\n",
              "\n",
              "// Listen for the clearing of the current output cell\n",
              "var outputEl = gd.closest('.output');\n",
              "if (outputEl) {{\n",
              "    x.observe(outputEl, {childList: true});\n",
              "}}\n",
              "\n",
              "                        })                };                            </script>        </div>\n",
              "</body>\n",
              "</html>"
            ]
          },
          "metadata": {},
          "output_type": "display_data"
        }
      ],
      "source": [
        "apply_grid_model(base, RandomForestClassifier, param_grid)"
      ]
    },
    {
      "cell_type": "code",
      "execution_count": null,
      "metadata": {
        "id": "F5t8YjezMH0B"
      },
      "outputs": [],
      "source": []
    }
  ],
  "metadata": {
    "colab": {
      "collapsed_sections": [
        "iAsvQT_2jyAN"
      ],
      "provenance": []
    },
    "kernelspec": {
      "display_name": "Python 3",
      "name": "python3"
    },
    "language_info": {
      "name": "python"
    }
  },
  "nbformat": 4,
  "nbformat_minor": 0
}
