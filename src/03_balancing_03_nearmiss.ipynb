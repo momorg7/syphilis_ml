{
  "cells": [
    {
      "cell_type": "code",
      "execution_count": null,
      "metadata": {
        "colab": {
          "base_uri": "https://localhost:8080/"
        },
        "id": "LWhpLO2Hf4h3",
        "outputId": "f7a38e5d-adfa-49ce-dfc4-a046b8158eb0"
      },
      "outputs": [
        {
          "name": "stdout",
          "output_type": "stream",
          "text": [
            "Mounted at /content/gdrive\n"
          ]
        }
      ],
      "source": [
        "import pandas as pd\n",
        "import numpy as np\n",
        "from imblearn.under_sampling import NearMiss\n",
        "from collections import Counter\n",
        "\n",
        "from google.colab import drive\n",
        "drive.mount('/content/gdrive', force_remount=True)"
      ]
    },
    {
      "cell_type": "code",
      "execution_count": null,
      "metadata": {
        "id": "WruMZm3Bf_-C"
      },
      "outputs": [],
      "source": [
        "path = 'PATH_TO_DATASET_IN_DRIVE'\n",
        "df = pd.read_csv(path+\"base_pre_proc_desb_imp_moda_RECORTE_FEITO_NORMALIZADO.csv\", sep=',')"
      ]
    },
    {
      "cell_type": "code",
      "execution_count": null,
      "metadata": {
        "colab": {
          "base_uri": "https://localhost:8080/"
        },
        "id": "1e7PGjA8XsMQ",
        "outputId": "cbc09b0e-2b9e-4070-a624-0b73d2ed85a8"
      },
      "outputs": [
        {
          "data": {
            "text/plain": [
              "0.0    33938\n",
              "1.0      862\n",
              "Name: mc_cri_vdrl, dtype: int64"
            ]
          },
          "execution_count": 4,
          "metadata": {},
          "output_type": "execute_result"
        }
      ],
      "source": [
        "df['mc_cri_vdrl'].value_counts()"
      ]
    },
    {
      "cell_type": "code",
      "execution_count": null,
      "metadata": {
        "colab": {
          "base_uri": "https://localhost:8080/",
          "height": 270
        },
        "id": "dHs9Q3z1gDal",
        "outputId": "6314583e-43f7-4bef-f245-7b743a6e7ca9"
      },
      "outputs": [
        {
          "data": {
            "text/html": [
              "\n",
              "  <div id=\"df-8b1e0ab1-43ad-4a45-aa64-0bb287635bb2\">\n",
              "    <div class=\"colab-df-container\">\n",
              "      <div>\n",
              "<style scoped>\n",
              "    .dataframe tbody tr th:only-of-type {\n",
              "        vertical-align: middle;\n",
              "    }\n",
              "\n",
              "    .dataframe tbody tr th {\n",
              "        vertical-align: top;\n",
              "    }\n",
              "\n",
              "    .dataframe thead th {\n",
              "        text-align: right;\n",
              "    }\n",
              "</style>\n",
              "<table border=\"1\" class=\"dataframe\">\n",
              "  <thead>\n",
              "    <tr style=\"text-align: right;\">\n",
              "      <th></th>\n",
              "      <th>mc_cri_vdrl</th>\n",
              "      <th>mc_get_risco_gestacional</th>\n",
              "      <th>mc_mul_est_civil</th>\n",
              "      <th>mc_mul_nivel_inseguranca</th>\n",
              "      <th>mc_mul_qtd_aborto</th>\n",
              "      <th>mc_mul_qtd_filhos_vivos</th>\n",
              "      <th>mc_mul_qtd_gest</th>\n",
              "      <th>mc_mul_rec_inf_plan_fam</th>\n",
              "      <th>mc_mul_tipo_const_casa</th>\n",
              "      <th>mc_dae_escolaridade</th>\n",
              "      <th>mc_dae_rfa</th>\n",
              "      <th>idade</th>\n",
              "    </tr>\n",
              "  </thead>\n",
              "  <tbody>\n",
              "    <tr>\n",
              "      <th>0</th>\n",
              "      <td>0.0</td>\n",
              "      <td>0.0</td>\n",
              "      <td>0.0</td>\n",
              "      <td>0.0</td>\n",
              "      <td>0.0</td>\n",
              "      <td>0.0</td>\n",
              "      <td>0.0</td>\n",
              "      <td>1.0</td>\n",
              "      <td>0.8</td>\n",
              "      <td>0.625</td>\n",
              "      <td>0.00</td>\n",
              "      <td>1.0</td>\n",
              "    </tr>\n",
              "    <tr>\n",
              "      <th>1</th>\n",
              "      <td>0.0</td>\n",
              "      <td>0.0</td>\n",
              "      <td>1.0</td>\n",
              "      <td>0.0</td>\n",
              "      <td>0.0</td>\n",
              "      <td>0.0</td>\n",
              "      <td>0.0</td>\n",
              "      <td>0.0</td>\n",
              "      <td>0.8</td>\n",
              "      <td>0.625</td>\n",
              "      <td>0.75</td>\n",
              "      <td>1.0</td>\n",
              "    </tr>\n",
              "    <tr>\n",
              "      <th>2</th>\n",
              "      <td>0.0</td>\n",
              "      <td>0.0</td>\n",
              "      <td>1.0</td>\n",
              "      <td>0.0</td>\n",
              "      <td>0.0</td>\n",
              "      <td>0.0</td>\n",
              "      <td>0.0</td>\n",
              "      <td>1.0</td>\n",
              "      <td>0.8</td>\n",
              "      <td>0.750</td>\n",
              "      <td>0.50</td>\n",
              "      <td>1.0</td>\n",
              "    </tr>\n",
              "    <tr>\n",
              "      <th>3</th>\n",
              "      <td>0.0</td>\n",
              "      <td>0.5</td>\n",
              "      <td>1.0</td>\n",
              "      <td>0.0</td>\n",
              "      <td>0.0</td>\n",
              "      <td>0.0</td>\n",
              "      <td>0.0</td>\n",
              "      <td>1.0</td>\n",
              "      <td>0.8</td>\n",
              "      <td>0.250</td>\n",
              "      <td>0.25</td>\n",
              "      <td>1.0</td>\n",
              "    </tr>\n",
              "    <tr>\n",
              "      <th>4</th>\n",
              "      <td>0.0</td>\n",
              "      <td>0.0</td>\n",
              "      <td>1.0</td>\n",
              "      <td>0.0</td>\n",
              "      <td>0.0</td>\n",
              "      <td>0.0</td>\n",
              "      <td>0.0</td>\n",
              "      <td>0.0</td>\n",
              "      <td>0.8</td>\n",
              "      <td>0.750</td>\n",
              "      <td>0.00</td>\n",
              "      <td>1.0</td>\n",
              "    </tr>\n",
              "  </tbody>\n",
              "</table>\n",
              "</div>\n",
              "      <button class=\"colab-df-convert\" onclick=\"convertToInteractive('df-8b1e0ab1-43ad-4a45-aa64-0bb287635bb2')\"\n",
              "              title=\"Convert this dataframe to an interactive table.\"\n",
              "              style=\"display:none;\">\n",
              "        \n",
              "  <svg xmlns=\"http://www.w3.org/2000/svg\" height=\"24px\"viewBox=\"0 0 24 24\"\n",
              "       width=\"24px\">\n",
              "    <path d=\"M0 0h24v24H0V0z\" fill=\"none\"/>\n",
              "    <path d=\"M18.56 5.44l.94 2.06.94-2.06 2.06-.94-2.06-.94-.94-2.06-.94 2.06-2.06.94zm-11 1L8.5 8.5l.94-2.06 2.06-.94-2.06-.94L8.5 2.5l-.94 2.06-2.06.94zm10 10l.94 2.06.94-2.06 2.06-.94-2.06-.94-.94-2.06-.94 2.06-2.06.94z\"/><path d=\"M17.41 7.96l-1.37-1.37c-.4-.4-.92-.59-1.43-.59-.52 0-1.04.2-1.43.59L10.3 9.45l-7.72 7.72c-.78.78-.78 2.05 0 2.83L4 21.41c.39.39.9.59 1.41.59.51 0 1.02-.2 1.41-.59l7.78-7.78 2.81-2.81c.8-.78.8-2.07 0-2.86zM5.41 20L4 18.59l7.72-7.72 1.47 1.35L5.41 20z\"/>\n",
              "  </svg>\n",
              "      </button>\n",
              "      \n",
              "  <style>\n",
              "    .colab-df-container {\n",
              "      display:flex;\n",
              "      flex-wrap:wrap;\n",
              "      gap: 12px;\n",
              "    }\n",
              "\n",
              "    .colab-df-convert {\n",
              "      background-color: #E8F0FE;\n",
              "      border: none;\n",
              "      border-radius: 50%;\n",
              "      cursor: pointer;\n",
              "      display: none;\n",
              "      fill: #1967D2;\n",
              "      height: 32px;\n",
              "      padding: 0 0 0 0;\n",
              "      width: 32px;\n",
              "    }\n",
              "\n",
              "    .colab-df-convert:hover {\n",
              "      background-color: #E2EBFA;\n",
              "      box-shadow: 0px 1px 2px rgba(60, 64, 67, 0.3), 0px 1px 3px 1px rgba(60, 64, 67, 0.15);\n",
              "      fill: #174EA6;\n",
              "    }\n",
              "\n",
              "    [theme=dark] .colab-df-convert {\n",
              "      background-color: #3B4455;\n",
              "      fill: #D2E3FC;\n",
              "    }\n",
              "\n",
              "    [theme=dark] .colab-df-convert:hover {\n",
              "      background-color: #434B5C;\n",
              "      box-shadow: 0px 1px 3px 1px rgba(0, 0, 0, 0.15);\n",
              "      filter: drop-shadow(0px 1px 2px rgba(0, 0, 0, 0.3));\n",
              "      fill: #FFFFFF;\n",
              "    }\n",
              "  </style>\n",
              "\n",
              "      <script>\n",
              "        const buttonEl =\n",
              "          document.querySelector('#df-8b1e0ab1-43ad-4a45-aa64-0bb287635bb2 button.colab-df-convert');\n",
              "        buttonEl.style.display =\n",
              "          google.colab.kernel.accessAllowed ? 'block' : 'none';\n",
              "\n",
              "        async function convertToInteractive(key) {\n",
              "          const element = document.querySelector('#df-8b1e0ab1-43ad-4a45-aa64-0bb287635bb2');\n",
              "          const dataTable =\n",
              "            await google.colab.kernel.invokeFunction('convertToInteractive',\n",
              "                                                     [key], {});\n",
              "          if (!dataTable) return;\n",
              "\n",
              "          const docLinkHtml = 'Like what you see? Visit the ' +\n",
              "            '<a target=\"_blank\" href=https://colab.research.google.com/notebooks/data_table.ipynb>data table notebook</a>'\n",
              "            + ' to learn more about interactive tables.';\n",
              "          element.innerHTML = '';\n",
              "          dataTable['output_type'] = 'display_data';\n",
              "          await google.colab.output.renderOutput(dataTable, element);\n",
              "          const docLink = document.createElement('div');\n",
              "          docLink.innerHTML = docLinkHtml;\n",
              "          element.appendChild(docLink);\n",
              "        }\n",
              "      </script>\n",
              "    </div>\n",
              "  </div>\n",
              "  "
            ],
            "text/plain": [
              "   mc_cri_vdrl  mc_get_risco_gestacional  mc_mul_est_civil  \\\n",
              "0          0.0                       0.0               0.0   \n",
              "1          0.0                       0.0               1.0   \n",
              "2          0.0                       0.0               1.0   \n",
              "3          0.0                       0.5               1.0   \n",
              "4          0.0                       0.0               1.0   \n",
              "\n",
              "   mc_mul_nivel_inseguranca  mc_mul_qtd_aborto  mc_mul_qtd_filhos_vivos  \\\n",
              "0                       0.0                0.0                      0.0   \n",
              "1                       0.0                0.0                      0.0   \n",
              "2                       0.0                0.0                      0.0   \n",
              "3                       0.0                0.0                      0.0   \n",
              "4                       0.0                0.0                      0.0   \n",
              "\n",
              "   mc_mul_qtd_gest  mc_mul_rec_inf_plan_fam  mc_mul_tipo_const_casa  \\\n",
              "0              0.0                      1.0                     0.8   \n",
              "1              0.0                      0.0                     0.8   \n",
              "2              0.0                      1.0                     0.8   \n",
              "3              0.0                      1.0                     0.8   \n",
              "4              0.0                      0.0                     0.8   \n",
              "\n",
              "   mc_dae_escolaridade  mc_dae_rfa  idade  \n",
              "0                0.625        0.00    1.0  \n",
              "1                0.625        0.75    1.0  \n",
              "2                0.750        0.50    1.0  \n",
              "3                0.250        0.25    1.0  \n",
              "4                0.750        0.00    1.0  "
            ]
          },
          "execution_count": 3,
          "metadata": {},
          "output_type": "execute_result"
        }
      ],
      "source": [
        "df.head()"
      ]
    },
    {
      "cell_type": "code",
      "execution_count": null,
      "metadata": {
        "colab": {
          "base_uri": "https://localhost:8080/"
        },
        "id": "mzXCsbYtgPx7",
        "outputId": "3de171af-002e-4ddd-856f-77434256ca38"
      },
      "outputs": [
        {
          "name": "stdout",
          "output_type": "stream",
          "text": [
            "0.0    862\n",
            "1.0    862\n",
            "Name: mc_cri_vdrl, dtype: int64\n",
            "0.0    862\n",
            "1.0    862\n",
            "Name: mc_cri_vdrl, dtype: int64\n",
            "0.0    862\n",
            "1.0    862\n",
            "Name: mc_cri_vdrl, dtype: int64\n",
            "0.0    862\n",
            "1.0    862\n",
            "Name: mc_cri_vdrl, dtype: int64\n",
            "0.0    862\n",
            "1.0    862\n",
            "Name: mc_cri_vdrl, dtype: int64\n",
            "0.0    862\n",
            "1.0    862\n",
            "Name: mc_cri_vdrl, dtype: int64\n",
            "0.0    862\n",
            "1.0    862\n",
            "Name: mc_cri_vdrl, dtype: int64\n",
            "0.0    862\n",
            "1.0    862\n",
            "Name: mc_cri_vdrl, dtype: int64\n",
            "0.0    862\n",
            "1.0    862\n",
            "Name: mc_cri_vdrl, dtype: int64\n",
            "0.0    862\n",
            "1.0    862\n",
            "Name: mc_cri_vdrl, dtype: int64\n",
            "0.0    862\n",
            "1.0    862\n",
            "Name: mc_cri_vdrl, dtype: int64\n",
            "0.0    862\n",
            "1.0    862\n",
            "Name: mc_cri_vdrl, dtype: int64\n",
            "0.0    862\n",
            "1.0    862\n",
            "Name: mc_cri_vdrl, dtype: int64\n",
            "0.0    862\n",
            "1.0    862\n",
            "Name: mc_cri_vdrl, dtype: int64\n",
            "0.0    862\n",
            "1.0    862\n",
            "Name: mc_cri_vdrl, dtype: int64\n",
            "0.0    862\n",
            "1.0    862\n",
            "Name: mc_cri_vdrl, dtype: int64\n",
            "0.0    862\n",
            "1.0    862\n",
            "Name: mc_cri_vdrl, dtype: int64\n",
            "0.0    862\n",
            "1.0    862\n",
            "Name: mc_cri_vdrl, dtype: int64\n",
            "0.0    862\n",
            "1.0    862\n",
            "Name: mc_cri_vdrl, dtype: int64\n",
            "0.0    862\n",
            "1.0    862\n",
            "Name: mc_cri_vdrl, dtype: int64\n",
            "0.0    862\n",
            "1.0    862\n",
            "Name: mc_cri_vdrl, dtype: int64\n"
          ]
        }
      ],
      "source": [
        "X = df.drop(labels=['mc_cri_vdrl'], axis=1)\n",
        "y = df['mc_cri_vdrl']\n",
        "\n",
        "version=3 # version\n",
        "n_neighbors=[1, 3, 5, 7, 9, 11, 13] # quantity of neighbors\n",
        "n_neighbors_v3=[1, 3, 5, 7, 9, 11, 13]\n",
        "\n",
        "for n1 in n_neighbors:\n",
        "  for n2 in n_neighbors_v3:\n",
        "    if n2 > n1:\n",
        "      nm = NearMiss(\n",
        "          sampling_strategy='majority',\n",
        "          version=version,\n",
        "          n_neighbors=n1,\n",
        "          n_neighbors_ver3=n2,\n",
        "          n_jobs=-1\n",
        "      )\n",
        "\n",
        "      X_res, y_res = nm.fit_resample(X, y)\n",
        "      X_res.insert(0, 'mc_cri_vdrl', y_res, True)\n",
        "      print(X_res['mc_cri_vdrl'].value_counts())\n",
        "      X_res.to_csv(path+'bases-pre-proc/'+'base_moda_near_miss_'+str(version)+'_k'+str(n1)+str(n2)+'_RECORTE_FEITO_NORMALIZADO.csv', sep=',', index=False)"
      ]
    },
    {
      "cell_type": "code",
      "execution_count": null,
      "metadata": {
        "colab": {
          "base_uri": "https://localhost:8080/"
        },
        "id": "eP82_gdsLRHa",
        "outputId": "f77084b3-d7fe-4f68-8e32-3036154ced10"
      },
      "outputs": [
        {
          "name": "stdout",
          "output_type": "stream",
          "text": [
            "0.0    862\n",
            "1.0    862\n",
            "Name: mc_cri_vdrl, dtype: int64\n",
            "0.0    862\n",
            "1.0    862\n",
            "Name: mc_cri_vdrl, dtype: int64\n",
            "0.0    862\n",
            "1.0    862\n",
            "Name: mc_cri_vdrl, dtype: int64\n",
            "0.0    862\n",
            "1.0    862\n",
            "Name: mc_cri_vdrl, dtype: int64\n",
            "0.0    862\n",
            "1.0    862\n",
            "Name: mc_cri_vdrl, dtype: int64\n",
            "0.0    862\n",
            "1.0    862\n",
            "Name: mc_cri_vdrl, dtype: int64\n",
            "0.0    862\n",
            "1.0    862\n",
            "Name: mc_cri_vdrl, dtype: int64\n"
          ]
        }
      ],
      "source": [
        "X = df.drop(labels=['mc_cri_vdrl'], axis=1)\n",
        "y = df['mc_cri_vdrl']\n",
        "\n",
        "version=1 # version\n",
        "n_neighbors=[1, 3, 5, 7, 9, 11, 13] # quantity of neighbors\n",
        "\n",
        "for n1 in n_neighbors:\n",
        "  nm = NearMiss(\n",
        "      sampling_strategy='majority',\n",
        "      version=version,\n",
        "      n_neighbors=n1,\n",
        "      n_jobs=-1\n",
        "  )\n",
        "\n",
        "  X_res, y_res = nm.fit_resample(X, y)\n",
        "  X_res.insert(0, 'mc_cri_vdrl', y_res, True)\n",
        "  print(X_res['mc_cri_vdrl'].value_counts())\n",
        "  X_res.to_csv(path+'bases-pre-proc/'+'base_moda_near_miss_'+str(version)+'_k'+str(n1)+'_RECORTE_FEITO_NORMALIZADO.csv', sep=',', index=False)"
      ]
    },
    {
      "cell_type": "code",
      "execution_count": null,
      "metadata": {
        "colab": {
          "base_uri": "https://localhost:8080/"
        },
        "id": "xOebAydJMAiS",
        "outputId": "d75c2b52-c2df-4ed7-ad4e-362201df84f7"
      },
      "outputs": [
        {
          "name": "stdout",
          "output_type": "stream",
          "text": [
            "0.0    862\n",
            "1.0    862\n",
            "Name: mc_cri_vdrl, dtype: int64\n",
            "0.0    862\n",
            "1.0    862\n",
            "Name: mc_cri_vdrl, dtype: int64\n",
            "0.0    862\n",
            "1.0    862\n",
            "Name: mc_cri_vdrl, dtype: int64\n",
            "0.0    862\n",
            "1.0    862\n",
            "Name: mc_cri_vdrl, dtype: int64\n",
            "0.0    862\n",
            "1.0    862\n",
            "Name: mc_cri_vdrl, dtype: int64\n",
            "0.0    862\n",
            "1.0    862\n",
            "Name: mc_cri_vdrl, dtype: int64\n",
            "0.0    862\n",
            "1.0    862\n",
            "Name: mc_cri_vdrl, dtype: int64\n"
          ]
        }
      ],
      "source": [
        "X = df.drop(labels=['mc_cri_vdrl'], axis=1)\n",
        "y = df['mc_cri_vdrl']\n",
        "\n",
        "version=2 # version\n",
        "n_neighbors=[1, 3, 5, 7, 9, 11, 13] # quantidade de vizinhos\n",
        "\n",
        "for n1 in n_neighbors:\n",
        "  nm = NearMiss(\n",
        "      sampling_strategy='majority',\n",
        "      version=version,\n",
        "      n_neighbors=n1,\n",
        "      n_jobs=-1\n",
        "  )\n",
        "\n",
        "  X_res, y_res = nm.fit_resample(X, y)\n",
        "  X_res.insert(0, 'mc_cri_vdrl', y_res, True)\n",
        "  print(X_res['mc_cri_vdrl'].value_counts())\n",
        "  X_res.to_csv(path+'bases-pre-proc/'+'base_moda_near_miss_'+str(version)+'_k'+str(n1)+'_RECORTE_FEITO_NORMALIZADO.csv', sep=',', index=False)"
      ]
    },
    {
      "cell_type": "code",
      "execution_count": null,
      "metadata": {
        "colab": {
          "base_uri": "https://localhost:8080/"
        },
        "id": "SEOvZn4h_4V5",
        "outputId": "443e6abe-e143-418b-8842-4435f724f442"
      },
      "outputs": [
        {
          "data": {
            "text/plain": [
              "0.0    862\n",
              "1.0    862\n",
              "Name: mc_cri_vdrl, dtype: int64"
            ]
          },
          "execution_count": 10,
          "metadata": {},
          "output_type": "execute_result"
        }
      ],
      "source": [
        "X_res['mc_cri_vdrl'].value_counts()"
      ]
    },
    {
      "cell_type": "code",
      "execution_count": null,
      "metadata": {
        "id": "TeLhJ2ovNk9d"
      },
      "outputs": [],
      "source": []
    }
  ],
  "metadata": {
    "colab": {
      "provenance": []
    },
    "kernelspec": {
      "display_name": "Python 3",
      "name": "python3"
    },
    "language_info": {
      "name": "python"
    }
  },
  "nbformat": 4,
  "nbformat_minor": 0
}
