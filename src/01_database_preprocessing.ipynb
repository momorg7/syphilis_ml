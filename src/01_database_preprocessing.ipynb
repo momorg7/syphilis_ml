{
  "cells": [
    {
      "cell_type": "code",
      "execution_count": null,
      "metadata": {
        "colab": {
          "base_uri": "https://localhost:8080/"
        },
        "id": "4qUXmlbl1hef",
        "outputId": "0612a0fd-b59f-4679-ee9f-a4cfd7a50d9d"
      },
      "outputs": [
        {
          "name": "stdout",
          "output_type": "stream",
          "text": [
            "Mounted at /content/gdrive\n"
          ]
        }
      ],
      "source": [
        "import pandas as pd\n",
        "import numpy as np\n",
        "import matplotlib.pyplot as plt\n",
        "from sklearn.preprocessing import MinMaxScaler\n",
        "\n",
        "from google.colab import drive\n",
        "drive.mount('/content/gdrive', force_remount=True)"
      ]
    },
    {
      "cell_type": "code",
      "execution_count": null,
      "metadata": {
        "colab": {
          "base_uri": "https://localhost:8080/"
        },
        "id": "UTUzEpwd2kAp",
        "outputId": "b16a9ae2-e59f-43aa-8abe-b9e9b66134cc"
      },
      "outputs": [
        {
          "name": "stderr",
          "output_type": "stream",
          "text": [
            "/usr/local/lib/python3.8/dist-packages/IPython/core/interactiveshell.py:3326: DtypeWarning: Columns (45,46,48,76,93,109,112,125,135,177,179,186,192,205,212,220,237) have mixed types.Specify dtype option on import or set low_memory=False.\n",
            "  exec(code_obj, self.user_global_ns, self.user_ns)\n"
          ]
        }
      ],
      "source": [
        "path = 'PATH_TO_DATASET_IN_DRIVE'\n",
        "df = pd.read_csv(path+\"unified_dataset_ibge.csv\", sep=',')"
      ]
    },
    {
      "cell_type": "code",
      "execution_count": null,
      "metadata": {
        "colab": {
          "base_uri": "https://localhost:8080/",
          "height": 317
        },
        "id": "aARmPiW2dtnF",
        "outputId": "b74f9bb1-46f3-4eb7-855b-bb6cce5ac91a"
      },
      "outputs": [
        {
          "data": {
            "text/html": [
              "\n",
              "  <div id=\"df-9d78632c-8b33-4d92-8c49-868f972d2542\">\n",
              "    <div class=\"colab-df-container\">\n",
              "      <div>\n",
              "<style scoped>\n",
              "    .dataframe tbody tr th:only-of-type {\n",
              "        vertical-align: middle;\n",
              "    }\n",
              "\n",
              "    .dataframe tbody tr th {\n",
              "        vertical-align: top;\n",
              "    }\n",
              "\n",
              "    .dataframe thead th {\n",
              "        text-align: right;\n",
              "    }\n",
              "</style>\n",
              "<table border=\"1\" class=\"dataframe\">\n",
              "  <thead>\n",
              "    <tr style=\"text-align: right;\">\n",
              "      <th></th>\n",
              "      <th>mc_cri_aleitamento</th>\n",
              "      <th>mc_cri_analise_conclusao</th>\n",
              "      <th>mc_cri_apgar_1_minuto</th>\n",
              "      <th>mc_cri_apgar_5_minuto</th>\n",
              "      <th>mc_cri_comentario_encaminhamento</th>\n",
              "      <th>mc_cri_data_certidao_nascimento</th>\n",
              "      <th>mc_cri_data_obito</th>\n",
              "      <th>mc_cri_data_teste_orelhinha</th>\n",
              "      <th>mc_cri_data_teste_pezinho</th>\n",
              "      <th>mc_cri_data_triagem</th>\n",
              "      <th>...</th>\n",
              "      <th>mc_ips_id</th>\n",
              "      <th>mc_ins_id</th>\n",
              "      <th>mc_mul_id_y</th>\n",
              "      <th>mc_dae_mun_atend_id</th>\n",
              "      <th>mc_dae_ptr_id</th>\n",
              "      <th>mc_dae_pma_id</th>\n",
              "      <th>mc_dae_ten_id</th>\n",
              "      <th>mc_dae_uns_id</th>\n",
              "      <th>ativo</th>\n",
              "      <th>dataexclusao_y</th>\n",
              "    </tr>\n",
              "  </thead>\n",
              "  <tbody>\n",
              "    <tr>\n",
              "      <th>0</th>\n",
              "      <td>0.0</td>\n",
              "      <td>NaN</td>\n",
              "      <td>9.0</td>\n",
              "      <td>10.0</td>\n",
              "      <td>NaN</td>\n",
              "      <td>2014-10-05</td>\n",
              "      <td>NaN</td>\n",
              "      <td>NaN</td>\n",
              "      <td>NaN</td>\n",
              "      <td>NaN</td>\n",
              "      <td>...</td>\n",
              "      <td>28491</td>\n",
              "      <td>1938078</td>\n",
              "      <td>39798</td>\n",
              "      <td>113.0</td>\n",
              "      <td>NaN</td>\n",
              "      <td>1.0</td>\n",
              "      <td>1.0</td>\n",
              "      <td>NaN</td>\n",
              "      <td>True</td>\n",
              "      <td>NaN</td>\n",
              "    </tr>\n",
              "    <tr>\n",
              "      <th>1</th>\n",
              "      <td>NaN</td>\n",
              "      <td>NaN</td>\n",
              "      <td>NaN</td>\n",
              "      <td>NaN</td>\n",
              "      <td>NaN</td>\n",
              "      <td>2010-08-19</td>\n",
              "      <td>NaN</td>\n",
              "      <td>NaN</td>\n",
              "      <td>NaN</td>\n",
              "      <td>NaN</td>\n",
              "      <td>...</td>\n",
              "      <td>28491</td>\n",
              "      <td>1938078</td>\n",
              "      <td>39798</td>\n",
              "      <td>113.0</td>\n",
              "      <td>NaN</td>\n",
              "      <td>1.0</td>\n",
              "      <td>1.0</td>\n",
              "      <td>NaN</td>\n",
              "      <td>True</td>\n",
              "      <td>NaN</td>\n",
              "    </tr>\n",
              "    <tr>\n",
              "      <th>2</th>\n",
              "      <td>1.0</td>\n",
              "      <td>NaN</td>\n",
              "      <td>3.0</td>\n",
              "      <td>9.0</td>\n",
              "      <td>NaN</td>\n",
              "      <td>2009-08-18</td>\n",
              "      <td>NaN</td>\n",
              "      <td>NaN</td>\n",
              "      <td>NaN</td>\n",
              "      <td>NaN</td>\n",
              "      <td>...</td>\n",
              "      <td>30490</td>\n",
              "      <td>5319596</td>\n",
              "      <td>42180</td>\n",
              "      <td>114.0</td>\n",
              "      <td>5.0</td>\n",
              "      <td>1.0</td>\n",
              "      <td>7.0</td>\n",
              "      <td>NaN</td>\n",
              "      <td>True</td>\n",
              "      <td>NaN</td>\n",
              "    </tr>\n",
              "    <tr>\n",
              "      <th>3</th>\n",
              "      <td>1.0</td>\n",
              "      <td>NaN</td>\n",
              "      <td>6.0</td>\n",
              "      <td>9.0</td>\n",
              "      <td>NaN</td>\n",
              "      <td>2009-08-18</td>\n",
              "      <td>NaN</td>\n",
              "      <td>NaN</td>\n",
              "      <td>NaN</td>\n",
              "      <td>NaN</td>\n",
              "      <td>...</td>\n",
              "      <td>30490</td>\n",
              "      <td>5319596</td>\n",
              "      <td>42180</td>\n",
              "      <td>114.0</td>\n",
              "      <td>5.0</td>\n",
              "      <td>1.0</td>\n",
              "      <td>7.0</td>\n",
              "      <td>NaN</td>\n",
              "      <td>True</td>\n",
              "      <td>NaN</td>\n",
              "    </tr>\n",
              "    <tr>\n",
              "      <th>4</th>\n",
              "      <td>0.0</td>\n",
              "      <td>NaN</td>\n",
              "      <td>9.0</td>\n",
              "      <td>10.0</td>\n",
              "      <td>CAPTACAO PRECOCE PELO CANTO DA CRIANCA</td>\n",
              "      <td>2020-12-07</td>\n",
              "      <td>NaN</td>\n",
              "      <td>NaN</td>\n",
              "      <td>NaN</td>\n",
              "      <td>NaN</td>\n",
              "      <td>...</td>\n",
              "      <td>30490</td>\n",
              "      <td>5319596</td>\n",
              "      <td>42180</td>\n",
              "      <td>114.0</td>\n",
              "      <td>5.0</td>\n",
              "      <td>1.0</td>\n",
              "      <td>7.0</td>\n",
              "      <td>NaN</td>\n",
              "      <td>True</td>\n",
              "      <td>NaN</td>\n",
              "    </tr>\n",
              "  </tbody>\n",
              "</table>\n",
              "<p>5 rows × 238 columns</p>\n",
              "</div>\n",
              "      <button class=\"colab-df-convert\" onclick=\"convertToInteractive('df-9d78632c-8b33-4d92-8c49-868f972d2542')\"\n",
              "              title=\"Convert this dataframe to an interactive table.\"\n",
              "              style=\"display:none;\">\n",
              "        \n",
              "  <svg xmlns=\"http://www.w3.org/2000/svg\" height=\"24px\"viewBox=\"0 0 24 24\"\n",
              "       width=\"24px\">\n",
              "    <path d=\"M0 0h24v24H0V0z\" fill=\"none\"/>\n",
              "    <path d=\"M18.56 5.44l.94 2.06.94-2.06 2.06-.94-2.06-.94-.94-2.06-.94 2.06-2.06.94zm-11 1L8.5 8.5l.94-2.06 2.06-.94-2.06-.94L8.5 2.5l-.94 2.06-2.06.94zm10 10l.94 2.06.94-2.06 2.06-.94-2.06-.94-.94-2.06-.94 2.06-2.06.94z\"/><path d=\"M17.41 7.96l-1.37-1.37c-.4-.4-.92-.59-1.43-.59-.52 0-1.04.2-1.43.59L10.3 9.45l-7.72 7.72c-.78.78-.78 2.05 0 2.83L4 21.41c.39.39.9.59 1.41.59.51 0 1.02-.2 1.41-.59l7.78-7.78 2.81-2.81c.8-.78.8-2.07 0-2.86zM5.41 20L4 18.59l7.72-7.72 1.47 1.35L5.41 20z\"/>\n",
              "  </svg>\n",
              "      </button>\n",
              "      \n",
              "  <style>\n",
              "    .colab-df-container {\n",
              "      display:flex;\n",
              "      flex-wrap:wrap;\n",
              "      gap: 12px;\n",
              "    }\n",
              "\n",
              "    .colab-df-convert {\n",
              "      background-color: #E8F0FE;\n",
              "      border: none;\n",
              "      border-radius: 50%;\n",
              "      cursor: pointer;\n",
              "      display: none;\n",
              "      fill: #1967D2;\n",
              "      height: 32px;\n",
              "      padding: 0 0 0 0;\n",
              "      width: 32px;\n",
              "    }\n",
              "\n",
              "    .colab-df-convert:hover {\n",
              "      background-color: #E2EBFA;\n",
              "      box-shadow: 0px 1px 2px rgba(60, 64, 67, 0.3), 0px 1px 3px 1px rgba(60, 64, 67, 0.15);\n",
              "      fill: #174EA6;\n",
              "    }\n",
              "\n",
              "    [theme=dark] .colab-df-convert {\n",
              "      background-color: #3B4455;\n",
              "      fill: #D2E3FC;\n",
              "    }\n",
              "\n",
              "    [theme=dark] .colab-df-convert:hover {\n",
              "      background-color: #434B5C;\n",
              "      box-shadow: 0px 1px 3px 1px rgba(0, 0, 0, 0.15);\n",
              "      filter: drop-shadow(0px 1px 2px rgba(0, 0, 0, 0.3));\n",
              "      fill: #FFFFFF;\n",
              "    }\n",
              "  </style>\n",
              "\n",
              "      <script>\n",
              "        const buttonEl =\n",
              "          document.querySelector('#df-9d78632c-8b33-4d92-8c49-868f972d2542 button.colab-df-convert');\n",
              "        buttonEl.style.display =\n",
              "          google.colab.kernel.accessAllowed ? 'block' : 'none';\n",
              "\n",
              "        async function convertToInteractive(key) {\n",
              "          const element = document.querySelector('#df-9d78632c-8b33-4d92-8c49-868f972d2542');\n",
              "          const dataTable =\n",
              "            await google.colab.kernel.invokeFunction('convertToInteractive',\n",
              "                                                     [key], {});\n",
              "          if (!dataTable) return;\n",
              "\n",
              "          const docLinkHtml = 'Like what you see? Visit the ' +\n",
              "            '<a target=\"_blank\" href=https://colab.research.google.com/notebooks/data_table.ipynb>data table notebook</a>'\n",
              "            + ' to learn more about interactive tables.';\n",
              "          element.innerHTML = '';\n",
              "          dataTable['output_type'] = 'display_data';\n",
              "          await google.colab.output.renderOutput(dataTable, element);\n",
              "          const docLink = document.createElement('div');\n",
              "          docLink.innerHTML = docLinkHtml;\n",
              "          element.appendChild(docLink);\n",
              "        }\n",
              "      </script>\n",
              "    </div>\n",
              "  </div>\n",
              "  "
            ],
            "text/plain": [
              "   mc_cri_aleitamento  mc_cri_analise_conclusao  mc_cri_apgar_1_minuto  \\\n",
              "0                 0.0                       NaN                    9.0   \n",
              "1                 NaN                       NaN                    NaN   \n",
              "2                 1.0                       NaN                    3.0   \n",
              "3                 1.0                       NaN                    6.0   \n",
              "4                 0.0                       NaN                    9.0   \n",
              "\n",
              "   mc_cri_apgar_5_minuto        mc_cri_comentario_encaminhamento  \\\n",
              "0                   10.0                                     NaN   \n",
              "1                    NaN                                     NaN   \n",
              "2                    9.0                                     NaN   \n",
              "3                    9.0                                     NaN   \n",
              "4                   10.0  CAPTACAO PRECOCE PELO CANTO DA CRIANCA   \n",
              "\n",
              "  mc_cri_data_certidao_nascimento mc_cri_data_obito  \\\n",
              "0                      2014-10-05               NaN   \n",
              "1                      2010-08-19               NaN   \n",
              "2                      2009-08-18               NaN   \n",
              "3                      2009-08-18               NaN   \n",
              "4                      2020-12-07               NaN   \n",
              "\n",
              "  mc_cri_data_teste_orelhinha mc_cri_data_teste_pezinho  mc_cri_data_triagem  \\\n",
              "0                         NaN                       NaN                  NaN   \n",
              "1                         NaN                       NaN                  NaN   \n",
              "2                         NaN                       NaN                  NaN   \n",
              "3                         NaN                       NaN                  NaN   \n",
              "4                         NaN                       NaN                  NaN   \n",
              "\n",
              "   ...  mc_ips_id  mc_ins_id  mc_mul_id_y mc_dae_mun_atend_id  mc_dae_ptr_id  \\\n",
              "0  ...      28491    1938078        39798               113.0            NaN   \n",
              "1  ...      28491    1938078        39798               113.0            NaN   \n",
              "2  ...      30490    5319596        42180               114.0            5.0   \n",
              "3  ...      30490    5319596        42180               114.0            5.0   \n",
              "4  ...      30490    5319596        42180               114.0            5.0   \n",
              "\n",
              "   mc_dae_pma_id  mc_dae_ten_id mc_dae_uns_id ativo  dataexclusao_y  \n",
              "0            1.0            1.0           NaN  True             NaN  \n",
              "1            1.0            1.0           NaN  True             NaN  \n",
              "2            1.0            7.0           NaN  True             NaN  \n",
              "3            1.0            7.0           NaN  True             NaN  \n",
              "4            1.0            7.0           NaN  True             NaN  \n",
              "\n",
              "[5 rows x 238 columns]"
            ]
          },
          "execution_count": 154,
          "metadata": {},
          "output_type": "execute_result"
        }
      ],
      "source": [
        "df.head()"
      ]
    },
    {
      "cell_type": "code",
      "execution_count": null,
      "metadata": {
        "colab": {
          "base_uri": "https://localhost:8080/"
        },
        "id": "xyEa7EsBdw5G",
        "outputId": "d6a0718e-ce05-4ec7-af9b-277d8fe4a464"
      },
      "outputs": [
        {
          "data": {
            "text/plain": [
              "(217993, 238)"
            ]
          },
          "execution_count": 155,
          "metadata": {},
          "output_type": "execute_result"
        }
      ],
      "source": [
        "df.shape"
      ]
    },
    {
      "cell_type": "code",
      "execution_count": null,
      "metadata": {
        "colab": {
          "base_uri": "https://localhost:8080/"
        },
        "id": "4V4A-Op67l7E",
        "outputId": "8ddc9024-40a2-44f1-f69c-77424cc80093"
      },
      "outputs": [
        {
          "name": "stdout",
          "output_type": "stream",
          "text": [
            "mc_cri_aleitamento\n",
            "mc_cri_analise_conclusao\n",
            "mc_cri_apgar_1_minuto\n",
            "mc_cri_apgar_5_minuto\n",
            "mc_cri_comentario_encaminhamento\n",
            "mc_cri_data_certidao_nascimento\n",
            "mc_cri_data_obito\n",
            "mc_cri_data_teste_orelhinha\n",
            "mc_cri_data_teste_pezinho\n",
            "mc_cri_data_triagem\n",
            "mc_cri_estatura\n",
            "mc_cri_fator_rh\n",
            "mc_cri_grupo_sanguineo\n",
            "mc_cri_hora_nascimento\n",
            "mc_cri_hospitalizacao\n",
            "mc_cri_idade_gestacional_capurro\n",
            "mc_cri_motivo_hospitalizacao\n",
            "mc_cri_nome_pai\n",
            "mc_cri_obito\n",
            "mc_cri_obito_investigado\n",
            "mc_cri_perimetro_cefalico\n",
            "mc_cri_peso_nascimento\n",
            "mc_cri_reanimacao\n",
            "mc_cri_registrada\n",
            "mc_cri_reg_maternidade\n",
            "mc_cri_resultado_teste_orelhinha\n",
            "mc_cri_resultado_teste_pezinho\n",
            "mc_cri_resultado_triagem\n",
            "mc_cri_status\n",
            "mc_cri_teste_orelhinha\n",
            "mc_cri_teste_pezinho\n",
            "mc_cri_alimentacao\n",
            "mc_cri_triagem_neo_natal\n",
            "mc_cri_vacina_bcg\n",
            "mc_cri_vacina_hep_b\n",
            "mc_cri_vdrl\n",
            "mc_pes_id_x\n",
            "mc_cri_causa_obito_id\n",
            "mc_par_id\n",
            "mc_cri_populacao_tradicional_id\n",
            "mc_acc_atual_id\n",
            "mc_ult_acc_tipo_alimentacao_id\n",
            "mc_mun_id_moradia_x\n",
            "ativo_x_x\n",
            "mc_cri_cpf\n",
            "mc_cri_nis\n",
            "mc_cri_data_conclu_obt\n",
            "mc_cri_faz_tratamento_vdrl\n",
            "mc_cri_tratamento_vdrl_data\n",
            "mc_cri_tratamento_vdrl_local\n",
            "mc_par_dt_incl\n",
            "mc_par_dt_ult_alt\n",
            "mc_par_versao\n",
            "mc_par_administrado_vitamina_a\n",
            "mc_par_amamentou_sala_parto\n",
            "mc_par_comentario_encaminhamento\n",
            "mc_par_contato_pele_sala_parto\n",
            "mc_par_data\n",
            "mc_par_hora\n",
            "mc_par_idade_gestacional_semana\n",
            "mc_par_iniciotp\n",
            "mc_par_local_parto\n",
            "mc_par_local_visita_puerperal\n",
            "mc_par_morte_fetal\n",
            "mc_par_orientacao_consulta\n",
            "mc_par_qtd_consulta_puerperal_dia\n",
            "mc_par_responsavel_assist_rn\n",
            "mc_par_responsavel_parto\n",
            "mc_par_tipo_gravidez\n",
            "mc_par_tipo_parto\n",
            "usuarioversao_mc_usu_id_x\n",
            "mc_par_causa_morte_fetal_parto\n",
            "mc_get_id\n",
            "mc_los_id\n",
            "mc_par_prematuro\n",
            "ativo_y_x\n",
            "dataexclusao_x_x\n",
            "mc_get_dt_incl\n",
            "mc_get_dt_ult_alt\n",
            "mc_get_versao\n",
            "mc_get_alcool\n",
            "mc_get_frequencia_uso_alcool\n",
            "mc_get_data_dpp\n",
            "mc_get_data_dum\n",
            "mc_get_duvida_dum\n",
            "mc_get_fator_rh\n",
            "mc_get_frequencia_uso_drogas\n",
            "mc_get_fumo\n",
            "mc_get_gravidez_planejada\n",
            "mc_get_grupo_mulher\n",
            "mc_get_grupo_sanguineo\n",
            "mc_get_idade_gestacional_final\n",
            "mc_get_idade_gestacional_semana\n",
            "mc_get_numero_sisprenat\n",
            "mc_get_peso_anterior\n",
            "mc_get_qtd_cigarro_dia\n",
            "mc_get_qtd_consulta_pre_natal_enfermeiro\n",
            "mc_get_qtd_consulta_pre_natal_medico\n",
            "mc_get_qtd_semana_morte_fetal_aborto\n",
            "mc_get_reforco\n",
            "mc_get_risco_gestacional\n",
            "mc_get_sensibilizada\n",
            "mc_get_situacao_gestacao\n",
            "mc_get_vacina_anti_tetanica\n",
            "usuarioversao_mc_usu_id_y\n",
            "mc_get_causa_morte_fetal_aborto\n",
            "mc_get_mat_sugerida_id\n",
            "mc_mul_id_x\n",
            "mc_get_vacina_hep_b\n",
            "mc_get_data_aborto\n",
            "mc_get_ini_env_kit_bebe\n",
            "ativo_x\n",
            "dataexclusao_y_x\n",
            "data_cadastro\n",
            "mc_get_perio_capta\n",
            "mc_mul_amamentacao\n",
            "mc_mul_apelido\n",
            "mc_mul_apelido_conjuge\n",
            "mc_mul_aptidao\n",
            "mc_mul_cart_identidade\n",
            "mc_mul_cart_trabalho\n",
            "mc_mul_chefe_familia\n",
            "mc_mul_conjuge\n",
            "mc_mul_cpf_conjuge\n",
            "mc_mul_data_nascimento\n",
            "mc_mul_data_obito\n",
            "mc_mul_data_ult_gest\n",
            "mc_mul_dur_meses_amam\n",
            "mc_mul_em_risco\n",
            "mc_mul_epocaobito\n",
            "mc_mul_est_civil\n",
            "mc_mul_idade_sexo_filhos\n",
            "mc_mul_nivel_inseguranca\n",
            "mc_mul_obito_investigado\n",
            "mc_mul_ori_met_contracept\n",
            "mc_mul_outros_cursos\n",
            "mc_mul_part_cir_ed\n",
            "mc_mul_qtd_aborto\n",
            "mc_mul_qtd_ectopicas\n",
            "mc_mul_qtd_filhos_vivos\n",
            "mc_mul_qtd_gemelares\n",
            "mc_mul_qtd_gest\n",
            "mc_mul_qtd_nasc_mortos\n",
            "mc_mul_qtd_nasc_vivos\n",
            "mc_mul_qtd_obitos_1_sem\n",
            "mc_mul_qtd_obitos_apos_1_sem\n",
            "mc_mul_qtd_partos\n",
            "mc_mul_qtd_partos_cesario\n",
            "mc_mul_qtd_partos_vaginais\n",
            "mc_mul_qtd_rn_peso_2500_3800\n",
            "mc_mul_qtd_rn_peso_maior_3800\n",
            "mc_mul_qtd_rn_peso_menor_2500\n",
            "mc_mul_rec_inf_plan_fam\n",
            "mc_mul_serv_saude\n",
            "mc_mul_situacao_mulher\n",
            "mc_mul_telefone\n",
            "mc_mul_tipo_const_casa\n",
            "mc_pes_id_y\n",
            "mc_mul_cia_id\n",
            "mc_mul_causa_obito_id\n",
            "mc_mul_cob_id\n",
            "mc_mul_cob_pos1_id\n",
            "mc_mul_mun_id\n",
            "mc_mul_loc_mae\n",
            "mc_mul_unid_sau_familia_id\n",
            "mc_mul_ultima_gestacao_id\n",
            "mc_mul_dado_evolutivo_atual_id\n",
            "mc_mul_data_adesao\n",
            "mc_mul_primeiro_dado_evolutivo_id\n",
            "mc_mul_renda_familiar\n",
            "mc_mul_numero_nis\n",
            "mc_mul_bairro_distrito_id\n",
            "mc_mun_id_moradia_y\n",
            "ativo_x_y\n",
            "dataexclusao_x_y\n",
            "mc_tipo_obito\n",
            "mc_mot_evasao_id\n",
            "mc_mul_data_conclu_obt\n",
            "mc_mul_possui_numero_dap\n",
            "mc_mul_numero_dap\n",
            "mc_pes_dt_incl\n",
            "mc_pes_dt_ult_alt\n",
            "mc_pes_versao\n",
            "mc_pes_data_nascimento\n",
            "mc_pes_nome\n",
            "mc_pes_nome_mae\n",
            "mc_pes_numero_cartao_sus\n",
            "mc_pes_raca_etnia\n",
            "mc_pes_sexo\n",
            "usuarioversao_mc_usu_id_x.1\n",
            "mc_mun_id_nascimento\n",
            "ativo_y_y\n",
            "dataexclusao_y_y\n",
            "mc_mun_codigo_ibge\n",
            "mc_mun_estado\n",
            "mc_loc_id\n",
            "mc_ger_id\n",
            "mc_tipo_governo\n",
            "ativo_y\n",
            "dataexclusao_x\n",
            "mc_dae_id\n",
            "mc_dae_dt_incl\n",
            "mc_dae_dt_ult_alt\n",
            "mc_dae_versao\n",
            "mc_dae_tipo_certidao\n",
            "mc_dae_cpf\n",
            "mc_dae_diagnostico_desnutricao\n",
            "mc_dae_end_mrd\n",
            "mc_dae_ener_elet_dom\n",
            "mc_dae_escolaridade\n",
            "mc_dae_loc_moradia\n",
            "mc_dae_mrd_lgd_red_esg\n",
            "mc_dae_numero_nis\n",
            "mc_dae_numero_res_domic\n",
            "mc_dae_obs\n",
            "mc_dae_possui_arv_frut\n",
            "mc_dae_possui_horta\n",
            "mc_dae_realiza_atv_pesca\n",
            "mc_dae_ref_endereco\n",
            "mc_dae_rfa\n",
            "mc_dae_rg\n",
            "mc_dae_sit_moradia\n",
            "mc_dae_trat_agua_uso\n",
            "usuarioversao_mc_usu_id_y.1\n",
            "mc_dae_ana_id\n",
            "mc_dae_canto\n",
            "mc_dae_entre_id\n",
            "mc_ipi_id\n",
            "mc_ips_id\n",
            "mc_ins_id\n",
            "mc_mul_id_y\n",
            "mc_dae_mun_atend_id\n",
            "mc_dae_ptr_id\n",
            "mc_dae_pma_id\n",
            "mc_dae_ten_id\n",
            "mc_dae_uns_id\n",
            "ativo\n",
            "dataexclusao_y\n"
          ]
        }
      ],
      "source": [
        "for col in df.columns:\n",
        "  print(col)"
      ]
    },
    {
      "cell_type": "markdown",
      "metadata": {
        "id": "aQg5yVeoUVtN"
      },
      "source": [
        "---\n",
        "Raw database preprocessing\n",
        "---\n",
        "\n",
        "---"
      ]
    },
    {
      "cell_type": "markdown",
      "metadata": {
        "id": "cJuXHDyQd95R"
      },
      "source": [
        "Deleting lines with unpopulated VDRL"
      ]
    },
    {
      "cell_type": "code",
      "execution_count": null,
      "metadata": {
        "colab": {
          "base_uri": "https://localhost:8080/"
        },
        "id": "uGF631DleEXk",
        "outputId": "efb5c338-f80a-4490-fdbb-dcde64e278e0"
      },
      "outputs": [
        {
          "data": {
            "text/plain": [
              "NaN    170313\n",
              "1.0     46657\n",
              "0.0      1023\n",
              "Name: mc_cri_vdrl, dtype: int64"
            ]
          },
          "execution_count": 157,
          "metadata": {},
          "output_type": "execute_result"
        }
      ],
      "source": [
        "df['mc_cri_vdrl'].value_counts(dropna=False)"
      ]
    },
    {
      "cell_type": "code",
      "execution_count": null,
      "metadata": {
        "id": "K2Y6dr0fe6jn"
      },
      "outputs": [],
      "source": [
        "df.dropna(subset=['mc_cri_vdrl'], inplace=True)"
      ]
    },
    {
      "cell_type": "code",
      "execution_count": null,
      "metadata": {
        "colab": {
          "base_uri": "https://localhost:8080/"
        },
        "id": "h6f-uE14fL1M",
        "outputId": "accb7e68-c7e7-42d4-a09e-cee4b28ab0ab"
      },
      "outputs": [
        {
          "data": {
            "text/plain": [
              "1.0    46657\n",
              "0.0     1023\n",
              "Name: mc_cri_vdrl, dtype: int64"
            ]
          },
          "execution_count": 159,
          "metadata": {},
          "output_type": "execute_result"
        }
      ],
      "source": [
        "df['mc_cri_vdrl'].value_counts(dropna=False) # verification"
      ]
    },
    {
      "cell_type": "code",
      "execution_count": null,
      "metadata": {
        "colab": {
          "base_uri": "https://localhost:8080/"
        },
        "id": "PfD1gnfqfy47",
        "outputId": "ff87b5db-8171-4513-c1a2-7355373b16bc"
      },
      "outputs": [
        {
          "data": {
            "text/plain": [
              "(47680, 238)"
            ]
          },
          "execution_count": 160,
          "metadata": {},
          "output_type": "execute_result"
        }
      ],
      "source": [
        "df.shape"
      ]
    },
    {
      "cell_type": "markdown",
      "metadata": {
        "id": "cU15ThnaUKhU"
      },
      "source": [
        "Manual attribute selection\n",
        "Here I select the attributes selected by PMCP staff"
      ]
    },
    {
      "cell_type": "code",
      "execution_count": null,
      "metadata": {
        "colab": {
          "base_uri": "https://localhost:8080/"
        },
        "id": "9nvXOeXIfak6",
        "outputId": "240ed24e-e12a-4300-ae30-b591ee9f44cb"
      },
      "outputs": [
        {
          "name": "stdout",
          "output_type": "stream",
          "text": [
            "Unified dataframe only with columns selected manually: (47680, 16)\n"
          ]
        }
      ],
      "source": [
        "columns_to_keep = [\n",
        "  'mc_cri_vdrl', # mc_cri_crianca\n",
        "  'mc_get_risco_gestacional', # mc_get_gestacao\n",
        "  'mc_get_dt_incl', # mc_get_gestacao (it'll used to calculate 'idade')\n",
        "  'mc_mul_data_nascimento', # mc_mul_mulher (it'll used to calculate 'idade')\n",
        "  'mc_mul_est_civil', # mc_mul_mulher\n",
        "  'mc_mul_nivel_inseguranca', # mc_mul_mulher\n",
        "  'mc_mul_qtd_aborto', # mc_mul_mulher\n",
        "  'mc_mul_qtd_filhos_vivos', # mc_mul_mulher\n",
        "  'mc_mul_qtd_gest', # mc_mul_mulher\n",
        "  'mc_mul_rec_inf_plan_fam', # mc_mul_mulher\n",
        "  'mc_mul_tipo_const_casa', # mc_mul_mulher\n",
        "  'mc_mul_renda_familiar', # mc_mul_mulher\n",
        "  'mc_dae_escolaridade', # mc_dae_dado_evolutivo\n",
        "  'mc_dae_rfa', # mc_dae_dado_evolutivo\n",
        "  #'mc_pes_raca_etnia', # RECORTE\n",
        "  'mc_dae_dt_incl', # mc_dae_dt_incl <- to generate wage value\n",
        "  'mc_dae_dt_ult_alt', # mc_dae_dt_ult_alt <- to generate wage value\n",
        "  #'mc_par_data', # RECORTE\n",
        "  #'mc_mun_codigo_ibge', # RECORTE NAO USO MAIS\n",
        "]\n",
        "\n",
        "df = df[columns_to_keep]\n",
        "print(f'Unified dataframe only with columns selected manually: {df.shape}')"
      ]
    },
    {
      "cell_type": "code",
      "execution_count": null,
      "metadata": {
        "colab": {
          "base_uri": "https://localhost:8080/"
        },
        "id": "wPb74C7XJSyb",
        "outputId": "468e0deb-9cf6-45e7-efe8-f74b5728d8a2"
      },
      "outputs": [
        {
          "name": "stdout",
          "output_type": "stream",
          "text": [
            "mc_cri_vdrl\n",
            "mc_get_risco_gestacional\n",
            "mc_get_dt_incl\n",
            "mc_mul_data_nascimento\n",
            "mc_mul_est_civil\n",
            "mc_mul_nivel_inseguranca\n",
            "mc_mul_qtd_aborto\n",
            "mc_mul_qtd_filhos_vivos\n",
            "mc_mul_qtd_gest\n",
            "mc_mul_rec_inf_plan_fam\n",
            "mc_mul_tipo_const_casa\n",
            "mc_mul_renda_familiar\n",
            "mc_dae_escolaridade\n",
            "mc_dae_rfa\n",
            "mc_dae_dt_incl\n",
            "mc_dae_dt_ult_alt\n"
          ]
        }
      ],
      "source": [
        "for col in df.columns:\n",
        "  print(col)"
      ]
    },
    {
      "cell_type": "markdown",
      "metadata": {
        "id": "9IHhvL6_UqE1"
      },
      "source": [
        "Creation of column age"
      ]
    },
    {
      "cell_type": "code",
      "execution_count": null,
      "metadata": {
        "colab": {
          "base_uri": "https://localhost:8080/"
        },
        "id": "fhrIIndQ41Mg",
        "outputId": "35ac8cc6-4232-4c9d-a8e4-db5c01278d02"
      },
      "outputs": [
        {
          "name": "stderr",
          "output_type": "stream",
          "text": [
            "/usr/local/lib/python3.8/dist-packages/pandas/core/indexing.py:1732: SettingWithCopyWarning: \n",
            "A value is trying to be set on a copy of a slice from a DataFrame\n",
            "\n",
            "See the caveats in the documentation: https://pandas.pydata.org/pandas-docs/stable/user_guide/indexing.html#returning-a-view-versus-a-copy\n",
            "  self._setitem_single_block(indexer, value, name)\n"
          ]
        }
      ],
      "source": [
        "# To determinate the age of the pregnant women when they were attended by the PMCP,\n",
        "# we subtracted the date of registration of the pregnancy in the SIS-MC, from the date of birth.\n",
        "\n",
        "# After that, the age feature was created in the data set, and\n",
        "# the date of registration of the pregnancy and date of birth were removed from it.\n",
        "\n",
        "# mc_get_dt_incl = Date of pregnancy registration in the SIS-MC\n",
        "# mc_mul_data_nascimento = Date of birth of the pregnant woman\n",
        "\n",
        "test = [\n",
        "         [1, 2], [3, 4], [np.nan, 0]\n",
        "]\n",
        "\n",
        "df_test = pd.DataFrame(data=test, columns=['col 1', 'col 2'])\n",
        "\n",
        "df_test['col 3'] = df_test['col 1'] - df_test['col 2']\n",
        "df_test['col 4'] = ''\n",
        "\n",
        "for i in range(0, (df_test.shape[0])):\n",
        "  if (np.isnan(df_test['col 1'].iloc[i]) == False) and (np.isnan(df_test['col 2'].iloc[i]) == False):\n",
        "    df_test['col 4'].iloc[i] = df_test['col 1'].iloc[i] + df_test['col 2'].iloc[i]"
      ]
    },
    {
      "cell_type": "code",
      "execution_count": null,
      "metadata": {
        "colab": {
          "base_uri": "https://localhost:8080/"
        },
        "id": "TUAJTsYeb4yQ",
        "outputId": "8cfa4ff2-86bb-4f90-cd05-412a18c8aa11"
      },
      "outputs": [
        {
          "name": "stdout",
          "output_type": "stream",
          "text": [
            "Vazios mc_get_dt_incl 0\n",
            "Vazios mc_mul_data_nascimento 25679\n"
          ]
        }
      ],
      "source": [
        "# mc_get_dt_incl = Date of pregnancy registration in the SIS-MC\n",
        "# mc_mul_data_nascimento = Date of birth of the pregnant woman\n",
        "\n",
        "print('Vazios mc_get_dt_incl', df['mc_get_dt_incl'].isna().sum())\n",
        "print('Vazios mc_mul_data_nascimento', df['mc_mul_data_nascimento'].isna().sum())"
      ]
    },
    {
      "cell_type": "code",
      "execution_count": null,
      "metadata": {
        "colab": {
          "base_uri": "https://localhost:8080/"
        },
        "id": "gc9-Aj6wPxcF",
        "outputId": "c78963ee-4572-42ab-b95f-c9c54421cbce"
      },
      "outputs": [
        {
          "name": "stderr",
          "output_type": "stream",
          "text": [
            "<ipython-input-165-5efd234f7282>:1: SettingWithCopyWarning: \n",
            "A value is trying to be set on a copy of a slice from a DataFrame.\n",
            "Try using .loc[row_indexer,col_indexer] = value instead\n",
            "\n",
            "See the caveats in the documentation: https://pandas.pydata.org/pandas-docs/stable/user_guide/indexing.html#returning-a-view-versus-a-copy\n",
            "  df['idade'] = 0\n"
          ]
        }
      ],
      "source": [
        "df['idade'] = 0"
      ]
    },
    {
      "cell_type": "code",
      "execution_count": null,
      "metadata": {
        "colab": {
          "base_uri": "https://localhost:8080/"
        },
        "id": "O6JlYAjFP6d5",
        "outputId": "4562fbb5-be1f-407b-cc11-eb2ec23b812e"
      },
      "outputs": [
        {
          "data": {
            "text/plain": [
              "5         0\n",
              "6         0\n",
              "7         0\n",
              "9         0\n",
              "12        0\n",
              "         ..\n",
              "217986    0\n",
              "217987    0\n",
              "217988    0\n",
              "217990    0\n",
              "217992    0\n",
              "Name: idade, Length: 47680, dtype: int64"
            ]
          },
          "execution_count": 166,
          "metadata": {},
          "output_type": "execute_result"
        }
      ],
      "source": [
        "df['idade']"
      ]
    },
    {
      "cell_type": "code",
      "execution_count": null,
      "metadata": {
        "colab": {
          "base_uri": "https://localhost:8080/"
        },
        "id": "X1LyxlE9YmOp",
        "outputId": "51bf3c77-8add-4bcd-e45b-4b91512cc39d"
      },
      "outputs": [
        {
          "data": {
            "text/plain": [
              "0    47680\n",
              "Name: idade, dtype: int64"
            ]
          },
          "execution_count": 167,
          "metadata": {},
          "output_type": "execute_result"
        }
      ],
      "source": [
        "df['idade'].value_counts()"
      ]
    },
    {
      "cell_type": "code",
      "execution_count": null,
      "metadata": {
        "colab": {
          "base_uri": "https://localhost:8080/"
        },
        "id": "kDawDpmHQGEI",
        "outputId": "6ab6e845-31a7-420d-e6ae-d68456b97b87"
      },
      "outputs": [
        {
          "data": {
            "text/plain": [
              "5         2020-01-23 11:17:52.248\n",
              "6         2019-10-29 10:03:41.846\n",
              "7         2019-06-18 12:52:00.483\n",
              "9         2019-09-30 14:47:11.660\n",
              "12        2013-09-09 17:13:58.115\n",
              "                   ...           \n",
              "217986    2022-04-22 11:32:44.543\n",
              "217987    2022-04-01 11:31:50.668\n",
              "217988    2022-03-05 11:55:34.871\n",
              "217990    2022-06-14 10:57:15.503\n",
              "217992    2022-02-14 10:48:14.800\n",
              "Name: mc_get_dt_incl, Length: 47680, dtype: object"
            ]
          },
          "execution_count": 168,
          "metadata": {},
          "output_type": "execute_result"
        }
      ],
      "source": [
        "# mc_get_dt_incl = Date of pregnancy registration in the SIS-MC\n",
        "# mc_mul_data_nascimento = Date of birth of the pregnant woman\n",
        "\n",
        "df['mc_get_dt_incl'] # Date of pregnancy registration in the SIS-MC"
      ]
    },
    {
      "cell_type": "code",
      "execution_count": null,
      "metadata": {
        "colab": {
          "base_uri": "https://localhost:8080/"
        },
        "id": "8Keu1tR-QfQk",
        "outputId": "2961f05c-65e2-45c8-8c20-dd1d0c7b5fe4"
      },
      "outputs": [
        {
          "data": {
            "text/plain": [
              "5                NaN\n",
              "6                NaN\n",
              "7         1995-01-08\n",
              "9         1991-01-05\n",
              "12        1986-09-19\n",
              "             ...    \n",
              "217986           NaN\n",
              "217987           NaN\n",
              "217988           NaN\n",
              "217990           NaN\n",
              "217992           NaN\n",
              "Name: mc_mul_data_nascimento, Length: 47680, dtype: object"
            ]
          },
          "execution_count": 169,
          "metadata": {},
          "output_type": "execute_result"
        }
      ],
      "source": [
        "df['mc_mul_data_nascimento'] # Date of birth of the pregnant woman"
      ]
    },
    {
      "cell_type": "code",
      "execution_count": null,
      "metadata": {
        "id": "aoeRfZvZQiQ_"
      },
      "outputs": [],
      "source": [
        "# creation of new column containing only the woman year birth\n",
        "df['mc_mul_ano_nascimento'] = df['mc_mul_data_nascimento'].str[:4] # getting only the first 4 characteres"
      ]
    },
    {
      "cell_type": "code",
      "execution_count": null,
      "metadata": {
        "colab": {
          "base_uri": "https://localhost:8080/"
        },
        "id": "tqyZqegITRsf",
        "outputId": "e94880f3-e730-45ed-f730-1336861d530e"
      },
      "outputs": [
        {
          "data": {
            "text/plain": [
              "5          NaN\n",
              "6          NaN\n",
              "7         1995\n",
              "9         1991\n",
              "12        1986\n",
              "          ... \n",
              "217986     NaN\n",
              "217987     NaN\n",
              "217988     NaN\n",
              "217990     NaN\n",
              "217992     NaN\n",
              "Name: mc_mul_ano_nascimento, Length: 47680, dtype: object"
            ]
          },
          "execution_count": 171,
          "metadata": {},
          "output_type": "execute_result"
        }
      ],
      "source": [
        "df['mc_mul_ano_nascimento']"
      ]
    },
    {
      "cell_type": "code",
      "execution_count": null,
      "metadata": {
        "colab": {
          "base_uri": "https://localhost:8080/"
        },
        "id": "5EkKbCYeZCpk",
        "outputId": "837853c3-c465-49b5-d34f-0a0971189b39"
      },
      "outputs": [
        {
          "data": {
            "text/plain": [
              "1995    1356\n",
              "1996    1332\n",
              "1993    1313\n",
              "1994    1305\n",
              "1992    1261\n",
              "1991    1231\n",
              "1989    1219\n",
              "1990    1165\n",
              "1988    1138\n",
              "1997    1108\n",
              "1987    1022\n",
              "1986     908\n",
              "1985     897\n",
              "1998     885\n",
              "1984     728\n",
              "1983     668\n",
              "1982     667\n",
              "1999     640\n",
              "1981     521\n",
              "1980     485\n",
              "2000     362\n",
              "1979     349\n",
              "1978     279\n",
              "1977     221\n",
              "1976     207\n",
              "1975     162\n",
              "2001     142\n",
              "1974     102\n",
              "1973      84\n",
              "1972      62\n",
              "1971      40\n",
              "2002      31\n",
              "2015      29\n",
              "1970      19\n",
              "1969      18\n",
              "2016      11\n",
              "1968       9\n",
              "2003       4\n",
              "1966       3\n",
              "1964       3\n",
              "1967       3\n",
              "2009       2\n",
              "2198       2\n",
              "2013       1\n",
              "1940       1\n",
              "2014       1\n",
              "1497       1\n",
              "1885       1\n",
              "1197       1\n",
              "2011       1\n",
              "9199       1\n",
              "Name: mc_mul_ano_nascimento, dtype: int64"
            ]
          },
          "execution_count": 172,
          "metadata": {},
          "output_type": "execute_result"
        }
      ],
      "source": [
        "df['mc_mul_ano_nascimento'].value_counts()"
      ]
    },
    {
      "cell_type": "code",
      "execution_count": null,
      "metadata": {
        "id": "f69_Zg8dcgCH"
      },
      "outputs": [],
      "source": [
        "df['mc_mul_ano_nascimento'] = pd.to_numeric(df['mc_mul_ano_nascimento']) # convert to float"
      ]
    },
    {
      "cell_type": "code",
      "execution_count": null,
      "metadata": {
        "id": "qPkwT0iIbHjk"
      },
      "outputs": [],
      "source": [
        "df = df.drop(df[df['mc_mul_ano_nascimento'] < 1960].index) # drop woman with year of birth less than 1960"
      ]
    },
    {
      "cell_type": "code",
      "execution_count": null,
      "metadata": {
        "id": "px_sALsTcqwi"
      },
      "outputs": [],
      "source": [
        "df = df.drop(df[df['mc_mul_ano_nascimento'] > 2020].index) # drop woman with year of birth bigger than 2020"
      ]
    },
    {
      "cell_type": "code",
      "execution_count": null,
      "metadata": {
        "colab": {
          "base_uri": "https://localhost:8080/"
        },
        "id": "8khkMvWVcyP2",
        "outputId": "daef1eee-77bd-4b98-f7d7-410ef2506bae"
      },
      "outputs": [
        {
          "data": {
            "text/plain": [
              "NaN       25679\n",
              "1995.0     1356\n",
              "1996.0     1332\n",
              "1993.0     1313\n",
              "1994.0     1305\n",
              "1992.0     1261\n",
              "1991.0     1231\n",
              "1989.0     1219\n",
              "1990.0     1165\n",
              "1988.0     1138\n",
              "1997.0     1108\n",
              "1987.0     1022\n",
              "1986.0      908\n",
              "1985.0      897\n",
              "1998.0      885\n",
              "1984.0      728\n",
              "1983.0      668\n",
              "1982.0      667\n",
              "1999.0      640\n",
              "1981.0      521\n",
              "1980.0      485\n",
              "2000.0      362\n",
              "1979.0      349\n",
              "1978.0      279\n",
              "1977.0      221\n",
              "1976.0      207\n",
              "1975.0      162\n",
              "2001.0      142\n",
              "1974.0      102\n",
              "1973.0       84\n",
              "1972.0       62\n",
              "1971.0       40\n",
              "2002.0       31\n",
              "2015.0       29\n",
              "1970.0       19\n",
              "1969.0       18\n",
              "2016.0       11\n",
              "1968.0        9\n",
              "2003.0        4\n",
              "1966.0        3\n",
              "1964.0        3\n",
              "1967.0        3\n",
              "2009.0        2\n",
              "2013.0        1\n",
              "2014.0        1\n",
              "2011.0        1\n",
              "Name: mc_mul_ano_nascimento, dtype: int64"
            ]
          },
          "execution_count": 176,
          "metadata": {},
          "output_type": "execute_result"
        }
      ],
      "source": [
        "df['mc_mul_ano_nascimento'].value_counts(dropna=False)"
      ]
    },
    {
      "cell_type": "code",
      "execution_count": null,
      "metadata": {
        "colab": {
          "base_uri": "https://localhost:8080/"
        },
        "id": "t9kpN362UOU9",
        "outputId": "8365b3b2-effa-484c-bfc0-ff295a44cdc5"
      },
      "outputs": [
        {
          "name": "stdout",
          "output_type": "stream",
          "text": [
            "Vazios mc_mul_ano_nascimento 25679\n"
          ]
        }
      ],
      "source": [
        "print('Vazios mc_mul_ano_nascimento', df['mc_mul_ano_nascimento'].isna().sum())"
      ]
    },
    {
      "cell_type": "code",
      "execution_count": null,
      "metadata": {
        "colab": {
          "base_uri": "https://localhost:8080/"
        },
        "id": "I3C2Hwv-B938",
        "outputId": "450ec41d-e46d-4533-f781-e9197478d5d9"
      },
      "outputs": [
        {
          "name": "stdout",
          "output_type": "stream",
          "text": [
            "Vazios na data de nascimento:\n",
            "VDRL positivo 575\n",
            "VDRL negativo 25104\n"
          ]
        }
      ],
      "source": [
        "TAM_BASE = df.shape[0]\n",
        "count_pos = 0\n",
        "count_neg = 0\n",
        "\n",
        "for i in range(0, TAM_BASE):\n",
        "  if np.isnan(df['mc_mul_ano_nascimento'].iloc[i]) == True:\n",
        "    if df['mc_cri_vdrl'].iloc[i] == 0.0:\n",
        "      count_pos+=1\n",
        "    else:\n",
        "      count_neg+=1\n",
        "\n",
        "print('Empty on birth date:')\n",
        "print('VDRL positive', count_pos)\n",
        "print('VDRL negative', count_neg)"
      ]
    },
    {
      "cell_type": "code",
      "execution_count": null,
      "metadata": {
        "id": "trBWIyFsUV-p"
      },
      "outputs": [],
      "source": [
        "df.drop('mc_mul_data_nascimento', inplace=True, axis=1) # drop old birth column"
      ]
    },
    {
      "cell_type": "code",
      "execution_count": null,
      "metadata": {
        "colab": {
          "base_uri": "https://localhost:8080/"
        },
        "id": "3DvzvEG0Ux1Z",
        "outputId": "bd597a73-6e2b-4cae-86a3-e7588b93d1b2"
      },
      "outputs": [
        {
          "data": {
            "text/plain": [
              "5         2020\n",
              "6         2019\n",
              "7         2019\n",
              "9         2019\n",
              "12        2013\n",
              "          ... \n",
              "217986    2022\n",
              "217987    2022\n",
              "217988    2022\n",
              "217990    2022\n",
              "217992    2022\n",
              "Name: mc_get_ano_incl, Length: 47673, dtype: object"
            ]
          },
          "execution_count": 180,
          "metadata": {},
          "output_type": "execute_result"
        }
      ],
      "source": [
        "# mc_get_dt_incl = Date of pregnancy registration in the SIS-MC\n",
        "# create new col having only the year of pregnancy registration of the woman\n",
        "df['mc_get_ano_incl'] = df['mc_get_dt_incl'].str[:4] # get only the first four characteres\n",
        "df['mc_get_ano_incl']"
      ]
    },
    {
      "cell_type": "code",
      "execution_count": null,
      "metadata": {
        "id": "Pl528giTU3A-"
      },
      "outputs": [],
      "source": [
        "df['mc_get_ano_incl'] = pd.to_numeric(df['mc_get_ano_incl']) # convert to float"
      ]
    },
    {
      "cell_type": "code",
      "execution_count": null,
      "metadata": {
        "colab": {
          "base_uri": "https://localhost:8080/"
        },
        "id": "c1B_K03IVonW",
        "outputId": "6a1d72b5-d14a-4b60-a636-4ec1f7f363c3"
      },
      "outputs": [
        {
          "name": "stdout",
          "output_type": "stream",
          "text": [
            "Vazios mc_get_ano_incl 0\n"
          ]
        }
      ],
      "source": [
        "print('Vazios mc_get_ano_incl', df['mc_get_ano_incl'].isna().sum())"
      ]
    },
    {
      "cell_type": "code",
      "execution_count": null,
      "metadata": {
        "id": "wMaaDo1bVvtg"
      },
      "outputs": [],
      "source": [
        "df.drop('mc_get_dt_incl', inplace=True, axis=1) # drop old birth column"
      ]
    },
    {
      "cell_type": "code",
      "execution_count": null,
      "metadata": {
        "colab": {
          "base_uri": "https://localhost:8080/"
        },
        "id": "bcVUFRrDiFTU",
        "outputId": "38e45ac7-107a-428c-c94d-32fab82c4461"
      },
      "outputs": [
        {
          "data": {
            "text/plain": [
              "2019    6125\n",
              "2017    5742\n",
              "2018    5318\n",
              "2016    5125\n",
              "2015    5002\n",
              "2020    4464\n",
              "2021    3890\n",
              "2014    3635\n",
              "2013    3066\n",
              "2012    2928\n",
              "2022    2378\n",
              "Name: mc_get_ano_incl, dtype: int64"
            ]
          },
          "execution_count": 184,
          "metadata": {},
          "output_type": "execute_result"
        }
      ],
      "source": [
        "df['mc_get_ano_incl'].value_counts(dropna=False)"
      ]
    },
    {
      "cell_type": "code",
      "execution_count": null,
      "metadata": {
        "colab": {
          "base_uri": "https://localhost:8080/"
        },
        "id": "lQCHmCD2jNUl",
        "outputId": "5261d5d1-be64-4b5f-9267-f4ad27e78cc6"
      },
      "outputs": [
        {
          "name": "stdout",
          "output_type": "stream",
          "text": [
            "2012 2015.0\n"
          ]
        }
      ],
      "source": [
        "for i in range(0, (df.shape[0])): # see if the woman birth date is bigger than the date of the gestation registration\n",
        "  if (np.isnan(df['mc_mul_ano_nascimento'].iloc[i]) == False): \n",
        "    if ( (df['mc_get_ano_incl'].iloc[i]) < (df['mc_mul_ano_nascimento'].iloc[i]) ): \n",
        "      print(df['mc_get_ano_incl'].iloc[i], df['mc_mul_ano_nascimento'].iloc[i])"
      ]
    },
    {
      "cell_type": "code",
      "execution_count": null,
      "metadata": {
        "colab": {
          "base_uri": "https://localhost:8080/"
        },
        "id": "mswa7M9cV5Gi",
        "outputId": "47a1f5f9-11b8-46b8-8fcb-9c5c2dd9a803"
      },
      "outputs": [
        {
          "name": "stdout",
          "output_type": "stream",
          "text": [
            "gestaçao e nascimento no mesmo ano\n",
            "gestaçao e nascimento no mesmo ano\n",
            "gestaçao e nascimento no mesmo ano\n",
            "gestaçao e nascimento no mesmo ano\n",
            "gestaçao e nascimento no mesmo ano\n",
            "gestaçao e nascimento no mesmo ano\n",
            "gestaçao e nascimento no mesmo ano\n",
            "gestaçao e nascimento no mesmo ano\n",
            "gestaçao e nascimento no mesmo ano\n",
            "gestaçao e nascimento no mesmo ano\n",
            "gestaçao e nascimento no mesmo ano\n",
            "gestaçao e nascimento no mesmo ano\n",
            "gestaçao e nascimento no mesmo ano\n",
            "gestaçao e nascimento no mesmo ano\n",
            "gestaçao e nascimento no mesmo ano\n",
            "gestaçao e nascimento no mesmo ano\n",
            "gestaçao e nascimento no mesmo ano\n",
            "gestaçao e nascimento no mesmo ano\n",
            "gestaçao e nascimento no mesmo ano\n",
            "gestaçao e nascimento no mesmo ano\n",
            "gestaçao e nascimento no mesmo ano\n",
            "gestaçao e nascimento no mesmo ano\n",
            "gestaçao e nascimento no mesmo ano\n",
            "gestaçao e nascimento no mesmo ano\n",
            "gestaçao e nascimento no mesmo ano\n",
            "gestaçao e nascimento no mesmo ano\n",
            "gestaçao e nascimento no mesmo ano\n",
            "gestaçao e nascimento no mesmo ano\n",
            "gestaçao e nascimento no mesmo ano\n",
            "gestaçao e nascimento no mesmo ano\n",
            "gestaçao e nascimento no mesmo ano\n"
          ]
        }
      ],
      "source": [
        "# create a new column called age, taking the difference (gestation inclusion date - woman year of birth)\n",
        "for i in range(0, (df.shape[0])): \n",
        "  if (np.isnan(df['mc_mul_ano_nascimento'].iloc[i]) == False): # the birth year must be filled\n",
        "    if (df['mc_get_ano_incl'].iloc[i]) == (df['mc_mul_ano_nascimento'].iloc[i]):\n",
        "      print('gestation and birth year in the same year')\n",
        "    df['idade'].iloc[i] = df['mc_get_ano_incl'].iloc[i] - df['mc_mul_ano_nascimento'].iloc[i]"
      ]
    },
    {
      "cell_type": "code",
      "execution_count": null,
      "metadata": {
        "colab": {
          "base_uri": "https://localhost:8080/"
        },
        "id": "MGLIMgrgX2VQ",
        "outputId": "9636b45e-b427-4275-fdd4-b2a1368f8eaa"
      },
      "outputs": [
        {
          "data": {
            "text/plain": [
              " 0     25710\n",
              " 22     1277\n",
              " 24     1274\n",
              " 20     1259\n",
              " 23     1248\n",
              " 25     1243\n",
              " 27     1196\n",
              " 21     1195\n",
              " 19     1164\n",
              " 26     1161\n",
              " 28     1073\n",
              " 18     1015\n",
              " 29      986\n",
              " 30      963\n",
              " 31      818\n",
              " 17      789\n",
              " 32      750\n",
              " 33      632\n",
              " 16      630\n",
              " 34      595\n",
              " 35      447\n",
              " 36      396\n",
              " 15      352\n",
              " 37      320\n",
              " 38      249\n",
              " 39      233\n",
              " 40      190\n",
              " 14      145\n",
              " 41      110\n",
              " 42       78\n",
              " 43       48\n",
              " 44       35\n",
              " 13       31\n",
              " 45       23\n",
              " 46        7\n",
              " 48        6\n",
              " 47        5\n",
              " 5         3\n",
              " 3         2\n",
              " 1         2\n",
              " 2         2\n",
              " 7         2\n",
              " 12        2\n",
              " 4         1\n",
              " 6         1\n",
              " 11        1\n",
              "-3         1\n",
              " 50        1\n",
              " 49        1\n",
              " 51        1\n",
              "Name: idade, dtype: int64"
            ]
          },
          "execution_count": 187,
          "metadata": {},
          "output_type": "execute_result"
        }
      ],
      "source": [
        "# the ages that are not filled are considered missing\n",
        "df['idade'].value_counts() "
      ]
    },
    {
      "cell_type": "code",
      "execution_count": null,
      "metadata": {
        "colab": {
          "base_uri": "https://localhost:8080/"
        },
        "id": "FXidSLb9YEH-",
        "outputId": "1947fca0-eaa0-4955-c032-80bbb91ac31f"
      },
      "outputs": [
        {
          "data": {
            "text/plain": [
              "(47673, 17)"
            ]
          },
          "execution_count": 188,
          "metadata": {},
          "output_type": "execute_result"
        }
      ],
      "source": [
        "df.shape"
      ]
    },
    {
      "cell_type": "code",
      "execution_count": null,
      "metadata": {
        "colab": {
          "base_uri": "https://localhost:8080/"
        },
        "id": "1ss-gx45L9e7",
        "outputId": "737893b9-ead8-483a-954f-61c25c81d96d"
      },
      "outputs": [
        {
          "data": {
            "text/plain": [
              "1.0    46650\n",
              "0.0     1023\n",
              "Name: mc_cri_vdrl, dtype: int64"
            ]
          },
          "execution_count": 189,
          "metadata": {},
          "output_type": "execute_result"
        }
      ],
      "source": [
        "df['mc_cri_vdrl'].value_counts()"
      ]
    },
    {
      "cell_type": "code",
      "execution_count": null,
      "metadata": {
        "colab": {
          "base_uri": "https://localhost:8080/"
        },
        "id": "-PGU2daKOph7",
        "outputId": "289f56c0-d65d-4be2-a0b6-63fced009285"
      },
      "outputs": [
        {
          "name": "stdout",
          "output_type": "stream",
          "text": [
            "6\n",
            "3\n",
            "3\n",
            "5\n",
            "4\n",
            "1\n",
            "2\n",
            "7\n",
            "-3\n",
            "1\n",
            "2\n",
            "7\n",
            "5\n",
            "5\n"
          ]
        }
      ],
      "source": [
        "# remove age that are outliers\n",
        "TAM_BASE = df.shape[0]\n",
        "\n",
        "for i in range(0, TAM_BASE): \n",
        "  if (df['idade'].iloc[i] < 11) and (df['idade'].iloc[i] != 0):\n",
        "    print(df['idade'].iloc[i]) # the index is relloced after removal, so navegating through the dataframe will not work"
      ]
    },
    {
      "cell_type": "code",
      "execution_count": null,
      "metadata": {
        "id": "k7OjwxvRMCJ_"
      },
      "outputs": [],
      "source": [
        "TAM_BASE = df.shape[0]\n",
        "age_to_delete = []\n",
        "idx_age_to_delete = []\n",
        "\n",
        "for i in range(0, TAM_BASE):\n",
        "  if (df['idade'].iloc[i] < 11) and (df['idade'].iloc[i] != 0):\n",
        "    age_to_delete.append(df['idade'].iloc[i])\n",
        "    idx_age_to_delete.append(i)"
      ]
    },
    {
      "cell_type": "code",
      "execution_count": null,
      "metadata": {
        "colab": {
          "base_uri": "https://localhost:8080/"
        },
        "id": "F59nnWkrbLFv",
        "outputId": "17006a5e-06a5-46ef-c5fe-6f1a3631d741"
      },
      "outputs": [
        {
          "name": "stdout",
          "output_type": "stream",
          "text": [
            "idade\n",
            "6\n",
            "3\n",
            "3\n",
            "5\n",
            "4\n",
            "1\n",
            "2\n",
            "7\n",
            "-3\n",
            "1\n",
            "2\n",
            "7\n",
            "5\n",
            "5\n",
            "idx\n",
            "246\n",
            "1047\n",
            "2353\n",
            "2805\n",
            "4591\n",
            "8547\n",
            "8585\n",
            "8911\n",
            "12480\n",
            "14941\n",
            "17810\n",
            "29180\n",
            "31161\n",
            "32471\n"
          ]
        }
      ],
      "source": [
        "print('idade')\n",
        "for i in age_to_delete:\n",
        "  print(i)\n",
        "\n",
        "print('idx')\n",
        "for i in idx_age_to_delete:\n",
        "  print(i)"
      ]
    },
    {
      "cell_type": "code",
      "execution_count": null,
      "metadata": {
        "colab": {
          "base_uri": "https://localhost:8080/"
        },
        "id": "0QutxMOmcA5b",
        "outputId": "bfecd829-2a3e-4313-9ca3-f49f48ba5989"
      },
      "outputs": [
        {
          "data": {
            "text/plain": [
              "(47673, 17)"
            ]
          },
          "execution_count": 193,
          "metadata": {},
          "output_type": "execute_result"
        }
      ],
      "source": [
        "df.shape"
      ]
    },
    {
      "cell_type": "code",
      "execution_count": null,
      "metadata": {
        "id": "tRkpyW-FY-yw"
      },
      "outputs": [],
      "source": [
        "df = df[ ~(df['idade'].isin(age_to_delete)) ]"
      ]
    },
    {
      "cell_type": "code",
      "execution_count": null,
      "metadata": {
        "colab": {
          "base_uri": "https://localhost:8080/"
        },
        "id": "vHmz5_HldDSO",
        "outputId": "f376fb4b-e902-41c7-f059-e2f8c3104b65"
      },
      "outputs": [
        {
          "data": {
            "text/plain": [
              "(47659, 17)"
            ]
          },
          "execution_count": 195,
          "metadata": {},
          "output_type": "execute_result"
        }
      ],
      "source": [
        "df.shape"
      ]
    },
    {
      "cell_type": "code",
      "execution_count": null,
      "metadata": {
        "colab": {
          "base_uri": "https://localhost:8080/"
        },
        "id": "GVSdwpOOeCAg",
        "outputId": "9b6c69c2-da61-4eb8-f5e0-53a239cb5370"
      },
      "outputs": [
        {
          "data": {
            "text/plain": [
              "1.0    46636\n",
              "0.0     1023\n",
              "Name: mc_cri_vdrl, dtype: int64"
            ]
          },
          "execution_count": 196,
          "metadata": {},
          "output_type": "execute_result"
        }
      ],
      "source": [
        "df['mc_cri_vdrl'].value_counts(dropna=False)"
      ]
    },
    {
      "cell_type": "code",
      "execution_count": null,
      "metadata": {
        "id": "ToYwWlggedgd"
      },
      "outputs": [],
      "source": [
        "df = df.drop(columns=['mc_mul_ano_nascimento'], axis=1)"
      ]
    },
    {
      "cell_type": "code",
      "execution_count": null,
      "metadata": {
        "colab": {
          "base_uri": "https://localhost:8080/"
        },
        "id": "B6VOfS1LNf5m",
        "outputId": "aefb9c02-49db-4f55-b6ca-318e00b60af1"
      },
      "outputs": [
        {
          "data": {
            "text/plain": [
              "0     25710\n",
              "22     1277\n",
              "24     1274\n",
              "20     1259\n",
              "23     1248\n",
              "25     1243\n",
              "27     1196\n",
              "21     1195\n",
              "19     1164\n",
              "26     1161\n",
              "28     1073\n",
              "18     1015\n",
              "29      986\n",
              "30      963\n",
              "31      818\n",
              "17      789\n",
              "32      750\n",
              "33      632\n",
              "16      630\n",
              "34      595\n",
              "35      447\n",
              "36      396\n",
              "15      352\n",
              "37      320\n",
              "38      249\n",
              "39      233\n",
              "40      190\n",
              "14      145\n",
              "41      110\n",
              "42       78\n",
              "43       48\n",
              "44       35\n",
              "13       31\n",
              "45       23\n",
              "46        7\n",
              "48        6\n",
              "47        5\n",
              "12        2\n",
              "11        1\n",
              "50        1\n",
              "49        1\n",
              "51        1\n",
              "Name: idade, dtype: int64"
            ]
          },
          "execution_count": 198,
          "metadata": {},
          "output_type": "execute_result"
        }
      ],
      "source": [
        "df['idade'].value_counts(dropna=False) # check if everything is alright"
      ]
    },
    {
      "cell_type": "markdown",
      "metadata": {
        "id": "f6Gr93wVitdD"
      },
      "source": [
        "Other outliers exclusion"
      ]
    },
    {
      "cell_type": "code",
      "execution_count": null,
      "metadata": {
        "colab": {
          "base_uri": "https://localhost:8080/"
        },
        "id": "USDoZ6wfNmHz",
        "outputId": "1817b3ad-90f8-4784-b22f-b7fa141203b4"
      },
      "outputs": [
        {
          "name": "stdout",
          "output_type": "stream",
          "text": [
            "(47648, 16)\n"
          ]
        }
      ],
      "source": [
        "df = df.dropna(subset=['mc_mul_renda_familiar'])\n",
        "print(df.shape)"
      ]
    },
    {
      "cell_type": "code",
      "execution_count": null,
      "metadata": {
        "colab": {
          "base_uri": "https://localhost:8080/"
        },
        "id": "MvCtF6cyXaCi",
        "outputId": "88c46ef2-116c-4134-e7d2-0608a128f57e"
      },
      "outputs": [
        {
          "data": {
            "text/plain": [
              "NaN         12950\n",
              "400.00       1878\n",
              "200.00       1821\n",
              "300.00       1712\n",
              "500.00       1506\n",
              "            ...  \n",
              "511.11          1\n",
              "634.00          1\n",
              "1115.00         1\n",
              "779.00          1\n",
              "48800.00        1\n",
              "Name: mc_dae_rfa, Length: 1296, dtype: int64"
            ]
          },
          "execution_count": 200,
          "metadata": {},
          "output_type": "execute_result"
        }
      ],
      "source": [
        "df['mc_dae_rfa'].value_counts(dropna=False)"
      ]
    },
    {
      "cell_type": "code",
      "execution_count": null,
      "metadata": {
        "colab": {
          "base_uri": "https://localhost:8080/"
        },
        "id": "uDMFSTSVYXU3",
        "outputId": "a65d992d-2cad-4fd1-9ffc-e3334ef02f03"
      },
      "outputs": [
        {
          "name": "stdout",
          "output_type": "stream",
          "text": [
            "oi\n",
            "oi\n",
            "oi\n",
            "oi\n",
            "oi\n",
            "oi\n",
            "oi\n",
            "oi\n",
            "oi\n",
            "oi\n"
          ]
        }
      ],
      "source": [
        "TAM_BASE = df.shape[0]\n",
        "\n",
        "for i in range(0, TAM_BASE):\n",
        "  if df['mc_dae_rfa'].iloc[i] > 20000:\n",
        "    print('hi')"
      ]
    },
    {
      "cell_type": "code",
      "execution_count": null,
      "metadata": {
        "id": "11v0rV5dVhHf"
      },
      "outputs": [],
      "source": [
        "df = df[~(df['mc_dae_rfa'] > 20000)] # remove family wage bigger than 20.000"
      ]
    },
    {
      "cell_type": "code",
      "execution_count": null,
      "metadata": {
        "colab": {
          "base_uri": "https://localhost:8080/"
        },
        "id": "0_MR2KSSX8Ig",
        "outputId": "b94315e9-6c79-4aa1-8654-8f600d43e92d"
      },
      "outputs": [
        {
          "data": {
            "text/plain": [
              "NaN         12950\n",
              "400.00       1878\n",
              "200.00       1821\n",
              "300.00       1712\n",
              "500.00       1506\n",
              "            ...  \n",
              "14200.00        1\n",
              "229.24          1\n",
              "3.60            1\n",
              "754.00          1\n",
              "2130.00         1\n",
              "Name: mc_dae_rfa, Length: 1286, dtype: int64"
            ]
          },
          "execution_count": 203,
          "metadata": {},
          "output_type": "execute_result"
        }
      ],
      "source": [
        "df['mc_dae_rfa'].value_counts(dropna=False)"
      ]
    },
    {
      "cell_type": "code",
      "execution_count": null,
      "metadata": {
        "colab": {
          "base_uri": "https://localhost:8080/"
        },
        "id": "JdzvQJRDbk7t",
        "outputId": "83bb8bcf-fcd2-4879-d4b2-379fc1eb05a0"
      },
      "outputs": [
        {
          "data": {
            "text/plain": [
              "1.0    46615\n",
              "0.0     1023\n",
              "Name: mc_cri_vdrl, dtype: int64"
            ]
          },
          "execution_count": 204,
          "metadata": {},
          "output_type": "execute_result"
        }
      ],
      "source": [
        "df['mc_cri_vdrl'].value_counts()"
      ]
    },
    {
      "cell_type": "code",
      "execution_count": null,
      "metadata": {
        "colab": {
          "base_uri": "https://localhost:8080/"
        },
        "id": "kDMIMQNib8dA",
        "outputId": "db86527d-e6f2-4681-be6a-6d4e41efbb32"
      },
      "outputs": [
        {
          "name": "stdout",
          "output_type": "stream",
          "text": [
            "mc_cri_vdrl\n",
            "mc_get_risco_gestacional\n",
            "mc_mul_est_civil\n",
            "mc_mul_nivel_inseguranca\n",
            "mc_mul_qtd_aborto\n",
            "mc_mul_qtd_filhos_vivos\n",
            "mc_mul_qtd_gest\n",
            "mc_mul_rec_inf_plan_fam\n",
            "mc_mul_tipo_const_casa\n",
            "mc_mul_renda_familiar\n",
            "mc_dae_escolaridade\n",
            "mc_dae_rfa\n",
            "mc_dae_dt_incl\n",
            "mc_dae_dt_ult_alt\n",
            "idade\n",
            "mc_get_ano_incl\n"
          ]
        }
      ],
      "source": [
        "# check other outliers\n",
        "for col in df.columns:\n",
        "  print(col)"
      ]
    },
    {
      "cell_type": "code",
      "execution_count": null,
      "metadata": {
        "colab": {
          "base_uri": "https://localhost:8080/"
        },
        "id": "iTxgPiSXyLU1",
        "outputId": "89414c40-3d0a-40f4-896e-02b638763a00"
      },
      "outputs": [
        {
          "data": {
            "text/plain": [
              "NaN     24842\n",
              "0.0     15505\n",
              "1.0      5770\n",
              "2.0      1146\n",
              "3.0       248\n",
              "4.0        51\n",
              "11.0       27\n",
              "5.0        19\n",
              "6.0         8\n",
              "22.0        5\n",
              "7.0         3\n",
              "10.0        3\n",
              "8.0         2\n",
              "12.0        2\n",
              "20.0        1\n",
              "21.0        1\n",
              "13.0        1\n",
              "9.0         1\n",
              "30.0        1\n",
              "14.0        1\n",
              "33.0        1\n",
              "Name: mc_mul_qtd_aborto, dtype: int64"
            ]
          },
          "execution_count": 206,
          "metadata": {},
          "output_type": "execute_result"
        }
      ],
      "source": [
        "df['mc_mul_qtd_aborto'].value_counts(dropna=False)"
      ]
    },
    {
      "cell_type": "code",
      "execution_count": null,
      "metadata": {
        "colab": {
          "base_uri": "https://localhost:8080/"
        },
        "id": "lEtCn_08yY4o",
        "outputId": "47c2ee9a-7195-4dec-8319-05f01225a4f2"
      },
      "outputs": [
        {
          "data": {
            "text/plain": [
              "NaN     21359\n",
              "1.0     11243\n",
              "2.0      5664\n",
              "0.0      5206\n",
              "3.0      2299\n",
              "4.0       960\n",
              "5.0       388\n",
              "6.0       233\n",
              "7.0       136\n",
              "8.0        76\n",
              "9.0        32\n",
              "10.0       23\n",
              "12.0        7\n",
              "11.0        4\n",
              "14.0        2\n",
              "21.0        1\n",
              "44.0        1\n",
              "17.0        1\n",
              "36.0        1\n",
              "15.0        1\n",
              "22.0        1\n",
              "Name: mc_mul_qtd_filhos_vivos, dtype: int64"
            ]
          },
          "execution_count": 207,
          "metadata": {},
          "output_type": "execute_result"
        }
      ],
      "source": [
        "df['mc_mul_qtd_filhos_vivos'].value_counts(dropna=False)"
      ]
    },
    {
      "cell_type": "code",
      "execution_count": null,
      "metadata": {
        "colab": {
          "base_uri": "https://localhost:8080/"
        },
        "id": "CmUh7zRiHVdQ",
        "outputId": "f23ef7ef-7dbf-45f3-8787-bb817be919b9"
      },
      "outputs": [
        {
          "data": {
            "text/plain": [
              "(47638, 16)"
            ]
          },
          "execution_count": 208,
          "metadata": {},
          "output_type": "execute_result"
        }
      ],
      "source": [
        "df.shape"
      ]
    },
    {
      "cell_type": "code",
      "execution_count": null,
      "metadata": {
        "id": "6AmBFg9vFozv"
      },
      "outputs": [],
      "source": [
        "df_pos = df[df['mc_cri_vdrl'] == 0.0]\n",
        "df_neg = df[df['mc_cri_vdrl'] == 1.0]"
      ]
    },
    {
      "cell_type": "code",
      "execution_count": null,
      "metadata": {
        "colab": {
          "base_uri": "https://localhost:8080/"
        },
        "id": "UxcELQe8HB4X",
        "outputId": "ebd42733-d6a9-45e4-efaa-4f939cc844ab"
      },
      "outputs": [
        {
          "data": {
            "text/plain": [
              "(1023, 16)"
            ]
          },
          "execution_count": 210,
          "metadata": {},
          "output_type": "execute_result"
        }
      ],
      "source": [
        "df_pos.shape"
      ]
    },
    {
      "cell_type": "code",
      "execution_count": null,
      "metadata": {
        "colab": {
          "base_uri": "https://localhost:8080/"
        },
        "id": "_D7G3yK-F6rR",
        "outputId": "c8a0dc64-b8d0-4aac-97c7-fe818358040f"
      },
      "outputs": [
        {
          "data": {
            "text/plain": [
              "NaN     409\n",
              "1.0     226\n",
              "2.0     154\n",
              "0.0     122\n",
              "3.0      58\n",
              "4.0      27\n",
              "6.0      11\n",
              "5.0       8\n",
              "7.0       6\n",
              "12.0      1\n",
              "9.0       1\n",
              "Name: mc_mul_qtd_filhos_vivos, dtype: int64"
            ]
          },
          "execution_count": 211,
          "metadata": {},
          "output_type": "execute_result"
        }
      ],
      "source": [
        "df_pos['mc_mul_qtd_filhos_vivos'].value_counts(dropna=False)"
      ]
    },
    {
      "cell_type": "code",
      "execution_count": null,
      "metadata": {
        "colab": {
          "base_uri": "https://localhost:8080/"
        },
        "id": "VZutZtbGHFvO",
        "outputId": "13e315ca-102c-4a27-eb6e-ce40992b19e9"
      },
      "outputs": [
        {
          "data": {
            "text/plain": [
              "(46615, 16)"
            ]
          },
          "execution_count": 212,
          "metadata": {},
          "output_type": "execute_result"
        }
      ],
      "source": [
        "df_neg.shape"
      ]
    },
    {
      "cell_type": "code",
      "execution_count": null,
      "metadata": {
        "colab": {
          "base_uri": "https://localhost:8080/"
        },
        "id": "cSnxEIaTGOFH",
        "outputId": "b3c525ad-fad4-4995-ea07-ee5c599e72a8"
      },
      "outputs": [
        {
          "data": {
            "text/plain": [
              "NaN     20950\n",
              "1.0     11017\n",
              "2.0      5510\n",
              "0.0      5084\n",
              "3.0      2241\n",
              "4.0       933\n",
              "5.0       380\n",
              "6.0       222\n",
              "7.0       130\n",
              "8.0        76\n",
              "9.0        31\n",
              "10.0       23\n",
              "12.0        6\n",
              "11.0        4\n",
              "14.0        2\n",
              "21.0        1\n",
              "44.0        1\n",
              "17.0        1\n",
              "36.0        1\n",
              "15.0        1\n",
              "22.0        1\n",
              "Name: mc_mul_qtd_filhos_vivos, dtype: int64"
            ]
          },
          "execution_count": 213,
          "metadata": {},
          "output_type": "execute_result"
        }
      ],
      "source": [
        "df_neg['mc_mul_qtd_filhos_vivos'].value_counts(dropna=False)"
      ]
    },
    {
      "cell_type": "code",
      "execution_count": null,
      "metadata": {
        "id": "0C8xVhFs_BsD"
      },
      "outputs": [],
      "source": [
        "df = df[~(df['mc_mul_qtd_filhos_vivos'] > 15)]"
      ]
    },
    {
      "cell_type": "code",
      "execution_count": null,
      "metadata": {
        "colab": {
          "base_uri": "https://localhost:8080/"
        },
        "id": "RNtXk1BVAZ4X",
        "outputId": "2425b71c-a0b6-4188-bb44-1427794c7e88"
      },
      "outputs": [
        {
          "data": {
            "text/plain": [
              "1.0    46610\n",
              "0.0     1023\n",
              "Name: mc_cri_vdrl, dtype: int64"
            ]
          },
          "execution_count": 215,
          "metadata": {},
          "output_type": "execute_result"
        }
      ],
      "source": [
        "df['mc_cri_vdrl'].value_counts()"
      ]
    },
    {
      "cell_type": "code",
      "execution_count": null,
      "metadata": {
        "colab": {
          "base_uri": "https://localhost:8080/"
        },
        "id": "1mYW862B_PrL",
        "outputId": "7480eae5-d050-453a-a1ff-65c401ee0d2a"
      },
      "outputs": [
        {
          "data": {
            "text/plain": [
              "(47633, 16)"
            ]
          },
          "execution_count": 216,
          "metadata": {},
          "output_type": "execute_result"
        }
      ],
      "source": [
        "df.shape"
      ]
    },
    {
      "cell_type": "code",
      "execution_count": null,
      "metadata": {
        "colab": {
          "base_uri": "https://localhost:8080/"
        },
        "id": "-ZsG7ozh_ayr",
        "outputId": "f5425a59-6f71-4394-b574-df00389d16fe"
      },
      "outputs": [
        {
          "data": {
            "text/plain": [
              "NaN     21359\n",
              "1.0     11243\n",
              "2.0      5664\n",
              "0.0      5206\n",
              "3.0      2299\n",
              "4.0       960\n",
              "5.0       388\n",
              "6.0       233\n",
              "7.0       136\n",
              "8.0        76\n",
              "9.0        32\n",
              "10.0       23\n",
              "12.0        7\n",
              "11.0        4\n",
              "14.0        2\n",
              "15.0        1\n",
              "Name: mc_mul_qtd_filhos_vivos, dtype: int64"
            ]
          },
          "execution_count": 217,
          "metadata": {},
          "output_type": "execute_result"
        }
      ],
      "source": [
        "df['mc_mul_qtd_filhos_vivos'].value_counts(dropna=False)"
      ]
    },
    {
      "cell_type": "code",
      "execution_count": null,
      "metadata": {
        "colab": {
          "base_uri": "https://localhost:8080/"
        },
        "id": "w3YhZ3yffQ8p",
        "outputId": "465f62c5-6eeb-42d3-b014-92e023217c85"
      },
      "outputs": [
        {
          "data": {
            "text/plain": [
              "0.0     328\n",
              "1.0     164\n",
              "2.0      28\n",
              "3.0       6\n",
              "4.0       1\n",
              "6.0       1\n",
              "22.0      1\n",
              "11.0      1\n",
              "Name: mc_mul_qtd_aborto, dtype: int64"
            ]
          },
          "execution_count": 218,
          "metadata": {},
          "output_type": "execute_result"
        }
      ],
      "source": [
        "df_pos['mc_mul_qtd_aborto'].value_counts() # if positive"
      ]
    },
    {
      "cell_type": "code",
      "execution_count": null,
      "metadata": {
        "id": "zdGkgRoVimBh"
      },
      "outputs": [],
      "source": [
        "df['mc_mul_qtd_aborto'].replace(22, np.nan, inplace=True) # to not lose data"
      ]
    },
    {
      "cell_type": "code",
      "execution_count": null,
      "metadata": {
        "colab": {
          "base_uri": "https://localhost:8080/"
        },
        "id": "3VxUPTdRinM4",
        "outputId": "fbcb86d4-c741-4757-b8e1-06aea2c922d1"
      },
      "outputs": [
        {
          "data": {
            "text/plain": [
              "0.0     15504\n",
              "1.0      5769\n",
              "2.0      1145\n",
              "3.0       248\n",
              "4.0        51\n",
              "11.0       27\n",
              "5.0        19\n",
              "6.0         8\n",
              "7.0         3\n",
              "10.0        3\n",
              "8.0         2\n",
              "12.0        2\n",
              "20.0        1\n",
              "21.0        1\n",
              "13.0        1\n",
              "9.0         1\n",
              "30.0        1\n",
              "14.0        1\n",
              "33.0        1\n",
              "Name: mc_mul_qtd_aborto, dtype: int64"
            ]
          },
          "execution_count": 220,
          "metadata": {},
          "output_type": "execute_result"
        }
      ],
      "source": [
        "df['mc_mul_qtd_aborto'].value_counts()"
      ]
    },
    {
      "cell_type": "code",
      "execution_count": null,
      "metadata": {
        "id": "JOZV5VlkBa2S"
      },
      "outputs": [],
      "source": [
        "df = df[~(df['mc_mul_qtd_aborto'] > 15)] "
      ]
    },
    {
      "cell_type": "code",
      "execution_count": null,
      "metadata": {
        "colab": {
          "base_uri": "https://localhost:8080/"
        },
        "id": "wZFY6aZJBuW3",
        "outputId": "f16f429e-b5e0-4a4f-d682-257e88d6cf2f"
      },
      "outputs": [
        {
          "data": {
            "text/plain": [
              "1.0    46606\n",
              "0.0     1023\n",
              "Name: mc_cri_vdrl, dtype: int64"
            ]
          },
          "execution_count": 222,
          "metadata": {},
          "output_type": "execute_result"
        }
      ],
      "source": [
        "df['mc_cri_vdrl'].value_counts(dropna=False)"
      ]
    },
    {
      "cell_type": "code",
      "execution_count": null,
      "metadata": {
        "colab": {
          "base_uri": "https://localhost:8080/"
        },
        "id": "T3g4plB_zLra",
        "outputId": "f7951871-1e76-4056-df47-c33563c50cfa"
      },
      "outputs": [
        {
          "data": {
            "text/plain": [
              "1.0     13271\n",
              "2.0      9443\n",
              "NaN      9350\n",
              "3.0      5168\n",
              "0.0      4912\n",
              "4.0      2592\n",
              "5.0      1258\n",
              "6.0       619\n",
              "7.0       315\n",
              "8.0       200\n",
              "9.0       104\n",
              "11.0      102\n",
              "10.0       67\n",
              "12.0       39\n",
              "22.0       38\n",
              "33.0       19\n",
              "21.0       17\n",
              "13.0       16\n",
              "20.0       16\n",
              "14.0       15\n",
              "31.0       10\n",
              "15.0        7\n",
              "44.0        7\n",
              "40.0        5\n",
              "23.0        5\n",
              "32.0        5\n",
              "54.0        4\n",
              "77.0        3\n",
              "16.0        3\n",
              "53.0        2\n",
              "34.0        2\n",
              "66.0        2\n",
              "55.0        2\n",
              "64.0        2\n",
              "30.0        2\n",
              "52.0        1\n",
              "19.0        1\n",
              "71.0        1\n",
              "17.0        1\n",
              "42.0        1\n",
              "96.0        1\n",
              "72.0        1\n",
              "Name: mc_mul_qtd_gest, dtype: int64"
            ]
          },
          "execution_count": 223,
          "metadata": {},
          "output_type": "execute_result"
        }
      ],
      "source": [
        "df['mc_mul_qtd_gest'].value_counts(dropna=False)"
      ]
    },
    {
      "cell_type": "code",
      "execution_count": null,
      "metadata": {
        "colab": {
          "base_uri": "https://localhost:8080/"
        },
        "id": "1YByHRu1fwph",
        "outputId": "a1bc33ff-67bd-4e0d-e877-514c07c0567b"
      },
      "outputs": [
        {
          "data": {
            "text/plain": [
              "1.0     250\n",
              "2.0     214\n",
              "NaN     195\n",
              "3.0     126\n",
              "0.0      99\n",
              "4.0      53\n",
              "5.0      41\n",
              "6.0      16\n",
              "10.0      7\n",
              "8.0       6\n",
              "7.0       6\n",
              "9.0       5\n",
              "11.0      2\n",
              "22.0      1\n",
              "21.0      1\n",
              "16.0      1\n",
              "Name: mc_mul_qtd_gest, dtype: int64"
            ]
          },
          "execution_count": 224,
          "metadata": {},
          "output_type": "execute_result"
        }
      ],
      "source": [
        "df_pos['mc_mul_qtd_gest'].value_counts(dropna=False)"
      ]
    },
    {
      "cell_type": "code",
      "execution_count": null,
      "metadata": {
        "id": "UfmrzITFjuGx"
      },
      "outputs": [],
      "source": [
        "df['mc_mul_qtd_gest'].replace(16, np.nan, inplace=True) # to not lose data\n",
        "df['mc_mul_qtd_gest'].replace(21, np.nan, inplace=True) # to not lose data\n",
        "df['mc_mul_qtd_gest'].replace(22, np.nan, inplace=True) # to not lose data"
      ]
    },
    {
      "cell_type": "code",
      "execution_count": null,
      "metadata": {
        "colab": {
          "base_uri": "https://localhost:8080/"
        },
        "id": "u42VkJgSCwm8",
        "outputId": "0ce7b5cc-63ae-422f-c90b-4cf48acc1d3e"
      },
      "outputs": [
        {
          "name": "stdout",
          "output_type": "stream",
          "text": [
            "3.0 2.0\n",
            "3.0 2.0\n",
            "8.0 5.0\n",
            "10.0 9.0\n",
            "10.0 9.0\n",
            "2.0 1.0\n",
            "1.0 0.0\n",
            "1.0 0.0\n",
            "3.0 2.0\n",
            "3.0 2.0\n",
            "5.0 4.0\n",
            "1.0 0.0\n",
            "1.0 0.0\n",
            "3.0 2.0\n",
            "2.0 1.0\n",
            "2.0 1.0\n",
            "2.0 1.0\n",
            "2.0 1.0\n",
            "3.0 2.0\n",
            "2.0 1.0\n",
            "2.0 1.0\n",
            "9.0 8.0\n",
            "4.0 3.0\n",
            "2.0 1.0\n",
            "6.0 5.0\n",
            "2.0 1.0\n",
            "2.0 1.0\n",
            "4.0 3.0\n",
            "11.0 1.0\n",
            "4.0 2.0\n",
            "4.0 2.0\n",
            "2.0 1.0\n",
            "1.0 0.0\n",
            "3.0 2.0\n",
            "1.0 0.0\n",
            "2.0 1.0\n",
            "3.0 2.0\n",
            "3.0 2.0\n",
            "2.0 1.0\n",
            "1.0 0.0\n",
            "2.0 0.0\n",
            "2.0 1.0\n",
            "2.0 1.0\n",
            "5.0 4.0\n",
            "6.0 5.0\n",
            "9.0 8.0\n",
            "9.0 8.0\n",
            "2.0 1.0\n",
            "9.0 8.0\n",
            "1.0 0.0\n",
            "8.0 2.0\n",
            "4.0 3.0\n",
            "4.0 3.0\n",
            "1.0 0.0\n",
            "1.0 0.0\n",
            "5.0 4.0\n",
            "1.0 0.0\n",
            "2.0 1.0\n",
            "2.0 1.0\n",
            "12.0 2.0\n",
            "12.0 2.0\n",
            "1.0 0.0\n",
            "1.0 0.0\n",
            "1.0 0.0\n",
            "2.0 1.0\n",
            "1.0 0.0\n",
            "1.0 0.0\n",
            "2.0 1.0\n",
            "2.0 1.0\n",
            "4.0 3.0\n",
            "3.0 2.0\n",
            "3.0 2.0\n",
            "4.0 0.0\n",
            "7.0 6.0\n",
            "4.0 2.0\n",
            "4.0 2.0\n",
            "1.0 0.0\n",
            "2.0 1.0\n",
            "2.0 1.0\n",
            "6.0 5.0\n",
            "2.0 1.0\n",
            "3.0 2.0\n",
            "2.0 1.0\n",
            "2.0 1.0\n",
            "3.0 2.0\n",
            "2.0 0.0\n",
            "4.0 1.0\n",
            "7.0 2.0\n",
            "7.0 2.0\n",
            "1.0 0.0\n",
            "2.0 1.0\n",
            "3.0 2.0\n",
            "3.0 2.0\n",
            "2.0 1.0\n",
            "2.0 1.0\n",
            "2.0 1.0\n",
            "2.0 1.0\n",
            "12.0 2.0\n",
            "4.0 1.0\n",
            "2.0 0.0\n",
            "11.0 1.0\n",
            "2.0 1.0\n",
            "2.0 1.0\n",
            "2.0 1.0\n",
            "1.0 0.0\n",
            "2.0 1.0\n",
            "2.0 1.0\n",
            "6.0 5.0\n",
            "3.0 2.0\n",
            "2.0 1.0\n",
            "2.0 1.0\n",
            "2.0 1.0\n",
            "2.0 1.0\n",
            "4.0 3.0\n",
            "1.0 0.0\n",
            "1.0 0.0\n",
            "1.0 0.0\n",
            "2.0 1.0\n",
            "2.0 1.0\n",
            "2.0 1.0\n",
            "2.0 1.0\n",
            "15.0 14.0\n",
            "1.0 0.0\n",
            "3.0 2.0\n",
            "1.0 0.0\n",
            "2.0 1.0\n",
            "2.0 1.0\n",
            "4.0 2.0\n",
            "3.0 2.0\n",
            "4.0 3.0\n",
            "2.0 1.0\n",
            "4.0 1.0\n",
            "3.0 2.0\n",
            "2.0 1.0\n",
            "2.0 1.0\n",
            "1.0 0.0\n",
            "10.0 9.0\n",
            "3.0 2.0\n",
            "3.0 2.0\n",
            "2.0 1.0\n",
            "4.0 3.0\n",
            "3.0 2.0\n",
            "4.0 3.0\n",
            "4.0 3.0\n",
            "3.0 2.0\n",
            "3.0 2.0\n"
          ]
        }
      ],
      "source": [
        "TAM_BASE = df.shape[0]\n",
        "\n",
        "for i in range(0, TAM_BASE):\n",
        "  if df['mc_mul_qtd_filhos_vivos'].iloc[i] > df['mc_mul_qtd_gest'].iloc[i]:\n",
        "    print(df['mc_mul_qtd_filhos_vivos'].iloc[i], df['mc_mul_qtd_gest'].iloc[i])"
      ]
    },
    {
      "cell_type": "code",
      "execution_count": null,
      "metadata": {
        "colab": {
          "base_uri": "https://localhost:8080/"
        },
        "id": "XE_WRGVDXx-e",
        "outputId": "4e1615e7-b551-4c83-94fd-3f42f79f5fe6"
      },
      "outputs": [
        {
          "data": {
            "text/plain": [
              "NaN     493\n",
              "0.0     328\n",
              "1.0     164\n",
              "2.0      28\n",
              "3.0       6\n",
              "4.0       1\n",
              "6.0       1\n",
              "22.0      1\n",
              "11.0      1\n",
              "Name: mc_mul_qtd_aborto, dtype: int64"
            ]
          },
          "execution_count": 227,
          "metadata": {},
          "output_type": "execute_result"
        }
      ],
      "source": [
        "df_pos['mc_mul_qtd_aborto'].value_counts(dropna=False)"
      ]
    },
    {
      "cell_type": "code",
      "execution_count": null,
      "metadata": {
        "colab": {
          "base_uri": "https://localhost:8080/"
        },
        "id": "OWQ23uF4X9ch",
        "outputId": "cb3ec61d-23a9-4e02-abc6-e39ba65ba081"
      },
      "outputs": [
        {
          "data": {
            "text/plain": [
              "NaN     24349\n",
              "0.0     15177\n",
              "1.0      5606\n",
              "2.0      1118\n",
              "3.0       242\n",
              "4.0        50\n",
              "11.0       26\n",
              "5.0        19\n",
              "6.0         7\n",
              "22.0        4\n",
              "7.0         3\n",
              "10.0        3\n",
              "8.0         2\n",
              "12.0        2\n",
              "20.0        1\n",
              "21.0        1\n",
              "13.0        1\n",
              "9.0         1\n",
              "30.0        1\n",
              "14.0        1\n",
              "33.0        1\n",
              "Name: mc_mul_qtd_aborto, dtype: int64"
            ]
          },
          "execution_count": 228,
          "metadata": {},
          "output_type": "execute_result"
        }
      ],
      "source": [
        "df_neg['mc_mul_qtd_aborto'].value_counts(dropna=False)"
      ]
    },
    {
      "cell_type": "code",
      "execution_count": null,
      "metadata": {
        "colab": {
          "base_uri": "https://localhost:8080/"
        },
        "id": "SYTDvqyvZFRY",
        "outputId": "5e77aa33-b442-46cc-d0cd-3e57e8a458cc"
      },
      "outputs": [
        {
          "data": {
            "text/plain": [
              "1.0     250\n",
              "2.0     214\n",
              "NaN     195\n",
              "3.0     126\n",
              "0.0      99\n",
              "4.0      53\n",
              "5.0      41\n",
              "6.0      16\n",
              "10.0      7\n",
              "8.0       6\n",
              "7.0       6\n",
              "9.0       5\n",
              "11.0      2\n",
              "22.0      1\n",
              "21.0      1\n",
              "16.0      1\n",
              "Name: mc_mul_qtd_gest, dtype: int64"
            ]
          },
          "execution_count": 229,
          "metadata": {},
          "output_type": "execute_result"
        }
      ],
      "source": [
        "df_pos['mc_mul_qtd_gest'].value_counts(dropna=False)"
      ]
    },
    {
      "cell_type": "code",
      "execution_count": null,
      "metadata": {
        "colab": {
          "base_uri": "https://localhost:8080/"
        },
        "id": "O27Sk52wZNd4",
        "outputId": "3d841444-e60e-4bc9-f4c7-7e7595f9cee3"
      },
      "outputs": [
        {
          "data": {
            "text/plain": [
              "1.0     13022\n",
              "2.0      9229\n",
              "NaN      9155\n",
              "3.0      5044\n",
              "0.0      4813\n",
              "4.0      2541\n",
              "5.0      1218\n",
              "6.0       603\n",
              "7.0       309\n",
              "8.0       194\n",
              "11.0      100\n",
              "9.0        99\n",
              "10.0       60\n",
              "12.0       39\n",
              "22.0       37\n",
              "33.0       19\n",
              "20.0       17\n",
              "13.0       16\n",
              "21.0       16\n",
              "14.0       15\n",
              "31.0       10\n",
              "15.0        7\n",
              "44.0        7\n",
              "23.0        5\n",
              "40.0        5\n",
              "32.0        5\n",
              "54.0        4\n",
              "66.0        3\n",
              "77.0        3\n",
              "64.0        2\n",
              "55.0        2\n",
              "34.0        2\n",
              "53.0        2\n",
              "30.0        2\n",
              "16.0        2\n",
              "42.0        1\n",
              "71.0        1\n",
              "96.0        1\n",
              "72.0        1\n",
              "52.0        1\n",
              "19.0        1\n",
              "17.0        1\n",
              "99.0        1\n",
              "Name: mc_mul_qtd_gest, dtype: int64"
            ]
          },
          "execution_count": 230,
          "metadata": {},
          "output_type": "execute_result"
        }
      ],
      "source": [
        "df_neg['mc_mul_qtd_gest'].value_counts(dropna=False)"
      ]
    },
    {
      "cell_type": "code",
      "execution_count": null,
      "metadata": {
        "id": "0rwhWRS9Fw0-"
      },
      "outputs": [],
      "source": [
        "df = df[~(df['mc_mul_qtd_gest'] > 15)] "
      ]
    },
    {
      "cell_type": "code",
      "execution_count": null,
      "metadata": {
        "colab": {
          "base_uri": "https://localhost:8080/"
        },
        "id": "t3w_6sFFF50N",
        "outputId": "137c8b07-d0df-4fa1-e97e-87e040b538b4"
      },
      "outputs": [
        {
          "data": {
            "text/plain": [
              "1.0    46513\n",
              "0.0     1023\n",
              "Name: mc_cri_vdrl, dtype: int64"
            ]
          },
          "execution_count": 232,
          "metadata": {},
          "output_type": "execute_result"
        }
      ],
      "source": [
        "df['mc_cri_vdrl'].value_counts()"
      ]
    },
    {
      "cell_type": "code",
      "execution_count": null,
      "metadata": {
        "colab": {
          "base_uri": "https://localhost:8080/"
        },
        "id": "ANDfXhw-GiCD",
        "outputId": "2ca2da30-7ec9-4529-8c58-8157ff3e43c3"
      },
      "outputs": [
        {
          "name": "stdout",
          "output_type": "stream",
          "text": [
            "mc_cri_vdrl\n",
            "mc_get_risco_gestacional\n",
            "mc_mul_est_civil\n",
            "mc_mul_nivel_inseguranca\n",
            "mc_mul_qtd_aborto\n",
            "mc_mul_qtd_filhos_vivos\n",
            "mc_mul_qtd_gest\n",
            "mc_mul_rec_inf_plan_fam\n",
            "mc_mul_tipo_const_casa\n",
            "mc_mul_renda_familiar\n",
            "mc_dae_escolaridade\n",
            "mc_dae_rfa\n",
            "mc_dae_dt_incl\n",
            "mc_dae_dt_ult_alt\n",
            "idade\n",
            "mc_get_ano_incl\n"
          ]
        }
      ],
      "source": [
        "for col in df.columns: # analysing cols\n",
        "  print(col)"
      ]
    },
    {
      "cell_type": "code",
      "execution_count": null,
      "metadata": {
        "colab": {
          "base_uri": "https://localhost:8080/"
        },
        "id": "wqK5n8yzGv2H",
        "outputId": "c34f3b1a-e3d8-4ac2-e4a8-cd178562310b"
      },
      "outputs": [
        {
          "data": {
            "text/plain": [
              "1.0    46513\n",
              "0.0     1023\n",
              "Name: mc_cri_vdrl, dtype: int64"
            ]
          },
          "execution_count": 234,
          "metadata": {},
          "output_type": "execute_result"
        }
      ],
      "source": [
        "df['mc_cri_vdrl'].value_counts(dropna=False)"
      ]
    },
    {
      "cell_type": "code",
      "execution_count": null,
      "metadata": {
        "colab": {
          "base_uri": "https://localhost:8080/"
        },
        "id": "5l2MtBr4HsV6",
        "outputId": "a48e28ac-abf0-430c-b444-3f44bf001a1a"
      },
      "outputs": [
        {
          "data": {
            "text/plain": [
              "NaN         12923\n",
              "400.00       1874\n",
              "200.00       1820\n",
              "300.00       1708\n",
              "500.00       1505\n",
              "            ...  \n",
              "800.80          1\n",
              "14200.00        1\n",
              "229.24          1\n",
              "3.60            1\n",
              "2130.00         1\n",
              "Name: mc_dae_rfa, Length: 1285, dtype: int64"
            ]
          },
          "execution_count": 235,
          "metadata": {},
          "output_type": "execute_result"
        }
      ],
      "source": [
        "df['mc_dae_rfa'].value_counts(dropna=False) # preprocess, check the data distribution"
      ]
    },
    {
      "cell_type": "code",
      "execution_count": null,
      "metadata": {
        "colab": {
          "base_uri": "https://localhost:8080/"
        },
        "id": "PTpjkx9wJBJc",
        "outputId": "59af76d5-dcd0-4813-f1bc-990704fc011b"
      },
      "outputs": [
        {
          "data": {
            "text/plain": [
              "0     25657\n",
              "22     1275\n",
              "24     1269\n",
              "20     1255\n",
              "23     1242\n",
              "25     1241\n",
              "21     1190\n",
              "27     1185\n",
              "19     1163\n",
              "26     1156\n",
              "28     1069\n",
              "18     1013\n",
              "29      983\n",
              "30      960\n",
              "31      814\n",
              "17      788\n",
              "32      749\n",
              "33      630\n",
              "16      630\n",
              "34      594\n",
              "35      447\n",
              "36      396\n",
              "15      352\n",
              "37      318\n",
              "38      247\n",
              "39      232\n",
              "40      190\n",
              "14      145\n",
              "41      109\n",
              "42       78\n",
              "43       46\n",
              "44       35\n",
              "13       31\n",
              "45       23\n",
              "46        7\n",
              "48        6\n",
              "47        5\n",
              "12        2\n",
              "11        1\n",
              "50        1\n",
              "49        1\n",
              "51        1\n",
              "Name: idade, dtype: int64"
            ]
          },
          "execution_count": 236,
          "metadata": {},
          "output_type": "execute_result"
        }
      ],
      "source": [
        "df['idade'].value_counts(dropna=False) # put 0 as nan"
      ]
    },
    {
      "cell_type": "code",
      "execution_count": null,
      "metadata": {
        "colab": {
          "base_uri": "https://localhost:8080/"
        },
        "id": "lTkh6_7KrFoP",
        "outputId": "490250f8-d831-42eb-ffb8-3bf514693164"
      },
      "outputs": [
        {
          "name": "stderr",
          "output_type": "stream",
          "text": [
            "/usr/local/lib/python3.8/dist-packages/pandas/core/generic.py:6619: SettingWithCopyWarning: \n",
            "A value is trying to be set on a copy of a slice from a DataFrame\n",
            "\n",
            "See the caveats in the documentation: https://pandas.pydata.org/pandas-docs/stable/user_guide/indexing.html#returning-a-view-versus-a-copy\n",
            "  return self._update_inplace(result)\n"
          ]
        }
      ],
      "source": [
        "df['idade'].replace(0, np.nan, inplace=True)"
      ]
    },
    {
      "cell_type": "code",
      "execution_count": null,
      "metadata": {
        "colab": {
          "base_uri": "https://localhost:8080/"
        },
        "id": "xenQruPyrQBj",
        "outputId": "cae334ad-9c6e-458a-d6b0-25d73856ec34"
      },
      "outputs": [
        {
          "data": {
            "text/plain": [
              "NaN     25657\n",
              "22.0     1275\n",
              "24.0     1269\n",
              "20.0     1255\n",
              "23.0     1242\n",
              "25.0     1241\n",
              "21.0     1190\n",
              "27.0     1185\n",
              "19.0     1163\n",
              "26.0     1156\n",
              "28.0     1069\n",
              "18.0     1013\n",
              "29.0      983\n",
              "30.0      960\n",
              "31.0      814\n",
              "17.0      788\n",
              "32.0      749\n",
              "33.0      630\n",
              "16.0      630\n",
              "34.0      594\n",
              "35.0      447\n",
              "36.0      396\n",
              "15.0      352\n",
              "37.0      318\n",
              "38.0      247\n",
              "39.0      232\n",
              "40.0      190\n",
              "14.0      145\n",
              "41.0      109\n",
              "42.0       78\n",
              "43.0       46\n",
              "44.0       35\n",
              "13.0       31\n",
              "45.0       23\n",
              "46.0        7\n",
              "48.0        6\n",
              "47.0        5\n",
              "12.0        2\n",
              "11.0        1\n",
              "50.0        1\n",
              "49.0        1\n",
              "51.0        1\n",
              "Name: idade, dtype: int64"
            ]
          },
          "execution_count": 238,
          "metadata": {},
          "output_type": "execute_result"
        }
      ],
      "source": [
        "df['idade'].value_counts(dropna=False)"
      ]
    },
    {
      "cell_type": "code",
      "execution_count": null,
      "metadata": {
        "colab": {
          "base_uri": "https://localhost:8080/"
        },
        "id": "eCEGzaALtVIw",
        "outputId": "7adba6f4-4529-46da-9eea-e61528096f8b"
      },
      "outputs": [
        {
          "data": {
            "text/plain": [
              "NaN     24808\n",
              "0.0     15467\n",
              "1.0      5761\n",
              "2.0      1143\n",
              "3.0       246\n",
              "4.0        50\n",
              "11.0       23\n",
              "5.0        19\n",
              "6.0         8\n",
              "7.0         3\n",
              "10.0        3\n",
              "8.0         2\n",
              "14.0        1\n",
              "12.0        1\n",
              "9.0         1\n",
              "Name: mc_mul_qtd_aborto, dtype: int64"
            ]
          },
          "execution_count": 239,
          "metadata": {},
          "output_type": "execute_result"
        }
      ],
      "source": [
        "df['mc_mul_qtd_aborto'].value_counts(dropna=False)"
      ]
    },
    {
      "cell_type": "code",
      "execution_count": null,
      "metadata": {
        "colab": {
          "base_uri": "https://localhost:8080/"
        },
        "id": "YFf1Bp58twfk",
        "outputId": "14b363c5-b2b0-44d9-9356-e454c4468db0"
      },
      "outputs": [
        {
          "data": {
            "text/plain": [
              "NaN     21345\n",
              "1.0     11220\n",
              "2.0      5630\n",
              "0.0      5203\n",
              "3.0      2287\n",
              "4.0       956\n",
              "5.0       384\n",
              "6.0       232\n",
              "7.0       135\n",
              "8.0        75\n",
              "9.0        32\n",
              "10.0       23\n",
              "12.0        7\n",
              "11.0        4\n",
              "14.0        2\n",
              "15.0        1\n",
              "Name: mc_mul_qtd_filhos_vivos, dtype: int64"
            ]
          },
          "execution_count": 240,
          "metadata": {},
          "output_type": "execute_result"
        }
      ],
      "source": [
        "df['mc_mul_qtd_filhos_vivos'].value_counts(dropna=False)"
      ]
    },
    {
      "cell_type": "markdown",
      "metadata": {
        "id": "WRJlcWPnPj0n"
      },
      "source": [
        "Exclude values of mc_dae_dt_ult_alt that do not have the last alteration date"
      ]
    },
    {
      "cell_type": "code",
      "execution_count": null,
      "metadata": {
        "colab": {
          "base_uri": "https://localhost:8080/"
        },
        "id": "jLkb0ouI8TXK",
        "outputId": "ab34ad3d-eff1-4b37-a8fb-c9e182dd6947"
      },
      "outputs": [
        {
          "data": {
            "text/plain": [
              "NaN                        20\n",
              "2022-07-07 11:46:08.535     4\n",
              "2022-08-26 08:52:01.247     4\n",
              "2022-09-11 09:35:49.882     4\n",
              "2022-04-12 11:50:36.697     4\n",
              "                           ..\n",
              "2018-07-10 21:35:52.209     1\n",
              "2019-04-09 10:01:00.601     1\n",
              "2017-07-20 23:43:04.781     1\n",
              "2016-01-19 09:50:33.673     1\n",
              "2022-09-30 15:20:38.762     1\n",
              "Name: mc_dae_dt_ult_alt, Length: 43250, dtype: int64"
            ]
          },
          "execution_count": 241,
          "metadata": {},
          "output_type": "execute_result"
        }
      ],
      "source": [
        "df['mc_dae_dt_ult_alt'].value_counts(dropna=False)"
      ]
    },
    {
      "cell_type": "code",
      "execution_count": null,
      "metadata": {
        "colab": {
          "base_uri": "https://localhost:8080/"
        },
        "id": "gZdHZuS4842-",
        "outputId": "633c342c-be55-4c40-d083-c1d1beb41ed9"
      },
      "outputs": [
        {
          "data": {
            "text/plain": [
              "2012-12-21 00:00:00.000    20\n",
              "2022-07-07 11:46:08.535     4\n",
              "2022-08-26 08:52:01.247     4\n",
              "2022-09-11 09:35:49.882     4\n",
              "2022-04-12 11:50:36.697     4\n",
              "                           ..\n",
              "2018-07-10 21:35:52.209     1\n",
              "2019-04-09 10:01:00.601     1\n",
              "2017-07-20 23:43:04.781     1\n",
              "2016-01-19 09:50:33.673     1\n",
              "2022-09-30 15:20:38.762     1\n",
              "Name: mc_dae_dt_incl, Length: 43250, dtype: int64"
            ]
          },
          "execution_count": 242,
          "metadata": {},
          "output_type": "execute_result"
        }
      ],
      "source": [
        "df['mc_dae_dt_incl'].value_counts(dropna=False)"
      ]
    },
    {
      "cell_type": "code",
      "execution_count": null,
      "metadata": {
        "id": "zkImZ6bd_PHA"
      },
      "outputs": [],
      "source": [
        "df['mc_dae_dt_ult_alt'] = df['mc_dae_dt_ult_alt'].str[:4]"
      ]
    },
    {
      "cell_type": "code",
      "execution_count": null,
      "metadata": {
        "colab": {
          "base_uri": "https://localhost:8080/"
        },
        "id": "ISSSy12K_hie",
        "outputId": "289b5fc4-f78a-48fd-f8d2-e9e7f7b03d1a"
      },
      "outputs": [
        {
          "data": {
            "text/plain": [
              "2022    9897\n",
              "2019    7482\n",
              "2020    7276\n",
              "2018    5482\n",
              "2021    4926\n",
              "2016    4403\n",
              "2017    4293\n",
              "2015    2168\n",
              "2014    1064\n",
              "2013     525\n",
              "NaN       20\n",
              "Name: mc_dae_dt_ult_alt, dtype: int64"
            ]
          },
          "execution_count": 244,
          "metadata": {},
          "output_type": "execute_result"
        }
      ],
      "source": [
        "df['mc_dae_dt_ult_alt'].value_counts(dropna=False)"
      ]
    },
    {
      "cell_type": "code",
      "execution_count": null,
      "metadata": {
        "colab": {
          "base_uri": "https://localhost:8080/"
        },
        "id": "0mqa9TfvyENv",
        "outputId": "6fcaf1a6-10db-4c56-87c9-57ea186000d0"
      },
      "outputs": [
        {
          "name": "stdout",
          "output_type": "stream",
          "text": [
            "nan\n",
            "nan\n",
            "nan\n",
            "nan\n",
            "nan\n",
            "nan\n",
            "nan\n",
            "nan\n",
            "nan\n",
            "nan\n",
            "nan\n",
            "nan\n",
            "nan\n",
            "nan\n",
            "nan\n",
            "nan\n",
            "nan\n",
            "nan\n",
            "nan\n",
            "nan\n"
          ]
        }
      ],
      "source": [
        "TAM_BASE = df.shape[0]\n",
        "\n",
        "for i in range(0, TAM_BASE):\n",
        "  if type(df['mc_dae_dt_ult_alt'].iloc[i]) != str:\n",
        "    print(df['mc_dae_rfa'].iloc[i])"
      ]
    },
    {
      "cell_type": "code",
      "execution_count": null,
      "metadata": {
        "id": "aGLoLSFQzjnk"
      },
      "outputs": [],
      "source": [
        "df.dropna(subset=['mc_dae_dt_ult_alt'], inplace=True)"
      ]
    },
    {
      "cell_type": "code",
      "execution_count": null,
      "metadata": {
        "colab": {
          "base_uri": "https://localhost:8080/"
        },
        "id": "FJRplpUKz80m",
        "outputId": "5263f9a7-6dcd-43f2-ff75-2d2ee28defdf"
      },
      "outputs": [
        {
          "data": {
            "text/plain": [
              "2022    9897\n",
              "2019    7482\n",
              "2020    7276\n",
              "2018    5482\n",
              "2021    4926\n",
              "2016    4403\n",
              "2017    4293\n",
              "2015    2168\n",
              "2014    1064\n",
              "2013     525\n",
              "Name: mc_dae_dt_ult_alt, dtype: int64"
            ]
          },
          "execution_count": 247,
          "metadata": {},
          "output_type": "execute_result"
        }
      ],
      "source": [
        "df['mc_dae_dt_ult_alt'].value_counts(dropna=False)"
      ]
    },
    {
      "cell_type": "code",
      "execution_count": null,
      "metadata": {
        "colab": {
          "base_uri": "https://localhost:8080/"
        },
        "id": "Buk0h_RT0dys",
        "outputId": "b81b6f67-23eb-4466-ed0c-c30da68411b3"
      },
      "outputs": [
        {
          "data": {
            "text/plain": [
              "2022-03-16 09:40:51.764    4\n",
              "2022-07-07 11:46:08.535    4\n",
              "2021-02-11 13:58:39.400    4\n",
              "2018-11-12 09:31:14.943    4\n",
              "2022-04-12 11:50:36.697    4\n",
              "                          ..\n",
              "2018-07-10 21:35:52.209    1\n",
              "2019-04-09 10:01:00.601    1\n",
              "2017-07-20 23:43:04.781    1\n",
              "2016-01-19 09:50:33.673    1\n",
              "2022-09-30 15:20:38.762    1\n",
              "Name: mc_dae_dt_incl, Length: 43249, dtype: int64"
            ]
          },
          "execution_count": 248,
          "metadata": {},
          "output_type": "execute_result"
        }
      ],
      "source": [
        "df['mc_dae_dt_incl'].value_counts(dropna=False)"
      ]
    },
    {
      "cell_type": "code",
      "execution_count": null,
      "metadata": {
        "id": "HhCBMyAbzRWN"
      },
      "outputs": [],
      "source": [
        "TAM_BASE = df.shape[0]\n",
        "\n",
        "for i in range(0, TAM_BASE):\n",
        "  if type(df['mc_dae_dt_ult_alt'].iloc[i]) != str:\n",
        "    print(df['mc_cri_vdrl'].iloc[i])"
      ]
    },
    {
      "cell_type": "code",
      "execution_count": null,
      "metadata": {
        "id": "2MyRp1jp_h3N"
      },
      "outputs": [],
      "source": [
        "df['mc_dae_dt_incl'] = df['mc_dae_dt_incl'].str[:4]"
      ]
    },
    {
      "cell_type": "code",
      "execution_count": null,
      "metadata": {
        "colab": {
          "base_uri": "https://localhost:8080/"
        },
        "id": "_5Q9XbpL_yyK",
        "outputId": "eb374f42-c5eb-4970-a35d-d70ca61432c8"
      },
      "outputs": [
        {
          "data": {
            "text/plain": [
              "2022    9897\n",
              "2019    7481\n",
              "2020    7277\n",
              "2018    5484\n",
              "2021    4924\n",
              "2016    4403\n",
              "2017    4293\n",
              "2015    2168\n",
              "2014    1064\n",
              "2013     525\n",
              "Name: mc_dae_dt_incl, dtype: int64"
            ]
          },
          "execution_count": 251,
          "metadata": {},
          "output_type": "execute_result"
        }
      ],
      "source": [
        "df['mc_dae_dt_incl'].value_counts(dropna=False)"
      ]
    },
    {
      "cell_type": "code",
      "execution_count": null,
      "metadata": {
        "colab": {
          "base_uri": "https://localhost:8080/"
        },
        "id": "cAsxN6Iz_1ox",
        "outputId": "954deff7-73fc-4dd0-bc76-3cbb9383c451"
      },
      "outputs": [
        {
          "data": {
            "text/plain": [
              "(47516, 16)"
            ]
          },
          "execution_count": 252,
          "metadata": {},
          "output_type": "execute_result"
        }
      ],
      "source": [
        "df.shape"
      ]
    },
    {
      "cell_type": "code",
      "execution_count": null,
      "metadata": {
        "colab": {
          "base_uri": "https://localhost:8080/"
        },
        "id": "4Q6DA2na1Dtn",
        "outputId": "7b6d83ec-b38f-4cd2-90d9-427ff3bf7b4e"
      },
      "outputs": [
        {
          "data": {
            "text/plain": [
              "2022    9897\n",
              "2019    7482\n",
              "2020    7276\n",
              "2018    5482\n",
              "2021    4926\n",
              "2016    4403\n",
              "2017    4293\n",
              "2015    2168\n",
              "2014    1064\n",
              "2013     525\n",
              "Name: mc_dae_dt_ult_alt, dtype: int64"
            ]
          },
          "execution_count": 253,
          "metadata": {},
          "output_type": "execute_result"
        }
      ],
      "source": [
        "# version 2\n",
        "df['mc_dae_dt_ult_alt'].value_counts()"
      ]
    },
    {
      "cell_type": "markdown",
      "metadata": {
        "id": "yXN8Ze7jP99V"
      },
      "source": [
        "Column to ajust the wages according to the year"
      ]
    },
    {
      "cell_type": "code",
      "execution_count": null,
      "metadata": {
        "id": "UzQlJVdr2ZYW"
      },
      "outputs": [],
      "source": [
        "df['mc_dae_valor_salario_por_ano'] = None"
      ]
    },
    {
      "cell_type": "code",
      "execution_count": null,
      "metadata": {
        "colab": {
          "base_uri": "https://localhost:8080/"
        },
        "id": "c-GkTt-O2mwQ",
        "outputId": "1a8dc8b7-9fdf-43c6-d6b6-85a4974da123"
      },
      "outputs": [
        {
          "data": {
            "text/plain": [
              "NaN    47516\n",
              "Name: mc_dae_valor_salario_por_ano, dtype: int64"
            ]
          },
          "execution_count": 255,
          "metadata": {},
          "output_type": "execute_result"
        }
      ],
      "source": [
        "df['mc_dae_valor_salario_por_ano'].value_counts(dropna=False)"
      ]
    },
    {
      "cell_type": "code",
      "execution_count": null,
      "metadata": {
        "id": "IDqwxCQH4oHj"
      },
      "outputs": [],
      "source": [
        "df['mc_dae_dt_ult_alt'] = pd.to_numeric(df['mc_dae_dt_ult_alt']) # convert"
      ]
    },
    {
      "cell_type": "code",
      "execution_count": null,
      "metadata": {
        "colab": {
          "base_uri": "https://localhost:8080/"
        },
        "id": "eL0vQAal5fvx",
        "outputId": "c096c5fe-ba29-4984-9143-7a332ee8f638"
      },
      "outputs": [
        {
          "data": {
            "text/plain": [
              "numpy.int64"
            ]
          },
          "execution_count": 257,
          "metadata": {},
          "output_type": "execute_result"
        }
      ],
      "source": [
        "type(df['mc_dae_dt_ult_alt'].iloc[122])"
      ]
    },
    {
      "cell_type": "markdown",
      "metadata": {
        "id": "E68MUEUnPAk5"
      },
      "source": [
        "Adjust the wages, according to the year"
      ]
    },
    {
      "cell_type": "code",
      "execution_count": null,
      "metadata": {
        "id": "waEwtc2tdAuX"
      },
      "outputs": [],
      "source": [
        "def return_corrected_value(value, ano): # receives the wage value\n",
        "  if ano == 2013: # 678 reais\n",
        "    sal_min = 678\n",
        "    if (value < (sal_min/4) and (value >= 0)) or value == 0.0:\n",
        "      return 0\n",
        "    if (value >= (sal_min/4)) and (value < (sal_min/2)):\n",
        "      return 1\n",
        "    if (value >= (sal_min/2)) and (value < (sal_min)):\n",
        "      return 2\n",
        "    if (value >= (sal_min)) and (value < (2*sal_min)):\n",
        "      return 3\n",
        "    if (value >= (2*sal_min)):\n",
        "      return 4\n",
        "  elif ano == 2014: # 724 reais\n",
        "    sal_min = 724\n",
        "    if (value < (sal_min/4) and (value >= 0)) or value == 0.0:\n",
        "      return 0\n",
        "    if (value >= (sal_min/4)) and (value < (sal_min/2)):\n",
        "      return 1\n",
        "    if (value >= (sal_min/2)) and (value < (sal_min)):\n",
        "      return 2\n",
        "    if (value >= (sal_min)) and (value < (2*sal_min)):\n",
        "      return 3\n",
        "    if (value >= (2*sal_min)):\n",
        "      return 4\n",
        "  elif ano == 2015: # 788 reais\n",
        "    sal_min = 788\n",
        "    if (value < (sal_min/4) and (value >= 0)) or value == 0.0:\n",
        "      return 0\n",
        "    if (value >= (sal_min/4)) and (value < (sal_min/2)):\n",
        "      return 1\n",
        "    if (value >= (sal_min/2)) and (value < (sal_min)):\n",
        "      return 2\n",
        "    if (value >= (sal_min)) and (value < (2*sal_min)):\n",
        "      return 3\n",
        "    if (value >= (2*sal_min)):\n",
        "      return 4\n",
        "  elif ano == 2016: # 880 reais\n",
        "    sal_min = 880\n",
        "    if (value < (sal_min/4) and (value >= 0)) or value == 0.0:\n",
        "      return 0\n",
        "    if (value >= (sal_min/4)) and (value < (sal_min/2)):\n",
        "      return 1\n",
        "    if (value >= (sal_min/2)) and (value < (sal_min)):\n",
        "      return 2\n",
        "    if (value >= (sal_min)) and (value < (2*sal_min)):\n",
        "      return 3\n",
        "    if (value >= (2*sal_min)):\n",
        "      return 4\n",
        "  elif ano == 2017: # 937 reais\n",
        "    sal_min = 937\n",
        "    if (value < (sal_min/4) and (value >= 0)) or value == 0.0:\n",
        "      return 0\n",
        "    if (value >= (sal_min/4)) and (value < (sal_min/2)):\n",
        "      return 1\n",
        "    if (value >= (sal_min/2)) and (value < (sal_min)):\n",
        "      return 2\n",
        "    if (value >= (sal_min)) and (value < (2*sal_min)):\n",
        "      return 3\n",
        "    if (value >= (2*sal_min)):\n",
        "      return 4\n",
        "  elif ano == 2018: # 954 reais\n",
        "    sal_min = 954\n",
        "    if (value < (sal_min/4) and (value >= 0)) or value == 0.0:\n",
        "      return 0\n",
        "    if (value >= (sal_min/4)) and (value < (sal_min/2)):\n",
        "      return 1\n",
        "    if (value >= (sal_min/2)) and (value < (sal_min)):\n",
        "      return 2\n",
        "    if (value >= (sal_min)) and (value < (2*sal_min)):\n",
        "      return 3\n",
        "    if (value >= (2*sal_min)):\n",
        "      return 4\n",
        "  elif ano == 2019: # 998 reais\n",
        "    sal_min = 998\n",
        "    if (value < (sal_min/4) and (value >= 0)) or value == 0.0:\n",
        "      return 0\n",
        "    if (value >= (sal_min/4)) and (value < (sal_min/2)):\n",
        "      return 1\n",
        "    if (value >= (sal_min/2)) and (value < (sal_min)):\n",
        "      return 2\n",
        "    if (value >= (sal_min)) and (value < (2*sal_min)):\n",
        "      return 3\n",
        "    if (value >= (2*sal_min)):\n",
        "      return 4\n",
        "  elif ano == 2020: # 1039 reais\n",
        "    sal_min = 1039\n",
        "    if (value < (sal_min/4) and (value >= 0)) or value == 0.0:\n",
        "      return 0\n",
        "    if (value >= (sal_min/4)) and (value < (sal_min/2)):\n",
        "      return 1\n",
        "    if (value >= (sal_min/2)) and (value < (sal_min)):\n",
        "      return 2\n",
        "    if (value >= (sal_min)) and (value < (2*sal_min)):\n",
        "      return 3\n",
        "    if (value >= (2*sal_min)):\n",
        "      return 4\n",
        "  elif ano == 2021: # 1100 reais\n",
        "    sal_min = 1100\n",
        "    if (value < (sal_min/4) and (value >= 0)) or value == 0.0:\n",
        "      return 0\n",
        "    if (value >= (sal_min/4)) and (value < (sal_min/2)):\n",
        "      return 1\n",
        "    if (value >= (sal_min/2)) and (value < (sal_min)):\n",
        "      return 2\n",
        "    if (value >= (sal_min)) and (value < (2*sal_min)):\n",
        "      return 3\n",
        "    if (value >= (2*sal_min)):\n",
        "      return 4\n",
        "  elif ano == 2022: # 1212 reais\n",
        "    sal_min = 1212\n",
        "    if (value < (sal_min/4) and (value >= 0)) or value == 0.0:\n",
        "      return 0\n",
        "    if (value >= (sal_min/4)) and (value < (sal_min/2)):\n",
        "      return 1\n",
        "    if (value >= (sal_min/2)) and (value < (sal_min)):\n",
        "      return 2\n",
        "    if (value >= (sal_min)) and (value < (2*sal_min)):\n",
        "      return 3\n",
        "    if (value >= (2*sal_min)):\n",
        "      return 4\n",
        "  else:\n",
        "    return None"
      ]
    },
    {
      "cell_type": "code",
      "execution_count": null,
      "metadata": {
        "id": "7tM5DlxE2qQM"
      },
      "outputs": [],
      "source": [
        "def alter_wage_by_year(df):\n",
        "  TAM_BASE = df.shape[0]\n",
        "  for i in range(0, TAM_BASE):\n",
        "    if ((df['mc_dae_valor_salario_por_ano'].iloc[i]) == None) and (np.isnan(df['mc_dae_rfa'].iloc[i]) == False):\n",
        "      value = return_corrected_value(df['mc_dae_rfa'].iloc[i], df['mc_dae_dt_ult_alt'].iloc[i])\n",
        "      if value != None:\n",
        "        #print(value)\n",
        "        df['mc_dae_rfa'].iloc[i] = value"
      ]
    },
    {
      "cell_type": "code",
      "execution_count": null,
      "metadata": {
        "id": "CGoDwHtD6gJJ"
      },
      "outputs": [],
      "source": [
        "alter_wage_by_year(df)"
      ]
    },
    {
      "cell_type": "code",
      "execution_count": null,
      "metadata": {
        "colab": {
          "base_uri": "https://localhost:8080/"
        },
        "id": "zTU7qAScrw3G",
        "outputId": "6d84e373-a6e2-44a3-973c-ae4c556beafc"
      },
      "outputs": [
        {
          "data": {
            "text/plain": [
              "NaN    12903\n",
              "2.0    11607\n",
              "0.0    10547\n",
              "1.0     7575\n",
              "3.0     4065\n",
              "4.0      819\n",
              "Name: mc_dae_rfa, dtype: int64"
            ]
          },
          "execution_count": 261,
          "metadata": {},
          "output_type": "execute_result"
        }
      ],
      "source": [
        "df['mc_dae_rfa'].value_counts(dropna=False)"
      ]
    },
    {
      "cell_type": "code",
      "execution_count": null,
      "metadata": {
        "id": "IvYuPogXz0ST"
      },
      "outputs": [],
      "source": [
        "df = df.drop(columns=['mc_dae_dt_incl', 'mc_dae_dt_ult_alt'], axis=1) # drop this column because it will not be used anymore"
      ]
    },
    {
      "cell_type": "code",
      "execution_count": null,
      "metadata": {
        "id": "E9Fy29U3yDdG"
      },
      "outputs": [],
      "source": [
        "df = df.drop(columns=['mc_get_ano_incl', 'mc_dae_valor_salario_por_ano'], axis=1) #  drop this column because it will not be used anymore"
      ]
    },
    {
      "cell_type": "code",
      "execution_count": null,
      "metadata": {
        "colab": {
          "base_uri": "https://localhost:8080/"
        },
        "id": "OY_UIV-qyfOz",
        "outputId": "81519f8b-7054-48f2-a097-4ed39163f98a"
      },
      "outputs": [
        {
          "data": {
            "text/plain": [
              "(47516, 13)"
            ]
          },
          "execution_count": 264,
          "metadata": {},
          "output_type": "execute_result"
        }
      ],
      "source": [
        "df.shape"
      ]
    },
    {
      "cell_type": "code",
      "execution_count": null,
      "metadata": {
        "colab": {
          "base_uri": "https://localhost:8080/"
        },
        "id": "qHWQeXy_U5NY",
        "outputId": "633ce8bb-ad91-4ebd-82f1-1702b1c0503e"
      },
      "outputs": [
        {
          "data": {
            "text/plain": [
              "0.0    35567\n",
              "1.0    11949\n",
              "Name: mc_mul_renda_familiar, dtype: int64"
            ]
          },
          "execution_count": 265,
          "metadata": {},
          "output_type": "execute_result"
        }
      ],
      "source": [
        "df['mc_mul_renda_familiar'].value_counts(dropna=False)"
      ]
    },
    {
      "cell_type": "code",
      "execution_count": null,
      "metadata": {
        "colab": {
          "base_uri": "https://localhost:8080/"
        },
        "id": "0y3WNhbLYf2c",
        "outputId": "7e5a8ee4-9994-404a-9b87-72f3cf294f73"
      },
      "outputs": [
        {
          "data": {
            "text/plain": [
              "NaN    12903\n",
              "2.0    11607\n",
              "0.0    10547\n",
              "1.0     7575\n",
              "3.0     4065\n",
              "4.0      819\n",
              "Name: mc_dae_rfa, dtype: int64"
            ]
          },
          "execution_count": 266,
          "metadata": {},
          "output_type": "execute_result"
        }
      ],
      "source": [
        "df['mc_dae_rfa'].value_counts(dropna=False)"
      ]
    },
    {
      "cell_type": "code",
      "execution_count": null,
      "metadata": {
        "colab": {
          "base_uri": "https://localhost:8080/"
        },
        "id": "NcIAsGqSYsJu",
        "outputId": "5cef2723-717f-4a2d-de0b-2ebbabbeda35"
      },
      "outputs": [
        {
          "name": "stdout",
          "output_type": "stream",
          "text": [
            "Dados da renda vazios: 9233\n",
            "Dados da renda como zero: 655\n",
            "Dados da renda preenchidos: 2061\n"
          ]
        }
      ],
      "source": [
        "TAM_BASE = df.shape[0]\n",
        "count_nan = 0\n",
        "count_zero = 0\n",
        "count_others = 0\n",
        "\n",
        "for i in range(0, TAM_BASE):\n",
        "  if df['mc_mul_renda_familiar'].iloc[i] == 1.0:\n",
        "    if np.isnan(df['mc_dae_rfa'].iloc[i]) == True:\n",
        "      count_nan+=1\n",
        "    elif (df['mc_dae_rfa'].iloc[i]) == 0.0:\n",
        "      count_zero+=1\n",
        "    else:\n",
        "      #print(df['mc_dae_rfa'].iloc[i])\n",
        "      count_others+=1\n",
        "\n",
        "print('Data of wage empty:', count_nan)\n",
        "print('Data of wage as zero:', count_zero)\n",
        "print('Data of wage filled:', count_others)"
      ]
    },
    {
      "cell_type": "code",
      "execution_count": null,
      "metadata": {
        "colab": {
          "base_uri": "https://localhost:8080/"
        },
        "id": "yrHJmD2HezdZ",
        "outputId": "6afaf33a-405f-4b2a-b3cb-bdd4ef345995"
      },
      "outputs": [
        {
          "name": "stdout",
          "output_type": "stream",
          "text": [
            "mc_cri_vdrl\n",
            "mc_get_risco_gestacional\n",
            "mc_mul_est_civil\n",
            "mc_mul_nivel_inseguranca\n",
            "mc_mul_qtd_aborto\n",
            "mc_mul_qtd_filhos_vivos\n",
            "mc_mul_qtd_gest\n",
            "mc_mul_rec_inf_plan_fam\n",
            "mc_mul_tipo_const_casa\n",
            "mc_mul_renda_familiar\n",
            "mc_dae_escolaridade\n",
            "mc_dae_rfa\n",
            "idade\n"
          ]
        }
      ],
      "source": [
        "for col in df.columns:\n",
        "  print(col)"
      ]
    },
    {
      "cell_type": "code",
      "execution_count": null,
      "metadata": {
        "colab": {
          "base_uri": "https://localhost:8080/"
        },
        "id": "JzkJW8Wolqyu",
        "outputId": "732275bd-618b-4b0b-d30c-57609d2f92f0"
      },
      "outputs": [
        {
          "data": {
            "text/plain": [
              "1.0    46493\n",
              "0.0     1023\n",
              "Name: mc_cri_vdrl, dtype: int64"
            ]
          },
          "execution_count": 269,
          "metadata": {},
          "output_type": "execute_result"
        }
      ],
      "source": [
        "df['mc_cri_vdrl'].value_counts()"
      ]
    },
    {
      "cell_type": "code",
      "execution_count": null,
      "metadata": {
        "id": "C-dFqinBkeUy"
      },
      "outputs": [],
      "source": [
        "df.drop(columns=['mc_mul_renda_familiar'], axis=1, inplace=True)"
      ]
    },
    {
      "cell_type": "code",
      "execution_count": null,
      "metadata": {
        "colab": {
          "base_uri": "https://localhost:8080/"
        },
        "id": "uVenQi5OlokG",
        "outputId": "32c48451-37a2-4ab7-c956-a42abf2e9673"
      },
      "outputs": [
        {
          "data": {
            "text/plain": [
              "(47516, 12)"
            ]
          },
          "execution_count": 271,
          "metadata": {},
          "output_type": "execute_result"
        }
      ],
      "source": [
        "df.shape"
      ]
    },
    {
      "cell_type": "code",
      "execution_count": null,
      "metadata": {
        "colab": {
          "base_uri": "https://localhost:8080/"
        },
        "id": "X1A7DYoCCzMo",
        "outputId": "31f92806-967f-4062-af60-25a78dc45956"
      },
      "outputs": [
        {
          "name": "stdout",
          "output_type": "stream",
          "text": [
            "1.0    46493\n",
            "0.0     1023\n",
            "Name: mc_cri_vdrl, dtype: int64\n",
            "1.0    38883\n",
            "0.0     6257\n",
            "NaN     1428\n",
            "2.0      948\n",
            "Name: mc_get_risco_gestacional, dtype: int64\n",
            "5.0    18053\n",
            "0.0    15578\n",
            "1.0    11401\n",
            "NaN     1971\n",
            "4.0      319\n",
            "3.0      111\n",
            "2.0       83\n",
            "Name: mc_mul_est_civil, dtype: int64\n",
            "NaN    20756\n",
            "0.0    19003\n",
            "1.0     4592\n",
            "2.0     1211\n",
            "4.0     1178\n",
            "3.0      402\n",
            "5.0      340\n",
            "6.0       34\n",
            "Name: mc_mul_nivel_inseguranca, dtype: int64\n",
            "NaN     24795\n",
            "0.0     15463\n",
            "1.0      5758\n",
            "2.0      1143\n",
            "3.0       246\n",
            "4.0        50\n",
            "11.0       23\n",
            "5.0        19\n",
            "6.0         8\n",
            "7.0         3\n",
            "10.0        3\n",
            "8.0         2\n",
            "14.0        1\n",
            "12.0        1\n",
            "9.0         1\n",
            "Name: mc_mul_qtd_aborto, dtype: int64\n",
            "NaN     21325\n",
            "1.0     11220\n",
            "2.0      5630\n",
            "0.0      5203\n",
            "3.0      2287\n",
            "4.0       956\n",
            "5.0       384\n",
            "6.0       232\n",
            "7.0       135\n",
            "8.0        75\n",
            "9.0        32\n",
            "10.0       23\n",
            "12.0        7\n",
            "11.0        4\n",
            "14.0        2\n",
            "15.0        1\n",
            "Name: mc_mul_qtd_filhos_vivos, dtype: int64\n",
            "1.0     13264\n",
            "2.0      9443\n",
            "NaN      9398\n",
            "3.0      5168\n",
            "0.0      4910\n",
            "4.0      2592\n",
            "5.0      1258\n",
            "6.0       619\n",
            "7.0       315\n",
            "8.0       200\n",
            "9.0       104\n",
            "11.0      102\n",
            "10.0       66\n",
            "12.0       39\n",
            "13.0       16\n",
            "14.0       15\n",
            "15.0        7\n",
            "Name: mc_mul_qtd_gest, dtype: int64\n",
            "0.0    22751\n",
            "1.0    13805\n",
            "NaN    10960\n",
            "Name: mc_mul_rec_inf_plan_fam, dtype: int64\n",
            "4.0    43344\n",
            "NaN     2461\n",
            "2.0      746\n",
            "5.0      559\n",
            "1.0      164\n",
            "0.0      159\n",
            "3.0       83\n",
            "Name: mc_mul_tipo_const_casa, dtype: int64\n",
            "5.0    15382\n",
            "4.0    10248\n",
            "6.0     7835\n",
            "2.0     5660\n",
            "3.0     2835\n",
            "1.0     1609\n",
            "7.0     1258\n",
            "NaN     1173\n",
            "8.0      959\n",
            "0.0      557\n",
            "Name: mc_dae_escolaridade, dtype: int64\n",
            "NaN    12903\n",
            "2.0    11607\n",
            "0.0    10547\n",
            "1.0     7575\n",
            "3.0     4065\n",
            "4.0      819\n",
            "Name: mc_dae_rfa, dtype: int64\n",
            "NaN     25643\n",
            "22.0     1275\n",
            "24.0     1268\n",
            "20.0     1255\n",
            "23.0     1242\n",
            "25.0     1241\n",
            "21.0     1190\n",
            "27.0     1185\n",
            "19.0     1160\n",
            "26.0     1155\n",
            "28.0     1069\n",
            "18.0     1013\n",
            "29.0      983\n",
            "30.0      960\n",
            "31.0      814\n",
            "17.0      788\n",
            "32.0      749\n",
            "33.0      630\n",
            "16.0      630\n",
            "34.0      594\n",
            "35.0      447\n",
            "36.0      396\n",
            "15.0      352\n",
            "37.0      318\n",
            "38.0      247\n",
            "39.0      232\n",
            "40.0      189\n",
            "14.0      145\n",
            "41.0      109\n",
            "42.0       78\n",
            "43.0       46\n",
            "44.0       35\n",
            "13.0       31\n",
            "45.0       23\n",
            "46.0        7\n",
            "48.0        6\n",
            "47.0        5\n",
            "12.0        2\n",
            "11.0        1\n",
            "50.0        1\n",
            "49.0        1\n",
            "51.0        1\n",
            "Name: idade, dtype: int64\n"
          ]
        }
      ],
      "source": [
        "for col in df.columns:\n",
        "  print(df[col].value_counts(dropna=False))"
      ]
    },
    {
      "cell_type": "code",
      "execution_count": null,
      "metadata": {
        "colab": {
          "base_uri": "https://localhost:8080/"
        },
        "id": "uJCSTu8agA60",
        "outputId": "8e811123-f975-49f8-f7c1-cb670b28babe"
      },
      "outputs": [
        {
          "data": {
            "text/plain": [
              "1.0    46493\n",
              "0.0     1023\n",
              "Name: mc_cri_vdrl, dtype: int64"
            ]
          },
          "execution_count": 273,
          "metadata": {},
          "output_type": "execute_result"
        }
      ],
      "source": [
        "df['mc_cri_vdrl'].value_counts()"
      ]
    },
    {
      "cell_type": "code",
      "execution_count": null,
      "metadata": {
        "colab": {
          "base_uri": "https://localhost:8080/"
        },
        "id": "Ghy_pgg6g-Gv",
        "outputId": "a7b5be2d-62bb-48a7-b2b1-7b7850b1c075"
      },
      "outputs": [
        {
          "name": "stdout",
          "output_type": "stream",
          "text": [
            "7\n"
          ]
        }
      ],
      "source": [
        "test = df['mc_mul_nivel_inseguranca'].value_counts()\n",
        "print(len(test))"
      ]
    },
    {
      "cell_type": "code",
      "execution_count": null,
      "metadata": {
        "colab": {
          "base_uri": "https://localhost:8080/"
        },
        "id": "K6-_04k32tc0",
        "outputId": "a6b6954d-37d5-463a-cb8d-27f314b07369"
      },
      "outputs": [
        {
          "data": {
            "text/plain": [
              "0.0    19003\n",
              "1.0     4592\n",
              "2.0     1211\n",
              "4.0     1178\n",
              "3.0      402\n",
              "5.0      340\n",
              "6.0       34\n",
              "Name: mc_mul_nivel_inseguranca, dtype: int64"
            ]
          },
          "execution_count": 275,
          "metadata": {},
          "output_type": "execute_result"
        }
      ],
      "source": [
        "df['mc_mul_nivel_inseguranca'].value_counts()"
      ]
    },
    {
      "cell_type": "markdown",
      "metadata": {
        "id": "hxidEOg8Qmcu"
      },
      "source": [
        "Inverting the values, because in the PMCP base 0 is positive and 1 is negative"
      ]
    },
    {
      "cell_type": "code",
      "execution_count": null,
      "metadata": {
        "colab": {
          "base_uri": "https://localhost:8080/"
        },
        "id": "DPWJOchq0ZtO",
        "outputId": "d54cc033-fd49-475f-93fd-873dd7eb9b64"
      },
      "outputs": [
        {
          "name": "stdout",
          "output_type": "stream",
          "text": [
            "mc_cri_vdrl\n",
            "mc_mul_rec_inf_plan_fam\n"
          ]
        }
      ],
      "source": [
        "for col in df.columns:\n",
        "  qtd = len(df[col].value_counts())\n",
        "  if qtd <= 2:\n",
        "    print(col)"
      ]
    },
    {
      "cell_type": "code",
      "execution_count": null,
      "metadata": {
        "colab": {
          "base_uri": "https://localhost:8080/"
        },
        "id": "IbKjqenTt9m_",
        "outputId": "aac4f12f-a058-400e-8b96-2ce175c01452"
      },
      "outputs": [
        {
          "data": {
            "text/plain": [
              "0.0    46493\n",
              "1.0     1023\n",
              "Name: mc_cri_vdrl, dtype: int64"
            ]
          },
          "execution_count": 277,
          "metadata": {},
          "output_type": "execute_result"
        }
      ],
      "source": [
        "# adjust values\n",
        "df.loc[df['mc_cri_vdrl'] == 0.0, 'mc_cri_vdrl'] = 2.0\n",
        "df.loc[df['mc_cri_vdrl'] == 1.0, 'mc_cri_vdrl'] = 0.0\n",
        "df.loc[df['mc_cri_vdrl'] == 2.0, 'mc_cri_vdrl'] = 1.0\n",
        "\n",
        "df['mc_cri_vdrl'].value_counts()"
      ]
    },
    {
      "cell_type": "code",
      "execution_count": null,
      "metadata": {
        "colab": {
          "base_uri": "https://localhost:8080/"
        },
        "id": "SbtHapFiuufz",
        "outputId": "433d7e5c-9712-42c5-ae8b-6ede47819a68"
      },
      "outputs": [
        {
          "data": {
            "text/plain": [
              "0.0    22751\n",
              "1.0    13805\n",
              "Name: mc_mul_rec_inf_plan_fam, dtype: int64"
            ]
          },
          "execution_count": 278,
          "metadata": {},
          "output_type": "execute_result"
        }
      ],
      "source": [
        "df['mc_mul_rec_inf_plan_fam'].value_counts()"
      ]
    },
    {
      "cell_type": "code",
      "execution_count": null,
      "metadata": {
        "colab": {
          "base_uri": "https://localhost:8080/"
        },
        "id": "LYuQ4UJWuo9C",
        "outputId": "ea0b7c01-eadd-44c9-d576-ebde0029a195"
      },
      "outputs": [
        {
          "data": {
            "text/plain": [
              "1.0    22751\n",
              "0.0    13805\n",
              "Name: mc_mul_rec_inf_plan_fam, dtype: int64"
            ]
          },
          "execution_count": 279,
          "metadata": {},
          "output_type": "execute_result"
        }
      ],
      "source": [
        "# adjust values\n",
        "df.loc[df['mc_mul_rec_inf_plan_fam'] == 0.0, 'mc_mul_rec_inf_plan_fam'] = 2.0\n",
        "df.loc[df['mc_mul_rec_inf_plan_fam'] == 1.0, 'mc_mul_rec_inf_plan_fam'] = 0.0\n",
        "df.loc[df['mc_mul_rec_inf_plan_fam'] == 2.0, 'mc_mul_rec_inf_plan_fam'] = 1.0\n",
        "\n",
        "df['mc_mul_rec_inf_plan_fam'].value_counts()"
      ]
    },
    {
      "cell_type": "code",
      "execution_count": null,
      "metadata": {
        "colab": {
          "base_uri": "https://localhost:8080/"
        },
        "id": "8zpresB7vIjM",
        "outputId": "46ee2405-782b-4876-a4e9-3127e954eccb"
      },
      "outputs": [
        {
          "data": {
            "text/plain": [
              "1.0    38883\n",
              "0.0     6257\n",
              "NaN     1428\n",
              "2.0      948\n",
              "Name: mc_get_risco_gestacional, dtype: int64"
            ]
          },
          "execution_count": 280,
          "metadata": {},
          "output_type": "execute_result"
        }
      ],
      "source": [
        "df['mc_get_risco_gestacional'].value_counts(dropna=False)"
      ]
    },
    {
      "cell_type": "code",
      "execution_count": null,
      "metadata": {
        "id": "gjqkNfWYvZJC"
      },
      "outputs": [],
      "source": [
        "# adjust values\n",
        "df.loc[df['mc_get_risco_gestacional'] == 0.0, 'mc_get_risco_gestacional'] = 3.0\n",
        "df.loc[df['mc_get_risco_gestacional'] == 1.0, 'mc_get_risco_gestacional'] = 0.0\n",
        "df.loc[df['mc_get_risco_gestacional'] == 3.0, 'mc_get_risco_gestacional'] = 1.0"
      ]
    },
    {
      "cell_type": "code",
      "execution_count": null,
      "metadata": {
        "colab": {
          "base_uri": "https://localhost:8080/"
        },
        "id": "ujr_gVdvvivv",
        "outputId": "3fc66cf4-2fb2-41f6-c2ec-a54a0704fc3e"
      },
      "outputs": [
        {
          "data": {
            "text/plain": [
              "0.0    38883\n",
              "1.0     6257\n",
              "NaN     1428\n",
              "2.0      948\n",
              "Name: mc_get_risco_gestacional, dtype: int64"
            ]
          },
          "execution_count": 282,
          "metadata": {},
          "output_type": "execute_result"
        }
      ],
      "source": [
        "df['mc_get_risco_gestacional'].value_counts(dropna=False)"
      ]
    },
    {
      "cell_type": "code",
      "execution_count": null,
      "metadata": {
        "colab": {
          "base_uri": "https://localhost:8080/"
        },
        "id": "6Hrkhj8mvnVj",
        "outputId": "ba517812-e99d-4049-cb72-61544def834a"
      },
      "outputs": [
        {
          "data": {
            "text/plain": [
              "5.0    15382\n",
              "4.0    10248\n",
              "6.0     7835\n",
              "2.0     5660\n",
              "3.0     2835\n",
              "1.0     1609\n",
              "7.0     1258\n",
              "8.0      959\n",
              "0.0      557\n",
              "Name: mc_dae_escolaridade, dtype: int64"
            ]
          },
          "execution_count": 283,
          "metadata": {},
          "output_type": "execute_result"
        }
      ],
      "source": [
        "df['mc_dae_escolaridade'].value_counts()"
      ]
    },
    {
      "cell_type": "code",
      "execution_count": null,
      "metadata": {
        "colab": {
          "base_uri": "https://localhost:8080/"
        },
        "id": "VpuKzqjy8cGU",
        "outputId": "f568a6e1-615d-4a51-ed35-6b7b4aa3e719"
      },
      "outputs": [
        {
          "data": {
            "text/plain": [
              "0.0    38883\n",
              "1.0     6257\n",
              "2.0      948\n",
              "Name: mc_get_risco_gestacional, dtype: int64"
            ]
          },
          "execution_count": 288,
          "metadata": {},
          "output_type": "execute_result"
        }
      ],
      "source": [
        "df['mc_get_risco_gestacional'].value_counts()"
      ]
    },
    {
      "cell_type": "code",
      "execution_count": null,
      "metadata": {
        "colab": {
          "base_uri": "https://localhost:8080/"
        },
        "id": "nMc82qpd9be1",
        "outputId": "d963e95d-c4a1-4cce-d998-86e6a5bb6381"
      },
      "outputs": [
        {
          "data": {
            "text/plain": [
              "5.0    18053\n",
              "0.0    15578\n",
              "1.0    11401\n",
              "4.0      319\n",
              "3.0      111\n",
              "2.0       83\n",
              "Name: mc_mul_est_civil, dtype: int64"
            ]
          },
          "execution_count": 289,
          "metadata": {},
          "output_type": "execute_result"
        }
      ],
      "source": [
        "df['mc_mul_est_civil'].value_counts()"
      ]
    },
    {
      "cell_type": "code",
      "execution_count": null,
      "metadata": {
        "colab": {
          "base_uri": "https://localhost:8080/"
        },
        "id": "v2WfV8Xe8pxw",
        "outputId": "3f5e0e27-1847-4ba6-8ca3-f54f9235b26e"
      },
      "outputs": [
        {
          "data": {
            "text/plain": [
              "0.0    19003\n",
              "1.0     4592\n",
              "2.0     1211\n",
              "4.0     1178\n",
              "3.0      402\n",
              "5.0      340\n",
              "6.0       34\n",
              "Name: mc_mul_nivel_inseguranca, dtype: int64"
            ]
          },
          "execution_count": 290,
          "metadata": {},
          "output_type": "execute_result"
        }
      ],
      "source": [
        "df['mc_mul_nivel_inseguranca'].value_counts()"
      ]
    },
    {
      "cell_type": "code",
      "execution_count": null,
      "metadata": {
        "colab": {
          "base_uri": "https://localhost:8080/"
        },
        "id": "bSdVz29r9Azh",
        "outputId": "5f5c83a4-4c89-4a42-973d-14f18a3ec8e6"
      },
      "outputs": [
        {
          "data": {
            "text/plain": [
              "1.0    22751\n",
              "0.0    13805\n",
              "Name: mc_mul_rec_inf_plan_fam, dtype: int64"
            ]
          },
          "execution_count": 291,
          "metadata": {},
          "output_type": "execute_result"
        }
      ],
      "source": [
        "df['mc_mul_rec_inf_plan_fam'].value_counts()"
      ]
    },
    {
      "cell_type": "markdown",
      "metadata": {
        "id": "Z4TPVfLn5Gs8"
      },
      "source": [
        "Numeric columns categorization"
      ]
    },
    {
      "cell_type": "code",
      "execution_count": null,
      "metadata": {
        "colab": {
          "base_uri": "https://localhost:8080/"
        },
        "id": "sJ5v05sP5K3M",
        "outputId": "3cbe931f-044a-435b-bfd3-078cc09b237d"
      },
      "outputs": [
        {
          "data": {
            "text/plain": [
              "NaN    25643\n",
              "1.0    17751\n",
              "0.0     4122\n",
              "Name: idade, dtype: int64"
            ]
          },
          "execution_count": 292,
          "metadata": {},
          "output_type": "execute_result"
        }
      ],
      "source": [
        "df['idade'] = np.where(df['idade'].between(11, 19), 0, df['idade']) # age categorization\n",
        "df['idade'] = np.where(df['idade'].between(20, 51), 1, df['idade'])\n",
        "\n",
        "df['idade'].value_counts(dropna=False)"
      ]
    },
    {
      "cell_type": "code",
      "execution_count": null,
      "metadata": {
        "colab": {
          "base_uri": "https://localhost:8080/"
        },
        "id": "1gr5JtJt6S8l",
        "outputId": "ce6ad11e-4c2a-446a-8190-4ffac8c9b8bb"
      },
      "outputs": [
        {
          "data": {
            "text/plain": [
              "NaN    24795\n",
              "0.0    22660\n",
              "1.0       33\n",
              "2.0       28\n",
              "Name: mc_mul_qtd_aborto, dtype: int64"
            ]
          },
          "execution_count": 293,
          "metadata": {},
          "output_type": "execute_result"
        }
      ],
      "source": [
        "df['mc_mul_qtd_aborto'] = np.where(df['mc_mul_qtd_aborto'].between(0, 4), 0, df['mc_mul_qtd_aborto']) # qtd abortos\n",
        "df['mc_mul_qtd_aborto'] = np.where(df['mc_mul_qtd_aborto'].between(5, 9), 1, df['mc_mul_qtd_aborto'])\n",
        "df['mc_mul_qtd_aborto'] = np.where(df['mc_mul_qtd_aborto'].between(10, 15), 2, df['mc_mul_qtd_aborto'])\n",
        "\n",
        "df['mc_mul_qtd_aborto'].value_counts(dropna=False)"
      ]
    },
    {
      "cell_type": "code",
      "execution_count": null,
      "metadata": {
        "colab": {
          "base_uri": "https://localhost:8080/"
        },
        "id": "pi3HNGck6a11",
        "outputId": "f4009d9f-62a5-474d-f147-0ad397a54494"
      },
      "outputs": [
        {
          "data": {
            "text/plain": [
              "0.0    35377\n",
              "NaN     9398\n",
              "1.0     2496\n",
              "2.0      245\n",
              "Name: mc_mul_qtd_gest, dtype: int64"
            ]
          },
          "execution_count": 294,
          "metadata": {},
          "output_type": "execute_result"
        }
      ],
      "source": [
        "df['mc_mul_qtd_gest'] = np.where(df['mc_mul_qtd_gest'].between(0, 4), 0, df['mc_mul_qtd_gest']) # qtd gestacoes\n",
        "df['mc_mul_qtd_gest'] = np.where(df['mc_mul_qtd_gest'].between(5, 9), 1, df['mc_mul_qtd_gest'])\n",
        "df['mc_mul_qtd_gest'] = np.where(df['mc_mul_qtd_gest'].between(10, 15), 2, df['mc_mul_qtd_gest'])\n",
        "\n",
        "df['mc_mul_qtd_gest'].value_counts(dropna=False)"
      ]
    },
    {
      "cell_type": "code",
      "execution_count": null,
      "metadata": {
        "id": "j4wl72F06bUp"
      },
      "outputs": [],
      "source": [
        "df['mc_mul_qtd_filhos_vivos'] = np.where(df['mc_mul_qtd_filhos_vivos'].between(0, 4), 0, df['mc_mul_qtd_filhos_vivos']) # qtd filhos vivos\n",
        "df['mc_mul_qtd_filhos_vivos'] = np.where(df['mc_mul_qtd_filhos_vivos'].between(5, 9), 1, df['mc_mul_qtd_filhos_vivos'])\n",
        "df['mc_mul_qtd_filhos_vivos'] = np.where(df['mc_mul_qtd_filhos_vivos'].between(10, 15), 2, df['mc_mul_qtd_filhos_vivos'])"
      ]
    },
    {
      "cell_type": "code",
      "execution_count": null,
      "metadata": {
        "colab": {
          "base_uri": "https://localhost:8080/"
        },
        "id": "PHnKcZXR6yFI",
        "outputId": "6f68c7b2-8d16-4e9f-df5e-c4b8e471fed4"
      },
      "outputs": [
        {
          "name": "stdout",
          "output_type": "stream",
          "text": [
            "0.0    46493\n",
            "1.0     1023\n",
            "Name: mc_cri_vdrl, dtype: int64\n",
            "0.0    38883\n",
            "1.0     6257\n",
            "2.0      948\n",
            "Name: mc_get_risco_gestacional, dtype: int64\n",
            "5.0    18053\n",
            "0.0    15578\n",
            "1.0    11401\n",
            "4.0      319\n",
            "3.0      111\n",
            "2.0       83\n",
            "Name: mc_mul_est_civil, dtype: int64\n",
            "0.0    19003\n",
            "1.0     4592\n",
            "2.0     1211\n",
            "4.0     1178\n",
            "3.0      402\n",
            "5.0      340\n",
            "6.0       34\n",
            "Name: mc_mul_nivel_inseguranca, dtype: int64\n",
            "0.0    22660\n",
            "1.0       33\n",
            "2.0       28\n",
            "Name: mc_mul_qtd_aborto, dtype: int64\n",
            "0.0    25296\n",
            "1.0      858\n",
            "2.0       37\n",
            "Name: mc_mul_qtd_filhos_vivos, dtype: int64\n",
            "0.0    35377\n",
            "1.0     2496\n",
            "2.0      245\n",
            "Name: mc_mul_qtd_gest, dtype: int64\n",
            "1.0    22751\n",
            "0.0    13805\n",
            "Name: mc_mul_rec_inf_plan_fam, dtype: int64\n",
            "4.0    43344\n",
            "2.0      746\n",
            "5.0      559\n",
            "1.0      164\n",
            "0.0      159\n",
            "3.0       83\n",
            "Name: mc_mul_tipo_const_casa, dtype: int64\n",
            "5.0    15382\n",
            "4.0    10248\n",
            "6.0     7835\n",
            "2.0     5660\n",
            "3.0     2835\n",
            "1.0     1609\n",
            "7.0     1258\n",
            "8.0      959\n",
            "0.0      557\n",
            "Name: mc_dae_escolaridade, dtype: int64\n",
            "2.0    11607\n",
            "0.0    10547\n",
            "1.0     7575\n",
            "3.0     4065\n",
            "4.0      819\n",
            "Name: mc_dae_rfa, dtype: int64\n",
            "1.0    17751\n",
            "0.0     4122\n",
            "Name: idade, dtype: int64\n"
          ]
        }
      ],
      "source": [
        "for col in df.columns:\n",
        "  print(df[col].value_counts())"
      ]
    },
    {
      "cell_type": "code",
      "execution_count": null,
      "metadata": {
        "colab": {
          "base_uri": "https://localhost:8080/",
          "height": 270
        },
        "id": "Vba6y1qCKjLG",
        "outputId": "31726e46-bd8c-4029-ccfe-c7eb553092bd"
      },
      "outputs": [
        {
          "data": {
            "text/html": [
              "\n",
              "  <div id=\"df-ad31fddb-8f4f-4197-b7e8-00c36186e684\">\n",
              "    <div class=\"colab-df-container\">\n",
              "      <div>\n",
              "<style scoped>\n",
              "    .dataframe tbody tr th:only-of-type {\n",
              "        vertical-align: middle;\n",
              "    }\n",
              "\n",
              "    .dataframe tbody tr th {\n",
              "        vertical-align: top;\n",
              "    }\n",
              "\n",
              "    .dataframe thead th {\n",
              "        text-align: right;\n",
              "    }\n",
              "</style>\n",
              "<table border=\"1\" class=\"dataframe\">\n",
              "  <thead>\n",
              "    <tr style=\"text-align: right;\">\n",
              "      <th></th>\n",
              "      <th>mc_cri_vdrl</th>\n",
              "      <th>mc_get_risco_gestacional</th>\n",
              "      <th>mc_mul_est_civil</th>\n",
              "      <th>mc_mul_nivel_inseguranca</th>\n",
              "      <th>mc_mul_qtd_aborto</th>\n",
              "      <th>mc_mul_qtd_filhos_vivos</th>\n",
              "      <th>mc_mul_qtd_gest</th>\n",
              "      <th>mc_mul_rec_inf_plan_fam</th>\n",
              "      <th>mc_mul_tipo_const_casa</th>\n",
              "      <th>mc_dae_escolaridade</th>\n",
              "      <th>mc_dae_rfa</th>\n",
              "      <th>idade</th>\n",
              "    </tr>\n",
              "  </thead>\n",
              "  <tbody>\n",
              "    <tr>\n",
              "      <th>5</th>\n",
              "      <td>0.0</td>\n",
              "      <td>0.0</td>\n",
              "      <td>0.0</td>\n",
              "      <td>0.0</td>\n",
              "      <td>NaN</td>\n",
              "      <td>NaN</td>\n",
              "      <td>NaN</td>\n",
              "      <td>1.0</td>\n",
              "      <td>4.0</td>\n",
              "      <td>5.0</td>\n",
              "      <td>0.0</td>\n",
              "      <td>NaN</td>\n",
              "    </tr>\n",
              "    <tr>\n",
              "      <th>6</th>\n",
              "      <td>0.0</td>\n",
              "      <td>0.0</td>\n",
              "      <td>5.0</td>\n",
              "      <td>0.0</td>\n",
              "      <td>NaN</td>\n",
              "      <td>NaN</td>\n",
              "      <td>0.0</td>\n",
              "      <td>0.0</td>\n",
              "      <td>4.0</td>\n",
              "      <td>5.0</td>\n",
              "      <td>3.0</td>\n",
              "      <td>NaN</td>\n",
              "    </tr>\n",
              "    <tr>\n",
              "      <th>7</th>\n",
              "      <td>0.0</td>\n",
              "      <td>0.0</td>\n",
              "      <td>5.0</td>\n",
              "      <td>NaN</td>\n",
              "      <td>0.0</td>\n",
              "      <td>0.0</td>\n",
              "      <td>0.0</td>\n",
              "      <td>1.0</td>\n",
              "      <td>4.0</td>\n",
              "      <td>6.0</td>\n",
              "      <td>NaN</td>\n",
              "      <td>1.0</td>\n",
              "    </tr>\n",
              "    <tr>\n",
              "      <th>9</th>\n",
              "      <td>0.0</td>\n",
              "      <td>1.0</td>\n",
              "      <td>5.0</td>\n",
              "      <td>NaN</td>\n",
              "      <td>NaN</td>\n",
              "      <td>0.0</td>\n",
              "      <td>0.0</td>\n",
              "      <td>1.0</td>\n",
              "      <td>4.0</td>\n",
              "      <td>2.0</td>\n",
              "      <td>1.0</td>\n",
              "      <td>1.0</td>\n",
              "    </tr>\n",
              "    <tr>\n",
              "      <th>12</th>\n",
              "      <td>0.0</td>\n",
              "      <td>0.0</td>\n",
              "      <td>1.0</td>\n",
              "      <td>0.0</td>\n",
              "      <td>NaN</td>\n",
              "      <td>0.0</td>\n",
              "      <td>0.0</td>\n",
              "      <td>1.0</td>\n",
              "      <td>4.0</td>\n",
              "      <td>4.0</td>\n",
              "      <td>2.0</td>\n",
              "      <td>1.0</td>\n",
              "    </tr>\n",
              "  </tbody>\n",
              "</table>\n",
              "</div>\n",
              "      <button class=\"colab-df-convert\" onclick=\"convertToInteractive('df-ad31fddb-8f4f-4197-b7e8-00c36186e684')\"\n",
              "              title=\"Convert this dataframe to an interactive table.\"\n",
              "              style=\"display:none;\">\n",
              "        \n",
              "  <svg xmlns=\"http://www.w3.org/2000/svg\" height=\"24px\"viewBox=\"0 0 24 24\"\n",
              "       width=\"24px\">\n",
              "    <path d=\"M0 0h24v24H0V0z\" fill=\"none\"/>\n",
              "    <path d=\"M18.56 5.44l.94 2.06.94-2.06 2.06-.94-2.06-.94-.94-2.06-.94 2.06-2.06.94zm-11 1L8.5 8.5l.94-2.06 2.06-.94-2.06-.94L8.5 2.5l-.94 2.06-2.06.94zm10 10l.94 2.06.94-2.06 2.06-.94-2.06-.94-.94-2.06-.94 2.06-2.06.94z\"/><path d=\"M17.41 7.96l-1.37-1.37c-.4-.4-.92-.59-1.43-.59-.52 0-1.04.2-1.43.59L10.3 9.45l-7.72 7.72c-.78.78-.78 2.05 0 2.83L4 21.41c.39.39.9.59 1.41.59.51 0 1.02-.2 1.41-.59l7.78-7.78 2.81-2.81c.8-.78.8-2.07 0-2.86zM5.41 20L4 18.59l7.72-7.72 1.47 1.35L5.41 20z\"/>\n",
              "  </svg>\n",
              "      </button>\n",
              "      \n",
              "  <style>\n",
              "    .colab-df-container {\n",
              "      display:flex;\n",
              "      flex-wrap:wrap;\n",
              "      gap: 12px;\n",
              "    }\n",
              "\n",
              "    .colab-df-convert {\n",
              "      background-color: #E8F0FE;\n",
              "      border: none;\n",
              "      border-radius: 50%;\n",
              "      cursor: pointer;\n",
              "      display: none;\n",
              "      fill: #1967D2;\n",
              "      height: 32px;\n",
              "      padding: 0 0 0 0;\n",
              "      width: 32px;\n",
              "    }\n",
              "\n",
              "    .colab-df-convert:hover {\n",
              "      background-color: #E2EBFA;\n",
              "      box-shadow: 0px 1px 2px rgba(60, 64, 67, 0.3), 0px 1px 3px 1px rgba(60, 64, 67, 0.15);\n",
              "      fill: #174EA6;\n",
              "    }\n",
              "\n",
              "    [theme=dark] .colab-df-convert {\n",
              "      background-color: #3B4455;\n",
              "      fill: #D2E3FC;\n",
              "    }\n",
              "\n",
              "    [theme=dark] .colab-df-convert:hover {\n",
              "      background-color: #434B5C;\n",
              "      box-shadow: 0px 1px 3px 1px rgba(0, 0, 0, 0.15);\n",
              "      filter: drop-shadow(0px 1px 2px rgba(0, 0, 0, 0.3));\n",
              "      fill: #FFFFFF;\n",
              "    }\n",
              "  </style>\n",
              "\n",
              "      <script>\n",
              "        const buttonEl =\n",
              "          document.querySelector('#df-ad31fddb-8f4f-4197-b7e8-00c36186e684 button.colab-df-convert');\n",
              "        buttonEl.style.display =\n",
              "          google.colab.kernel.accessAllowed ? 'block' : 'none';\n",
              "\n",
              "        async function convertToInteractive(key) {\n",
              "          const element = document.querySelector('#df-ad31fddb-8f4f-4197-b7e8-00c36186e684');\n",
              "          const dataTable =\n",
              "            await google.colab.kernel.invokeFunction('convertToInteractive',\n",
              "                                                     [key], {});\n",
              "          if (!dataTable) return;\n",
              "\n",
              "          const docLinkHtml = 'Like what you see? Visit the ' +\n",
              "            '<a target=\"_blank\" href=https://colab.research.google.com/notebooks/data_table.ipynb>data table notebook</a>'\n",
              "            + ' to learn more about interactive tables.';\n",
              "          element.innerHTML = '';\n",
              "          dataTable['output_type'] = 'display_data';\n",
              "          await google.colab.output.renderOutput(dataTable, element);\n",
              "          const docLink = document.createElement('div');\n",
              "          docLink.innerHTML = docLinkHtml;\n",
              "          element.appendChild(docLink);\n",
              "        }\n",
              "      </script>\n",
              "    </div>\n",
              "  </div>\n",
              "  "
            ],
            "text/plain": [
              "    mc_cri_vdrl  mc_get_risco_gestacional  mc_mul_est_civil  \\\n",
              "5           0.0                       0.0               0.0   \n",
              "6           0.0                       0.0               5.0   \n",
              "7           0.0                       0.0               5.0   \n",
              "9           0.0                       1.0               5.0   \n",
              "12          0.0                       0.0               1.0   \n",
              "\n",
              "    mc_mul_nivel_inseguranca  mc_mul_qtd_aborto  mc_mul_qtd_filhos_vivos  \\\n",
              "5                        0.0                NaN                      NaN   \n",
              "6                        0.0                NaN                      NaN   \n",
              "7                        NaN                0.0                      0.0   \n",
              "9                        NaN                NaN                      0.0   \n",
              "12                       0.0                NaN                      0.0   \n",
              "\n",
              "    mc_mul_qtd_gest  mc_mul_rec_inf_plan_fam  mc_mul_tipo_const_casa  \\\n",
              "5               NaN                      1.0                     4.0   \n",
              "6               0.0                      0.0                     4.0   \n",
              "7               0.0                      1.0                     4.0   \n",
              "9               0.0                      1.0                     4.0   \n",
              "12              0.0                      1.0                     4.0   \n",
              "\n",
              "    mc_dae_escolaridade  mc_dae_rfa  idade  \n",
              "5                   5.0         0.0    NaN  \n",
              "6                   5.0         3.0    NaN  \n",
              "7                   6.0         NaN    1.0  \n",
              "9                   2.0         1.0    1.0  \n",
              "12                  4.0         2.0    1.0  "
            ]
          },
          "execution_count": 299,
          "metadata": {},
          "output_type": "execute_result"
        }
      ],
      "source": [
        "df.head()"
      ]
    },
    {
      "cell_type": "code",
      "execution_count": null,
      "metadata": {
        "id": "AEGV4FM3f8-i"
      },
      "outputs": [],
      "source": [
        "df.to_csv(path+'base_pre_proc_desb_com_nan.csv', index=False) # database preprocessed, imbalanced and with nan"
      ]
    }
  ],
  "metadata": {
    "colab": {
      "provenance": []
    },
    "kernelspec": {
      "display_name": "Python 3",
      "name": "python3"
    },
    "language_info": {
      "name": "python"
    }
  },
  "nbformat": 4,
  "nbformat_minor": 0
}
